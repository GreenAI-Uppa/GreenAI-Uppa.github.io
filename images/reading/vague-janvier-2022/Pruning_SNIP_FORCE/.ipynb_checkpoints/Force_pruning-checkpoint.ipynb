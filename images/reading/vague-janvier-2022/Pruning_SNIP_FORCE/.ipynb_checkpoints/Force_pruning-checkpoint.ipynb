{
 "cells": [
  {
   "cell_type": "markdown",
   "metadata": {
    "slideshow": {
     "slide_type": "slide"
    }
   },
   "source": [
    "# Pruning in Deep Neural Networks"
   ]
  },
  {
   "cell_type": "markdown",
   "metadata": {
    "slideshow": {
     "slide_type": "-"
    }
   },
   "source": [
    "<div><img src=\"Images/horizontal_dark_logo.png\" width = 300px style=\"padding:10px;\"/>\n",
    "\n",
    "<b>Authors</b>: Yanis Chaigneau, Nicolas Tirel\n",
    "\n",
    "<b> Institution </b>: GreenAI UPPA\n",
    "</div>\n"
   ]
  },
  {
   "cell_type": "markdown",
   "metadata": {
    "slideshow": {
     "slide_type": "skip"
    }
   },
   "source": [
    "\n",
    "This notebook spans the state-of-the-art pruning methods in deep neural networks. Pruning is used to remove weights in a neural network, in order to reduce the number of parameters, leading to a faster training without loss in accuracy. Furthermore, it can be used to reduce the energetic consumption of ML algorithms. Indeed, the growing number of parameters in deep learning networks has an impact on the CO2 emissions of the sector, which these methods aim to reduce.\n",
    "\n",
    "In the introduction,the historic of the field is drawn, with the presentation of the skeletonization (Mozer et al, 1989) and the Optimal Brain Damage (Lecun, 1990) pruning methods. A focus is then made on the pruning methods at initialization, with a comparison of three state-of-the-art algorithms: SNIP, GRASP and FORCE."
   ]
  },
  {
   "cell_type": "markdown",
   "metadata": {
    "slideshow": {
     "slide_type": "subslide"
    }
   },
   "source": [
    "Pruning:\n",
    "\n",
    "- Cut connexions in deep neural networks\n",
    "- Reducing the size of a network\n",
    "- Less energy consumption\n",
    "\n",
    "I) Introduction and historics\n",
    "II) Pruning at initialization: SNIP, GRaSP and FORCE\n",
    "III) Comparison"
   ]
  },
  {
   "cell_type": "markdown",
   "metadata": {
    "slideshow": {
     "slide_type": "slide"
    }
   },
   "source": [
    "# Introduction \n",
    "\n",
    "Different methods exist to prune a model. \n",
    " - Pruning trained models\n",
    " - Induce sparsity during training\n",
    " - Pruning at initialization \n",
    " \n",
    " \n",
    " <center><img src=\"images/sparsity.png\" width=800px /></center>\n"
   ]
  },
  {
   "cell_type": "markdown",
   "metadata": {
    "slideshow": {
     "slide_type": "subslide"
    }
   },
   "source": [
    "Evolution of the number of publications containing \"pruning\" in the artificial intelligence field. Source: dimensions.ai\n",
    "\n",
    "\n",
    "<center><img src=\"Images/pruning_citations.png\" /></center>"
   ]
  },
  {
   "cell_type": "markdown",
   "metadata": {
    "slideshow": {
     "slide_type": "slide"
    }
   },
   "source": [
    "## Pruning after training\n",
    "\n",
    "Mozer and Smolensky in 1989: trimming the fat from a network via relevance assessment\n",
    "\n",
    "  <center><img src=\"images/structure_pruning.png\"/></center>\n",
    "\n",
    "\n",
    "The method: <b>Skeletonization</b>"
   ]
  },
  {
   "cell_type": "markdown",
   "metadata": {
    "slideshow": {
     "slide_type": "skip"
    }
   },
   "source": [
    "A method designed by Mozer and Smolensky in 1989 for trimming the fat from a network via relevance assessment. To do so, the <b>relevance</b> of each units is defined and computed, so as to reduce its size and improving its performance.\n",
    "\n",
    "The procedure is the following:"
   ]
  },
  {
   "cell_type": "markdown",
   "metadata": {
    "slideshow": {
     "slide_type": "subslide"
    }
   },
   "source": [
    "#### Algorithm (Mozer et al)\n",
    "\n",
    "\n",
    "    1) Train the network\n",
    "    2) Compute the relevance of the units, so as to find which units have the more weight for the accuracy.\n",
    "    3) Trim the least relevant units\n",
    "    \n",
    "This type of algorithms is useful for many reasons:\n",
    "    - More generalization\n",
    "    - Reduce the energy consumption by removing hidden units\n",
    "    - Enhance interpretability"
   ]
  },
  {
   "cell_type": "markdown",
   "metadata": {
    "slideshow": {
     "slide_type": "subslide"
    }
   },
   "source": [
    "<b>First approach:</b> the relevance of a unit is determined by looking at the activity of each cells. The more the unit of the layer $l$ has many large-weighted connections, the more its activity should influence the other layers: $\\rho_i = \\sum_j w_{ij}$. However, if the effects of different connections cancel out, this is not a great metric. \n",
    "\n",
    "<b>Second approach: </b> The author defines the relevance of unit $i$ following the statement: <b>\"what will happen to the performance of the network when a unit is removed ?\"</b>\n",
    "\n",
    "$$\\rho_i = \\mathcal{L}_{without~unit~i} - \\mathcal{L}_{with~unit~i}$$ where $\\mathcal{L}$ is the training loss.\n"
   ]
  },
  {
   "cell_type": "markdown",
   "metadata": {
    "slideshow": {
     "slide_type": "subslide"
    }
   },
   "source": [
    "<div class=\"alert alert-warning\"><b>Question</b><br>\n",
    "What is the complexity of computing $\\rho$ for all the units if we want to try all the patterns $p$ with $n$ units?\n",
    "</div>"
   ]
  },
  {
   "cell_type": "markdown",
   "metadata": {},
   "source": [
    "<div class=\"alert alert-danger\"><a href=\"#answer1\" data-toggle=\"collapse\"><b>Ready to see the answer? (click to expand)</b></a><br>\n",
    "<div id=\"answer1\" class=\"collapse\">\n",
    "\n",
    "$$\\mathcal{O}(n p)$$ where $n$ is the total number of units in the network and $p$ the number of patterns in the training set.\n",
    "</div>\n",
    "</div>"
   ]
  },
  {
   "cell_type": "markdown",
   "metadata": {
    "slideshow": {
     "slide_type": "subslide"
    }
   },
   "source": [
    "\n",
    "The complexity is too large, we need to approximate the computation of $\\rho$. To do so, we define $\\alpha_i$ as the <b>attentional strength</b> of the unit, based on the attention mechanism. The idea of this coefficient is to represent whether a unit has an influence on the rest of the network. It simply weights the activation of a neuron j:\n",
    "\n",
    "$$y_j = f(\\sum_i w_{ij} \\alpha_i x_{ij})$$\n",
    "\n",
    "where $x_{ij}$ is the input from neuron $i$ to this neuron, $f$ the activation function, and $w_{ij}$ the input weights. Thus:\n",
    "\n",
    "- if $\\alpha_i = 0$, unit $i$ does not have any influence on the rest of the network\n",
    "- if $\\alpha_i = 1$, unit $i$ is a conventional unit.\n"
   ]
  },
  {
   "cell_type": "markdown",
   "metadata": {
    "slideshow": {
     "slide_type": "subslide"
    }
   },
   "source": [
    "\n",
    "The following figure depicts the attentional strength coefficients on a simple feed-forward neural network:\n",
    "\n",
    "<center><img src=\"images/attentional_strength.png\" /></center>\n"
   ]
  },
  {
   "cell_type": "markdown",
   "metadata": {
    "slideshow": {
     "slide_type": "subslide"
    }
   },
   "source": [
    "We then obtain a new definition for $\\rho$:\n",
    "\n",
    "$$\\rho_i = \\mathcal{L}_{\\alpha_i = 0} - \\mathcal{L}_{\\alpha_i = 1}$$\n",
    "\n",
    "With this definition, we can approximate the relevance of the units. To do so, let's use the derivative of the error with respect to $\\alpha$:\n",
    "\n",
    "$$\\frac{\\partial{\\mathcal{L}}}{\\partial \\alpha_i} \\Bigr|_{\\substack{\\alpha_i = 1}}= \\lim_{\\gamma \\rightarrow 1} \\frac{\\mathcal{L}_{\\alpha_i = \\gamma} - \\mathcal{L}_{\\alpha_i = 1}}{\\gamma - 1}$$\n",
    "\n",
    "The approximation is made assuming it holds approximately for $\\gamma = 0$:\n",
    "\n",
    "$$\\frac{\\partial{\\mathcal{L}}}{\\partial \\alpha_i} \\Bigr|_{\\substack{\\alpha_i = 1}}= \\frac{\\mathcal{L}_{\\alpha_i = 0} - \\mathcal{L}_{\\alpha_i = 1}}{- 1} = - \\rho_i$$\n",
    "\n",
    "Thus, we define $$\\boxed{\\hat{\\rho}_i = - \\frac{\\partial{\\mathcal{L}}}{\\partial \\alpha_i}} $$ with $\\alpha_i$ supposed to be constant to $1$ and thus not being part of the trainable parameters of the systems."
   ]
  },
  {
   "cell_type": "markdown",
   "metadata": {
    "slideshow": {
     "slide_type": "subslide"
    }
   },
   "source": [
    "Empirically, the authors defines the estimator of the relevance with the weighted average:\n",
    "\n",
    "$$\\boxed{\\hat \\rho_i (t+1) = 0.8 \\hat \\rho_i (t) + 0.2 \\frac{\\partial \\mathcal{L} (t)}{\\partial \\alpha_i}}$$\n",
    "\n",
    "The relevancy parameters can then be learned in a similar way as backpropagation.\n",
    "\n",
    "The loss used to compute the relevancy parameters is the linear loss:\n",
    "\n",
    "$$\\mathcal{L} = \\sum |\\hat{y} - y|$$"
   ]
  },
  {
   "cell_type": "markdown",
   "metadata": {
    "slideshow": {
     "slide_type": "subslide"
    }
   },
   "source": [
    "<div class=\"alert alert-warning\"><b>Question</b><br>\n",
    "Does you see why the quadratic loss is not a good choice ?\n",
    "</div>"
   ]
  },
  {
   "cell_type": "markdown",
   "metadata": {},
   "source": [
    "<div class=\"alert alert-danger\"><a href=\"#answer2\" data-toggle=\"collapse\"><b>Ready to see the answer? (click to expand)</b></a><br>\n",
    "<div id=\"answer2\" class=\"collapse\">\n",
    "    \n",
    "\n",
    "Because the derivative of the loss goes to zero as the total error decreases, which will make the relevance of all the units tend to zero as the error decreases.\n",
    "   \n",
    "Then, it grossly underestimates the relevance of the outputs that are close to the target!.\n",
    "    \n",
    "</div>\n",
    "</div>"
   ]
  },
  {
   "cell_type": "markdown",
   "metadata": {
    "slideshow": {
     "slide_type": "subslide"
    }
   },
   "source": [
    "### The algorithm"
   ]
  },
  {
   "cell_type": "markdown",
   "metadata": {},
   "source": [
    "<div style=\"background-color:rgba(0, 0, 0, 0.0470588); padding:10px 0;font-family:monospace;\">\n",
    "For $t \\in [0, \\dots, T]$: <br />\n",
    "&nbsp;&nbsp;&nbsp;&nbsp;Train the network until all output unit activities are within some specified margin around the target value <br />\n",
    "&nbsp;&nbsp;&nbsp;&nbsp;Compute $\\hat \\rho_i$ for each unit $i$; <br />\n",
    "&nbsp;&nbsp;&nbsp;&nbsp;Remove the unit with the smallest relevance\n",
    "\n",
    "</div>"
   ]
  },
  {
   "cell_type": "markdown",
   "metadata": {
    "slideshow": {
     "slide_type": "subslide"
    }
   },
   "source": [
    "In python, a possible implementation can be the following (taken from Sébastien Lousteau)"
   ]
  },
  {
   "cell_type": "code",
   "execution_count": null,
   "metadata": {
    "slideshow": {
     "slide_type": "-"
    }
   },
   "outputs": [],
   "source": [
    "import torch\n",
    "\n",
    "def forward(model,alpha, x):\n",
    "        x = model.activations[0](model.conv1(x))\n",
    "        x = x.view(-1, model.nb_filters * 8 * 8)\n",
    "        x = [torch.mul(elt,alpha) for elt in x]\n",
    "        x = torch.stack(x)\n",
    "        x = model.fc1(x)\n",
    "        return x"
   ]
  },
  {
   "cell_type": "code",
   "execution_count": null,
   "metadata": {
    "slideshow": {
     "slide_type": "subslide"
    }
   },
   "outputs": [],
   "source": [
    "def relevance(model,test_dataloader):\n",
    "    autograd_tensor = torch.ones((model.nb_filters * 8 * 8), requires_grad=True)\n",
    "    loss_fn = torch.nn.CrossEntropyLoss()\n",
    "    num_items_read = 0\n",
    "    device = next(model.parameters()).device\n",
    "    gg = []\n",
    "    lengths = []\n",
    "    for _, (X, y) in enumerate(test_dataloader):\n",
    "        if 100000 <= num_items_read:\n",
    "            break\n",
    "        X = X[:min(100000 - num_items_read, X.shape[0])]\n",
    "        y = y[:min(100000 - num_items_read, X.shape[0])]\n",
    "        num_items_read = min(100000, num_items_read + X.shape[0])\n",
    "        X = X.to(device)\n",
    "        y = y.to(device)\n",
    "        pred = forward(model,autograd_tensor,X)\n",
    "        loss = loss_fn(pred, y)\n",
    "        gg.append(torch.autograd.grad(loss, autograd_tensor, retain_graph=True))\n",
    "        lengths.append(X.shape[0])\n",
    "    tensor_gg = torch.tensor([list(gg[k][0]) for k in range(len(gg))])\n",
    "    result = torch.mean(tensor_gg,0)\n",
    "    return(-result)"
   ]
  },
  {
   "cell_type": "code",
   "execution_count": null,
   "metadata": {
    "slideshow": {
     "slide_type": "subslide"
    }
   },
   "outputs": [],
   "source": [
    "def skeletonization(model,size,dataloader):\n",
    "    relevance_ = relevance(model,dataloader)\n",
    "    keep_indices = np.argsort(-np.array(relevance_))[:size]\n",
    "    skeletone = ConvNet(model.nb_filters,model.channels)\n",
    "    skeletone.conv1.weight.data = copy.deepcopy(model.conv1.weight.data)\n",
    "    skeletone.fc1.weight.data = copy.deepcopy(model.fc1.weight.data)\n",
    "    for index in set(range(4096))-set(keep_indices):\n",
    "        skeletone.fc1.weight.data[:,index] = torch.zeros(10)\n",
    "    return(skeletone)"
   ]
  },
  {
   "cell_type": "markdown",
   "metadata": {
    "slideshow": {
     "slide_type": "skip"
    }
   },
   "source": [
    "### An example"
   ]
  },
  {
   "cell_type": "markdown",
   "metadata": {
    "slideshow": {
     "slide_type": "skip"
    }
   },
   "source": [
    "Let's consider the following example taken from the official paper of Mozer and Smolensky:\n",
    "\n",
    "<img src=\"images/example_mozer.png\" width=200px></img>"
   ]
  },
  {
   "cell_type": "code",
   "execution_count": 1,
   "metadata": {
    "slideshow": {
     "slide_type": "skip"
    }
   },
   "outputs": [],
   "source": [
    "## Generate the problem data\n",
    "import random\n",
    "import numpy as np\n",
    "import matplotlib.pyplot as plt\n",
    "from sklearn.model_selection import train_test_split\n",
    "\n",
    "N = 500\n",
    "X = []\n",
    "y = []\n",
    "\n",
    "for i in range(N):\n",
    "    A = random.randint(0, 1)\n",
    "    B = random.randint(0, 1)\n",
    "    C = random.randint(0, 1)\n",
    "    D = random.randint(0, 1)\n",
    "    \n",
    "    X.append([A, B, C, D])\n",
    "    \n",
    "    if (A and B) or (not(A) and not(B) and not(C) and not(D)):\n",
    "        y.append(1)\n",
    "    else:\n",
    "        y.append(-1)\n",
    "\n",
    "X = np.array(X)\n",
    "y = np.array(y)\n",
    "\n",
    "X_train, X_test, y_train, y_test = train_test_split(X,y, test_size=0.2)"
   ]
  },
  {
   "cell_type": "markdown",
   "metadata": {
    "slideshow": {
     "slide_type": "slide"
    }
   },
   "source": [
    "## Optimal Brain Damage "
   ]
  },
  {
   "cell_type": "markdown",
   "metadata": {},
   "source": [
    "Optimal Brain Damage (OBD) has been developed in 1990 by Le Cun et al and is also used to reduce the size of a learning network by deleting weights. It consists in a trade off between the training error and the network complexity.\n",
    "\n",
    "This technique uses the second derivative of the objective function to compute the \"saliency\" of the parameters. Here, saliency is not equal to the magnitude of the weights, and a theoretical framework is developed. \n"
   ]
  },
  {
   "cell_type": "markdown",
   "metadata": {
    "slideshow": {
     "slide_type": "subslide"
    }
   },
   "source": [
    "The saliency of a parameter in this method is computed accordingly to the objective function which changes with the deletion of the parameters. The pruning is considered as a perturbation on the weight matrix. For that, we consider a perturbation of the parameter vector $\\delta U$. This perturbation will affect the loss as:\n",
    "\n",
    "$$\\delta \\mathcal{L} = \\sum \\limits_i g_i \\delta u_i + \\frac{1}{2} \\sum \\limits_i h_{ii} \\delta u_i^2 + \\frac{1}{2} \\sum \\limits_{i \\not j} h_{ij} \\delta u_i \\delta u_j + \\mathcal(O)(||\\delta U||^3)$$\n",
    "\n",
    "where $\\delta u_i$ are the components of $\\delta U$, $g_i$ the components of $\\frac{\\partial \\mathcal{L}}{\\partial U}$ and $h_i$ the components of the hessian matrix $h_{ij} = \\frac{\\partial^2 \\mathcal{L}}{\\partial u_i \\partial u_j}$\n",
    "\n",
    "After some assumptions, we reduce the equation to:\n",
    "\n",
    "$$\\delta \\mathcal{L} = \\frac{1}{2} \\sum \\limits_i h_{ii} \\delta u_i^2$$\n",
    "\n",
    "\n",
    "The second derivatives are then calculated with a backpropagation procedure.\n"
   ]
  },
  {
   "cell_type": "markdown",
   "metadata": {
    "slideshow": {
     "slide_type": "subslide"
    }
   },
   "source": [
    "#### The Algorithm\n",
    "\n",
    "<div style=\"background-color:rgba(0, 0, 0, 0.0470588); padding:10px 0;font-family:monospace;\">\n",
    "For $t \\in [0, \\dots, T]$: <br />\n",
    "&nbsp;&nbsp;&nbsp;&nbsp;Train the network until convergence <br />\n",
    "&nbsp;&nbsp;&nbsp;&nbsp;Compute the second derivatives for each parameters $h_{kk}$ <br />\n",
    "&nbsp;&nbsp;&nbsp;&nbsp;Compute the saliencies for each parameter $s_k = h_{kk} u_k^2/2$ <br />\n",
    "&nbsp;&nbsp;&nbsp;&nbsp;Delete the lowest saliency parameters\n",
    "</div>"
   ]
  },
  {
   "cell_type": "markdown",
   "metadata": {},
   "source": [
    "Implementation: https://github.com/shekkizh/TensorflowProjects/blob/master/Model_Pruning/OptimalBrainDamage.py"
   ]
  },
  {
   "cell_type": "markdown",
   "metadata": {
    "slideshow": {
     "slide_type": "slide"
    }
   },
   "source": [
    "## Sparsify during training"
   ]
  },
  {
   "cell_type": "markdown",
   "metadata": {},
   "source": [
    "Example:  A BACK-PROPAGATION ALGORITHM WITH OPTIMAL USE OF HIDDEN UNITS (Chauvin, 1988)\n",
    "\n",
    "<center><img src=\"Images/Chauvin.png\" width=600px/></center>"
   ]
  },
  {
   "cell_type": "markdown",
   "metadata": {
    "slideshow": {
     "slide_type": "slide"
    }
   },
   "source": [
    "## Pruning at initialization"
   ]
  },
  {
   "cell_type": "markdown",
   "metadata": {},
   "source": [
    "Another class of pruning algorithms prune at initialization.\n",
    "\n",
    "\n",
    "<center><img src=\"Images/pruning_initialization.png\" /></center>\n",
    "\n",
    "The three main algorithms that will be presented here are:\n",
    "- SNIP\n",
    "- GRASP\n",
    "- FORCE\n",
    "\n",
    "This kind of algorithms can be seen as a form of Neural Architecture Search.\n"
   ]
  },
  {
   "cell_type": "markdown",
   "metadata": {
    "slideshow": {
     "slide_type": "slide"
    }
   },
   "source": [
    "# SNIP : SINGLE-SHOT NETWORK PRUNING BASED ON CONNECTION SENSITIVITY"
   ]
  },
  {
   "cell_type": "markdown",
   "metadata": {},
   "source": [
    "##  The idea"
   ]
  },
  {
   "cell_type": "markdown",
   "metadata": {},
   "source": [
    "Prune a neural network with the solution provided by Namhoon Lee et al. (2019) aimed the same purpose as the orginal paper from Mozer & Smolensky (1989). Indeed, the big advantages of a pruned network is a network simpler, more versatile and more interpretable. At the end, they achieve a good results with a pruned network with the same accuracy as existing baselines across all tested architectures."
   ]
  },
  {
   "cell_type": "markdown",
   "metadata": {
    "slideshow": {
     "slide_type": "subslide"
    }
   },
   "source": [
    "## The maths behind"
   ]
  },
  {
   "cell_type": "markdown",
   "metadata": {},
   "source": [
    "From a dataset $\\mathcal{D} = {(x_i,y_i)}^n_{i=1}$ and a desired sparsity level $\\mathcal{K}$ (the number of non-zero weights), we write the network pruning as the constrained optimization problem :\n",
    "$$\\min_wL(w;\\mathcal{D}) = \\min_w\\frac{1}{n}\\sum^n_{i=1}l(w;(x_i,y_i)),$$ $${s.t.~} w\\in\\mathbb{R}^m, ||w||_0 \\leq \\mathcal{K}.$$\n",
    "\n",
    "l(.) -> standard loss function (e.g. cross-entropy)\n",
    "\n",
    "w -> set of parameters of the NN\n",
    "\n",
    "m-> total number of parameters\n",
    "\n",
    "$||.||_0$ the standard $L_0$ norm\n"
   ]
  },
  {
   "cell_type": "markdown",
   "metadata": {
    "slideshow": {
     "slide_type": "subslide"
    }
   },
   "source": [
    "As we shown earlier, we can optimize this problem by adding sparsity enforcing penalty terms, but those solutions involve hyperparameter settings heavily tuned, and turn out to be inferior to saliency based methods.\n",
    "The latter selectively remove redundant parameters with the magnitude of the weights (below certain threshold and redundant) and Hessian of the loss with respect to the weights  (high value of Hessian means high importance for the parameter)\n",
    "$$ \n",
    "    s_j =\\left\\{\n",
    "                \\begin{array}{ll}\n",
    "                  |w_j|, \\text{ for magnitude based},\\\\\n",
    "                  \\frac{w_j^2 H_{jj}}{2}, \\text{ for Hessian based.}\n",
    "                \\end{array}\n",
    "              \\right.\n",
    "   $$\n",
    "\n",
    "We have for connection j:\n",
    "\n",
    "$s_j$ the saliency score\n",
    "\n",
    "$w_j$ the weight\n",
    "\n",
    "$H_{jj}$ the value of the Hessian matrix where the Hessian $H = \\frac{∂^2L}{∂w^2} \\in \\mathbb{R}^{m*m}$\n",
    "\n"
   ]
  },
  {
   "cell_type": "markdown",
   "metadata": {
    "slideshow": {
     "slide_type": "subslide"
    }
   },
   "source": [
    "The problem of optimization can be written as :\n",
    "\n",
    "$$ \\min_{c,w} L(c ⊙ w; \\mathcal{D}) = \\min_{c,w} \\frac{1}{n} \\sum^n_{i=1} l(c ⊙ w; (x_i, y_i)), $$\n",
    "$$ {s.t.~} w\\in \\mathbb{R^m},~ c\\in \\{0,1\\}^m,~ ||c||_0 \\leq \\mathcal{K}  $$"
   ]
  },
  {
   "cell_type": "markdown",
   "metadata": {
    "slideshow": {
     "slide_type": "subslide"
    }
   },
   "source": [
    "The main idea is to separate the weight of the connection (w) from whether the connection is present or not (c). The value of $c_j$ indactes if the connection is active (=1) or pruned (=0). Therefore we can measure the effect of connection on the loss when $c_j=1$ and $c_j=0$ keeping everything else constant. We measure the effect then with :\n",
    "\n",
    "$$\\Delta L_j(\\text{w};\\mathcal{D}) = L(1\\odot \\text{w};\\mathcal{D}) - L((1-e_j)\\odot \\text{w}; \\mathcal{D}),$$\n",
    "\n",
    "where $e_j$ indicates the element j (zeros everywhere except at the index j) and 1 the vector of dimension m (positive is improving, negative the opposite).\n",
    "Because c is binary, to compute each $\\Delta L_j$ is expensive and requires $m+1$ forward passes over the dataset, so by relaxing the constraint, we can approximate $\\Delta L_j$ by the derivate of $L$ with respect to $c_j$, denote $g_j(\\text{w};\\mathcal{D})$. We obtain the following effect :\n",
    "\n",
    "$$ \\Delta L_j(\\text{w}; \\mathcal{D}) ≈ g_j(\\text{w};\\mathcal{D}) = \\frac{∂L(c \\odot \\text{w}; \\mathcal{D})}{∂c_j}|_{c=1} = \\lim_{δ→0} \\frac{L(c\\odot \\text{w}; \\mathcal{D}) - L((c-\\delta e_j) \\odot \\text{w}; \\mathcal{D})}{δ} |_{c=1}\n",
    "$$\n",
    "\n",
    "This formulation can be viewed as perturbing the weight $w_j$ by a multilplicative factor $δ$ and measuring the change in loss."
   ]
  },
  {
   "cell_type": "markdown",
   "metadata": {
    "slideshow": {
     "slide_type": "subslide"
    }
   },
   "source": [
    "To this end, they take the magnitude of the derivatives $g_j$ as the saliency criterion, and define connection sensitivity as the normalized magnitude of the derivatives :\n",
    "$$\n",
    "s_j = \\frac{|g_j(\\text{w};\\mathcal{D})|}{∑^m_{k=1}|g_j(\\text{w};\\mathcal{D})|}\n",
    "$$\n",
    "After the computing, only the top-K ocnnections are retained, where k denotes the desired number of non-zero weights :\n",
    "$$\n",
    "c_j = \\mathbf{1}[s_j - s_k ≥ 0 ], ∀j∈\\{1~...m\\},\n",
    "$$\n",
    "where $s_k$ is the $k$-th largest element in the vector s and $1[.]$ is the indicator function (for precision, we can broke ties aribtrarily )\n",
    "\n",
    "The criteria depend on the loss value before pruning, require pre-training and iterative optimization cycles for a minimal loss in performance (+ magnitude and Hessian method very sensitive to the architectural choices)"
   ]
  },
  {
   "cell_type": "markdown",
   "metadata": {
    "slideshow": {
     "slide_type": "subslide"
    }
   },
   "source": [
    "## Algorithm"
   ]
  },
  {
   "cell_type": "markdown",
   "metadata": {},
   "source": [
    "From the loss function $L$, trianing dataset $D$, sparsity level $k$\n",
    "\n",
    "Ensure that $||w*||_0≤k$"
   ]
  },
  {
   "cell_type": "markdown",
   "metadata": {},
   "source": [
    "![image.png](data:image/png;base64,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)"
   ]
  },
  {
   "cell_type": "markdown",
   "metadata": {
    "slideshow": {
     "slide_type": "subslide"
    }
   },
   "source": [
    "#### The Algorithm\n",
    "    \n",
    "    (1) Sample a mini-bacth of training data\n",
    "    (2) compute saliency criterion (connection sensitivity) \n",
    "    (3) pruning: choose top-K connections\n",
    "    (4) regular training"
   ]
  },
  {
   "cell_type": "markdown",
   "metadata": {
    "slideshow": {
     "slide_type": "subslide"
    }
   },
   "source": [
    "### Implementation in Python"
   ]
  },
  {
   "cell_type": "markdown",
   "metadata": {
    "slideshow": {
     "slide_type": "-"
    }
   },
   "source": [
    "#### Sample mini-batches"
   ]
  },
  {
   "cell_type": "code",
   "execution_count": null,
   "metadata": {},
   "outputs": [],
   "source": [
    "def prune(args, model, sess, dataset):\n",
    "    print('|========= START PRUNING =========|')\n",
    "    # sample a mini-batch (by default 100)\n",
    "    batch = dataset.get_next_batch('train', args.batch_size)\n",
    "    feed_dict = {}\n",
    "    feed_dict.update({model.inputs[key]: batch[key] for key in ['input', 'label']})\n",
    "    feed_dict.update({model.compress: True, model.is_train: False, model.pruned: False})\n",
    "    result = sess.run([model.outputs, model.sparsity], feed_dict)\n",
    "    print('Pruning: {:.3f} global sparsity'.format(result[-1])"
   ]
  },
  {
   "cell_type": "markdown",
   "metadata": {
    "slideshow": {
     "slide_type": "subslide"
    }
   },
   "source": [
    "#### Pruning"
   ]
  },
  {
   "cell_type": "code",
   "execution_count": null,
   "metadata": {
    "slideshow": {
     "slide_type": "-"
    }
   },
   "outputs": [],
   "source": [
    "import tensorflow as tf\n",
    "from model import Model\n",
    "from dataset import Dataset\n",
    "\n",
    "dataset = Dataset(**vars(args))\n",
    "model = Model(num_classes=dataset.num_classes, **vars(args))\n",
    "model.construct_model()\n",
    "sess = tf.InteractiveSession()\n",
    "tf.global_variables_initializer().run()\n",
    "tf.local_variables_initializer().run()\n",
    "\n",
    "# Prune\n",
    "prune.prune(args, model, sess, dataset)"
   ]
  },
  {
   "cell_type": "markdown",
   "metadata": {
    "slideshow": {
     "slide_type": "subslide"
    }
   },
   "source": [
    "#### Sort the top k-values "
   ]
  },
  {
   "cell_type": "code",
   "execution_count": null,
   "metadata": {
    "slideshow": {
     "slide_type": "-"
    }
   },
   "outputs": [],
   "source": [
    "# sort all the scores to obtains only the top-k% (by default top-10%)\n",
    "def create_sparse_mask(mask, target_sparsity):\n",
    "    def threshold_vec(vec, target_sparsity):\n",
    "        num_params = vec.shape.as_list()[0]\n",
    "        kappa = int(round(num_params * (1. - target_sparsity)))\n",
    "        topk, ind = tf.nn.top_k(vec, k=kappa, sorted=True)\n",
    "        mask_sparse_v = tf.sparse_to_dense(ind, tf.shape(vec),\n",
    "            tf.ones_like(ind, dtype=tf.float32), validate_indices=False)\n",
    "        return mask_sparse_v\n",
    "    if isinstance(mask, dict):\n",
    "        mask_v, restore_fn = vectorize_dict(mask)\n",
    "        mask_sparse_v = threshold_vec(mask_v, target_sparsity)\n",
    "        return restore_fn(mask_sparse_v)\n",
    "    else:\n",
    "        return threshold_vec(mask, target_sparsity)"
   ]
  },
  {
   "cell_type": "markdown",
   "metadata": {
    "slideshow": {
     "slide_type": "subslide"
    }
   },
   "source": [
    "#### Compute saliencies"
   ]
  },
  {
   "cell_type": "code",
   "execution_count": null,
   "metadata": {
    "slideshow": {
     "slide_type": "-"
    }
   },
   "outputs": [],
   "source": [
    "# In the construction of the model\n",
    "def get_sparse_mask():\n",
    "  w_mask = apply_mask(weights, mask_init)\n",
    "  logits = net.forward_pass(w_mask, self.inputs['input'],\n",
    "      self.is_train, trainable=False)\n",
    "  loss = tf.reduce_mean(compute_loss(self.inputs['label'], logits))\n",
    "  grads = tf.gradients(loss, [mask_init[k] for k in prn_keys])\n",
    "  gradients = dict(zip(prn_keys, grads))\n",
    "  # saliency score :\n",
    "  cs = normalize_dict({k: tf.abs(v) for k, v in gradients.items()})\n",
    "  return create_sparse_mask(cs, self.target_sparsity)\n",
    "\n",
    "mask = tf.cond(self.compress, lambda: get_sparse_mask(), lambda: mask_prev)"
   ]
  },
  {
   "cell_type": "markdown",
   "metadata": {},
   "source": [
    "Repo public tensorflow : https://github.com/namhoonlee/snip-public\n",
    "\n",
    "Repo non officiel pytorch : https://github.com/mil-ad/snip\n",
    "\n",
    "Article : https://arxiv.org/pdf/1810.02340.pdf"
   ]
  },
  {
   "cell_type": "markdown",
   "metadata": {
    "slideshow": {
     "slide_type": "subslide"
    }
   },
   "source": [
    "### Results"
   ]
  },
  {
   "cell_type": "markdown",
   "metadata": {},
   "source": [
    "![image.png](data:image/png;base64,iVBORw0KGgoAAAANSUhEUgAAAqYAAADLCAYAAAC8jlEyAAAgAElEQVR4XuydCVxPWf/H3/MwBmPfd0OMLVmyZI2QXVHIlizZym6EJrKFLA3Kvu87jX1L9owKqbE3Y00aYsjImP/8z72/X/VroyiVOfd5Pa9J3XuWzzn3ez/nu371r7iQl0RAIiARkAhIBCQCEgGJgEQgjRH4ShLTNF4B2b1EQCIgEZAISAQkAhIBiYCKgCSmciNIBCQCEgGJgERAIiARkAikCwQkMU0XyyAHIRGQCEgEJAISAYmAREAiIImp3AMSAYmAREAiIBGQCEgEJALpAgFJTNPFMshBSAQkAhIBiYBEQCIgEZAISGIq94BEQCIgEZAISAQkAhIBiUC6QEAS03SxDHIQEgGJgERAIiARkAhIBCQCySamI0eOlKhJBCQCEgGJgERAIiARkAhIBD4aAWNjY8zNzeM9n2xiWqZMmY8ehHxQIiARkAhIBCQCEgGJgERAIqCQUjc3t08nphJKiYBEQCIgEZAISAQkAhIBiUBqIJBsjWlqDEK2KRGQCEgEJAISAYmAREAiIBGQxFTuAYmAREAiIBGQCEgEJAISgXSBgCSm6WIZ5CAkAhIBiYBEQCIgEZAISAQkMZV7QCIgEZAISAQkAhIBiYBEIF0gIIlpulgGOYhPQiAynIehL/lH20i2/KUo+O37Wowk/GEoL8UDmXIWpnjeb9SbI8MfEqr8Urmy5afU+xtJpIMIwu49J3Ph4mib1dwXEca9p2/JGef3mj6zkL9UQd47ZMSYw9+RN6/uXUpfT3mrM4f39fVJGKfAw7HwJVsS5qyZ31/qcsSsaUTYPZ4qvxSX7volZ4gxbbzmyqUnNDZrTO7EVjSqP2VP5HpL2OvsFIy1uHEejLPWal9vc1K4eF40O01eEoHUQSAiLAwKJiZLQvHfvpalSy5SY9F2BlXQjiHyFqdWbmDu+pfYnZ+HsZBJf2YpnoAMFe/jw7fkSsl9LGR3+Lu8xBJrHwuNaOuD7+bHtp1RnhOyJ4yCH/j+xZ1MJLdOrWTJ5BOU190XaThnSUzTEHzZdcohEHFyFJWauFF52X08bUt8mABE+DO5gSHOj3qx5+o6zAorY4nk5k/NMPIZybUtFqi/ineFsmX6bmo4DiJKrkfdEhnghtXIB9RrFMicmUFY7LrK4jZ5iQxwpWG/P5i5oDwL+uzAbOdh+laBUE9rjFc1YvWwWwyz+4dZ5+dikjd+jxHXtzGm5wBWV17Lm3VmmhsiA3Bt2I8/Zi6g/II+7DDbyWHRaGJ9pRzSn9JSBCdHVaKJW2WW3ffEtsSHaVrkg230NujKHr1Z/HJmLAbqIxEc7F+S8WW9uTDBIOG1Dt3C9N01cIz++uqMO/IoQ/R6cCBzdvWXzeZeYqVFfOBDz7gyyHoJrwctZ75Vef7ymUI365VknRLI5bFiARPaHZ796XS2HVOye/DD64H88MyNS+2mkN3jB16PO4Frs8To76fgKp+VCCgywQfHKj35euttnA0TQSTIler6m+geeJlYW1jIoq9EOsk9/87iebsyOOqf4MHMeqIRHXl3fhwlmgYy/bd99C76qYi/4MLSPvQavhujrf8SJdY+pdXQDWbo7erG/V1WJCBGP6XpT3g2Ep/pP/GnowOmn9BK0h4VfTlWoefXW7md6AZI5r5IWscpfpckpikOqWwwTRBQBa4DBnsSEXJarapQWUZrSD2tv8J8PXxTS4f0CAFd/YZDNPHQaNaitHsR+Ls0of6mlhw5MBzDWFrOF5xacYD8/bsh6CE7rbLSI8d+3qwojHO5WlxyfoZnz7xCcJSiyTVXQlZCv6JjqeR9j+lG4Wwwy4dzDd8EBIpGU3pqeA7M2cO/Wgnu51yOWpeceebZk7w+jpRqcg3XEEeu106gr3QkqINcq6PvYCA+gOIwkNBGUbWNf+loSINwra6PwxWhCOq1h6ti/sqBQWlnVoXL2g+aVgOOVispDh0uTeqzqeURDgw3jKf5Dt/SCdObP+I9sWbiWurQDZiV7sXdOCRU+fi1e+TCReWrrt1TWVRtrjIGPxa0bcD2dic50K8k/4Sso2OD7bQ7eYDBVTX7LvZ+SpM3RXb6hSKg7Oui3XaTffARQha1iHNg01pXQjbQ1mhbDDGN2sM+P1Koq0JMNe9lRHg4mfNmISiuvIul4YyyPMW2fkSGh/E6e3behcaxHMWzGnlirWHDKUBM/VQ5O/lOA9zvnMGurGaRoywj2fIXJvNzjZUsnvWF2NYxzfhzwR+h4r/Ke4tqYdP8rD1MJ/A9UaxiYeRS+3mXRyMTHuy0pablX7je/UkoP+JY0VJ6H4ZvoVPRbuzOPpgjIYtooXPuV+eUJTOvn0MBVeOttUZFWQajDyxn6ZPzKcKclUyta8pORhLTlMVTtpZWCLyPmIYKAWh9mUEz8/JjvWmU3XWDFUKT6WldnbP6BqxxEOw0ivREE9NyBLh2YE7xmXQ51xnLX+zwO2PDi6mNaLDHnJPxiKnOxBXNhckkSi3+mYHfLKJ2xZV0vBKIUO4RudOKrJZZ2LM/C13bvmLjmy1YCAES4KJPtW3WBF4eK4ht/Esl0dHE9AZutSuysuMVAjWNYpXVkiwe87hml0BfiZHANFir9xFTRdvbYU5xZnY5R2fLX7Dzu8jIKgoxncq77neY4nCVqrN+4cxYA25HE9NQsY7WXB40k7w/1mNa2V0EzM6De6MG7DEXBDEeMQ1hU/faDNn1kBeZy2A+awcb7OIT1PtLTSg1CJbc82JgSR2gwgM4d78k9TNtpEHnAH7YaMyWlj9R98QZbPJcYG5LY02/CjG9v5L2xnswV4lpHp4u7xx7P10cmeBap8GyyC4zPALBeDS05kWHQkyZ+Jz5v4p9qyVninXFreUw/nByo9ralnRdX4xZisa0gCf9226mwfJhhAwwwdG3C3veuJBnRlfa7jHjwgXbWPKu4ut9DGs+WMiZN6xrJdo0GUzIlJV0uzeB9k758PAbT56VY+jseJIcJj3oVfwgs7wsOfJgJlUPDKbqHD32Tougj/l9XG6soE3elCOmkUeHUGX3d3Q94sDyNse5v8BEQ8xDV9OqSF8KKeS3+TY65+hKNpUIRxLgZsLgP7tTzcOec3Zn+bl/Vi4Ly0b/GZfI09KGEcZ3+HHyIwytjOhY4Z74OROLQnZh9Tbu9+Qitn9NZ5Tlcm4Z9qZv/XssW5Udt2tbaXPchkJ9YPVnIKbBHg2xftGBQlMm8nz+r3ipG+AhPrP60WrcL+QwLACBuRnt5cJv41ZSY74t1zqbcXbEBc423S8UOzP5o1FXhhn6MnFxSdYoc00j1bMkphleIMkJqAi8h5gq2sUfip4QL2oOVTPZi/WqpvGUIKY3HC7Qan9D6jjcpcueq6zjB43G1PYqnSqcw/7JAkwUjWS99fQ6f4/up4TGb1P3RAnky8BdTBnUlzm+Oei31Y8Vor2vzAM0HwKFcaomswBGjYJ582I0hx/SJMYmphqBHjAryqSs/Xfv9lxZey9eX9F9p4Otkvg8w9nSqQLn7J+wwEQQ+1L1WN/rPPem5xTEdBYVLs8G66qYbyvNrF/O0PZQXY3GtIQz5X4oygmvgeQQ2sx8vWD9MxceNdUXBDRxkzuRDzg5vx+dHS7Sas8d8aGKLYE12nTh5pEIqb+/tjON9rXj9PZabBYaXU1fqNrd6H51zabFhDYjgf003SgdLIocQsZHwM+ZytMrcla1xHQjYFyM9UV55wwDJ/NCWBu+id6TF6gwKzeT9P001qEoU/6rueSd0RTjfZpDstjQWnk3nGIPNzOgRB+V2E1/LA5uB/pqLDbC3L+6VRFGf3+cZwN9Y1wFiHEbMNqizxAWETg1XEdLmlLEVJEdDbju+Cvt9wpL0kwDNkeTKt0+dH5urGgXZ2LkdxnbS0JujCnFPr8pNH++nLrRrg5xn+1Klv1vGPxLQt+TnAyP1v7qPEeUi0QiFqIU23lCY1x5OhU1G4BuAePwve2M6tGhrvk6umiVI8r3cHjBI5wRauWgzaOY/6ILCxudEvOOuiel1uXjJyeJ6cdjJ59MTwgkSkw12sXVepOxrAxvwh/wR14znCa2xV8lpgphVLRuWtIzUY9NmZ24rO9GVpvfGGBvTIF/XhIa8oIaA5ZRzyuGmH6XaBBOKMfsGtBib1fOr3lJm2anGBeLmD5gxgwYP75ENPFRCdvMxhy640ClBAKwYhNTL4bla8apcbGJ6YORfbjs5h+vr3havzRct8SJ6QH6Z7XhtwH2GBf4h5ehIbyoMYBl/bNpiakQ7KpfbR0c7nZhlk0AgQ0u4xhcm4qr9ZisWVwe/JEXMycLgtpHEcRy0YFuyrRjB8ZFcnRIUdq/3cCb+bVVFwL1ypSTa7P0aLXQlB1ajXZCkEVc38dsp3Es2htEMdXk/x5ierd/gvupf600XAzZ9ReCgLKPy7O6oTczG8KZcdXpcain1px7n6UmpVjcSisroonpPB40asbz1VozerSP6TrKRZNRXWKqWHJiCIvFTl0Ljo7FZyP0iCJ2OsR0bBVh1r64iekjndh89iEdVK1lChGgYA8aWj5l9h4bij9cg3n9SWR3v6MSL8G4EybC5XTIWibxs+FNXN4ILW4sH9yEnr1OjWkJfU/e4ZiGxFTRGJdf3RBvzQageo9D9DwSwiLFnh9rTprv4aUf47hPJDrvtHlFMgwxfX+04fvAE74UaqDi+2Oe0wZ+2WuKIZAIMY0IO4Nbi0ZcHKPx8VQujQ9RQU7ZRhFT5Zda0uMbSTVFE1lhFl8NLcn5e9PRKLU0++jJ6gbRGtO/Vgji9ItmBiXMnJjYVsfmq4xHEXYhTViabwL6QtuqaMfCFa3eBH3Ob4Mu9QJxeeaJMizF97ReoAtXBwSzwPOBptE6CjHTMJfYxFTjkzpBX9Eoqo1ipvRxxIVA0wT6ip5DiqH90Q0lTEwVbPcxutAPlNTipCKuvrhP8FA1plqNg+KWUdWc9eJPvcTHzeGGIPRnx2g1N+riisjc31ndtKZWc5mL/VOmEgPpMnTJoDKeRg/m8cw6mAExi8mw71dSq5s3faOEe5wZK4FrVW1hsf8Y7rSr9mGN6W2hOUlgP0m59NFbST4YhYDiW9jAH7tD9pRXfnfLHZPmCzDYHMIuq0eqFt+9rVZWRBOQyQTqm/NivVYuJpOY2hzPR7PzTlwX7ihKEKj6XivvocsjmsYjphqrVP3tHTnlXYWfckT5laYMMfVzrsyU4rtY2FIJZnzN4aHVGRAUpTFMhJiaCWVEf0Ps3s5je61VjHnjipdwEYrRKCsKi4SeDUR/kj5n431PzjE8awLz+iwaU43G2N/uEPaaDYC7SXMWGGwmRIkvSICYru0cY01S5eyT1TRIUFOcNq9ZKhHTF9zy2snGnT48+qYpw+cpASExV6TPEoau8ufrYkb0su2LUfGEJ69xwH6G15CudFxcma3J9JV7cWEdA217s7V6TNBI2sD8ib2Kj23g2c3sOhgKOf8mS4GaFHl1l4LdRqPLhZQIyqOzZhHSegbWavhyhAicySxSDH04+lkZYWTAOsYfLIqDQ4tEItI/cR6p+XhCxFQJYLF+QVc9J3rsaMcO/+W0eufJcIdwJmwdyNVojal2YKHCV7OSJdcVTaSlNw31RhM5/Rzeo8sQOLcX24x20te3LvrrunBF+F8VjZOWQ3G0f51d4zSuBCJUPWfPnQU1OGStx+iyR0VgU1khQIoy00gxnynaNUN8xikfj2DhuN+C4LnxTcpRkMUmpqJ98SHRG12Wo8JcU1YJephphN9lW24n2FfCEeSpuRyJtZ0QMVUCiqwjxtJhfUNGR07nnPdoygTOpdc2I3bOLcx8XWKq7lMX6lZzVAPdlmcfQlHTHbTb4c/yVu/wHO5A+ISJvOikz7ouV7hgK8KHddPnqEELr8muBiIoJsgGYl2CxKEh7jsShHuDuox5O5xj+6bTUE3REMH11f0YHzEZm18qYv52B2/WlmGmoSG7rT+gMc0mtDoJ7Ke5Jkl7N1NkrV7c4sCqRey5FsG3BUqQ628hT8pY0LmbOGwlUUaIqBjCM4v0Pkkadlx5lCKzSEIj4XjNncHTtq4Y3nBia9YhjG8ZFUYuvk0HVrFozzUivi1AiVx/C6lZBovO3cSHOWOm81J8CztFLNXJFKH4m+phjzt3ztjxYHQhjD1tOR8kDtk3XNCvtg3rwL0UGFWeIVlXcFeY4/NE+b6Lb2w8jWm0vDvHaC2pXJ5zGCWb+TNJDTRS3qNKnBgs5Fe55QmY8lU1qvo+Bg6/ruPnmQLEVMmwUXI9Le+Lg2tUXJLQHhY13YKVeqg8LiwxbXmw+DGeLX7GrOQA/I0WcOB8Fx72H85dO1fMS+gEP31QY/qGXoeLYhrve1IE50Q1pm/Z8Woxjd9+IM1cEnZ2grcoGuNOESzViU9Q9oSePZpAsL9iZ2JQA2cX1WfrL4tp+2w+XTcKOdvXN2EXBiN/9p9+xfftG1M+Se/8x04i9nOpREw1nWj8tPIyOJbWQWH3wgdid6Sq8Ug0TYQasHIDh8PChKBzmkswkvc9WMT9oKcMbJ+xFYFDf8OueHfYjbdba5QMOxH+LjSpLxy5hX9M7Kw1sT8EilbHWvhLHk4ktU3cWWRYYvoymMPzhjB09XVyG1nRvrI4Ob++i/e+4+T/4TTbW93FY8wPzD4dQtHWk/BwtiTPjfVMGeHKvTY/sdDenCpFNGiEeg7GPmQE2wd9x62dExg0aSd3qIHNHFfGtyovTtSr6Nh1Ji9MZ7N0hpnOyyo+huPa0Hdfftrbt6LSV1XpYGOsrpdYMFbbTcMrUxb+LNGPZZM1xD/ywUFc7NbyQOTG/KeFM0utE0p99JJgv724D5rArmKDWDaxC/UMy4r4c5EhYLUd07wykeXPEvRbNpkWSqOJ9PUZd2yiXb0MPsy8IUNZfT03Rlbt0SyTN/uO5+eH09uxerOTCYMmsfMO1LCZg+v46rw96M7QEQcoNfYnJvZqTNmcSvNK4EI71lQ5yjzTUM54jOGH2acJKdqaSR7O9KlZmKBVHek68wWms5cyw0ysW9SoQo8y2tyWvblbM7BpVQq3sKCnuD/BS/ihXtzkxriFx3mTKw858hlhNd6e7rVL8NprCpbDNvBv/dFY5FzD7AsGTBxanoNO7lypZs+KiS3h8BT6u1+hmv0KZg2syz9HEthPn3thYh3gQkX2iEpYenVivxqM8qHBaALNbjgcjiN3EnsurYip4uoyjSpXDlLgh9wctH4jgh11x6jN9GCgUViEClJWydKLTvs1QZEZ6XoZuJGRfRwJs1iHm53m/XgZfAqPkdYsuZKPJs7rWNhZEKNBdswNr4VF5cccOf2WZv2cGNAqjJW9HTlezJQ22fzYdKc4Nn06Eun5A8uvVMN+00LGZDuglXdTRODoLzj8sAs6/cTWya3V/Tx0+ROqVxGd1h/JZIsi3FrUl06ud6jvvAz717Po7ir2/9hd/JB3FsPHX6dQLxsa/L6YLW9scDR7xMwfd5Gz51JWOLTUvtvJQf8xpybb0N+zPI7rHemtCvHHBK2dTq9Je3lWtifrNjlR9Kx476ZfoqB5BSFPHlG1lwM23d4Ik3YHtrwrgJo0LocefRcsoo3/j3QXbgAtJy/HJvdGBo3QzHdJS19+GLiBnIMEzp3/x0Fn3e9JH4pdHkX7gcpcBN6N9mAjfqbTUvY6fc1PbfpyvMwY3NzstQfc5MzxA/e+DGSjcOFyDLNgnZsdjTUbgFMeI7FecoV8TUbiUP4MTsuj5JDYI1lusXPCICbtDKWwxWSWuJgSuVJZN80948rt0c5bjL/7JTpaXsDWazd9o4LpUnD4iTWVysQ0K123RULL9eqpTBX/gt2bmLpx+84dmkQR01B/NqzfwZXfvqZyvyH0KX+PGaZNmXCnLkPthzCgmidVzd8y/2BNft/1mCKdBjNcIQmKBmPfMrZeDOO5MGJ0t+1ObYUJKIENK5Zw+GEOHpwaz/qyGVdjeko57a4WkY1x0j/4OJpxynINbR4u5/AzPbJePkvmLk7YlAhgxelvsS53FNOmE7hTdyj2QwYw0aIg/hvWs+PKb3xduR9D+tQkx+/n2bb6CrkMQjgcUJPxk5sTuW0Dd+oNFJpYjU/Qht2/8/SfbzHuY0e7ihB26QLb99ykjMk/HN34BKNRY+lSUbpJfIZ3VXYhEfh0BOJaFtRD/zZstvpi8fthnumJyOSzmeniZEP+C8vZfuoOf+RpyeDhDXg+z5SmE+5Qd6g9Q3pZUyxwNVdyGRByOICa4ydg+IciL27xKk9jeg9vpR7aIh+cVOWRXYfSXLqwnT03y2Dyz1E2PjFi1NgupLTouL9/ClM9T+O1/DfK2NYgfMdxkajWkkEOui4csYlplB/iNput+Fr8Hi1PX5XJzb2rD4Vv+WyMn2i0rFWEn3m30pe4sH0PN8uY8M/RjTwxGsXYLhVF6jGRqPyQLmYaDOSV/hAIP9AfU28bzrg21BxaI7ZhJVLybYl9gkl/A/+PjCiViWl1filblrmTAxjnq0n66+dcm5UFO4roW40pbp1ZsHDO7s+7FV50Pyf87/pnUiPqqi7XiX5WhecheglznQtjMOjxVk3bUHVNbZrecuG+yNn2XJgDS48qyK4b0/lbpIhZZeqHZ+dQXOpWw1F7Ms54a6qJTnapL0yGIuF7XBkXEXYYJ8NWLCo8gcU2fxHyvwIcm+TIiVYKES8XK0I4WKS/6f9uBV7dzwl/xP5kWneN2S8HU87On14esyhz+0/y/bkcx5WZmSgCdWxFsEYFlxr4CFNQcRGVXqXJEVEV5Ag9fx1MoZ6+DD5wDPsbPakyz1jHDzPjISxHLBH4TyEQh5hqTH6ZmL3ekAW9FlF4wmJs/npGOeO7DD8ssjwsyskUIYO2ClPf7c7HtWZaoUHJKtIElbPDv5cHs8rcJqt+Lpy6BDP33+W8Ezl8HSr6cqntaczajlTl0Zv59dkxuBA9fQdz4Jg9N3pWYZ6x1u8xpRdAyaIxtABHL5Zl+lc7sYjnAhaHmCqmUGH3zDR7PYYLekXL02eVDLnSrKc2z2aU2fkN84U8HlyoJ76DD3DM/gY9q4hqScI3euLrYVTbEQez5CY6T2ksZHsJIqAofExP9WDHspEYZHvIcY+lRNguxV5TwUNeaYxAqhPTG2Nm83sTU7ZYiaS/bjCy4Vn6rclOv6hk6Ep0XMenzDtmR7nfl9HGeA5GIiXDyMC4xFSb/DfaB2QJL1rX4/7CKHcAJaq3LWGz5vFyhAha0AaVZGxTvkYYrhc5NqMSq8feLxoBq5sWJ2a+usRU8WfsyNN5x7Ar9zvL2hgzx0gkf2+/RVvtQxtYEo3tCYpNyMecBlEO0ppIPjdT8SGpsyjmmU9wsUjjfS+7lwj8NxHQEtMcY7fTP/923BcEUWnmblbU2K3jYxYpTPa5WdX4VxaaZsZrdGn6/D6P62v+pmtiARLC6rXfF2o1ycdOizLYFdLILF35m9jPKb4QilzaacG/jsHUbvEHC+MF/2mJaY6xbO+fn+3uCwiqNJPdK2qwu66uPE0scCah37/BYmcCmGmDg1J8jrLBT0Qggt/Pe+P7UBTzKF6D+jX1kug3/YndyseThEDqE1ORjqfZdk1usaULYMvfc/BqsiOmSo8StSYikk8eGMB32iErKV2eeHyImGqiCt/ueMMWJUM5WpJWXcnlmCc6DU/GJqYBuOgLjW+hJdwTeRp183xroEoqMb0tCK7QIohE3wNiQKbUucGJEFMdZ3Ulgbu4onG02CmJaZJeLXmTRCAdIpBYWrVYQR8auXJxxF3mmmjnIFJoFU40x6Nyj/D1dR3EoN1FqJlpSbT71Oclpvc1GRhOe7H8tzLY1ghHY8kfhMOy/sRk5opryo9ap7jyNDnEVBOtHQ+zlKwrnw63kxySRCA1EPgsxHSsGpFqz9lvOmoS3z7SKR/5tcjv1ymMFXdF2hzFCVUEJ6w4W5Z6ty1iEpnrauaiBaiGPEWnwUAxe7fh5fCebBgTkzcyYxNTbRoOhxyxyqwpGyHy1kWCcmXnWMukaEzvCm1yJ8JW3BUpk1SQObriLGUL7qGcmuEirsZUk3zZ/MUKbRoeTXqiVW3u4VXEURLT1HgTZZsSgc+BQJKIqcZC4iEsJEEiHdk3SrDZ5s28KvuEIUZRddZjR1TfX9WS8s7VOHbLlae2MTkuPy8x1QDoNSwf8+vcYVu2weQ+aC3KAseKfIo+0DvEc/H6MDHVKEIOJZAbU5PfMh5mbWyonzvlFjYi7BInVnvxVbyMLCnXx5fQkoKT4gccXGdyrPRwX8Lc/gtzSEViqpCZalwbr+Rv1CSy7spWTQ1fke5FX6R70Vde8nZnGVayGcvy9WPeuO85ueom3bevoOYeUVlifCGWLWlOrrBjWInUB2qyazXdhRCOoopBv99ELsE+b3EPWIuxny0t1rZmz+YyrKvRhEW1NuK/uDzrGgiNYxEPbm/uh17Scpykr3WPvMWG3k0ZdKYhrtudaSdSaz087sHkA/q4bqjHPkMlh6K2NKW2Rrslik9qHdaIxMrjCy1jSfNcvA0YSq9l+eg3bxzfn1zFze7b8Xg3XJTH1OKqKJ3VddFgO1okR25YZxPtzp1lXGYRsNYzgrkXJ1Njn7akpiCzrdQUIzrPpy/kFPouIusnsfLvfky2EgneApZi0fcEFZoX5PsuM7Ep5MuMrkP5e+5FTbqg0DNMn3YS4x8dUz56MlWwyejzy+jj//Cihp5xw+1ibUaObEhhJSNA2+m8aFuVUjUdcGj+ik392rC33Xl2aQ+MZ6ZP46Txjzhq8lOl/KUre1VLk/bSefcVI4nik155UCDGk1wxe7mKA4Xd2dntPK1LjafQsiU0zxXGMY1QVi1WagnX8TlZtqMHF4ZYs/K7CZx0HUCYS1E08qgd+4TvqWUWxcTfSmQDED+rv4/vO/9pk1YSyjfgnss9unrpY515q04apejJaiwjygkAACAASURBVCxR+nH711ioYuSppv76ovqrWKW/hb4OR0QtdFEN7I0Zm5USwEqMRCtNOWAFB5c/WsfHTMmN+WkT0nla1KY/N5VGDfaJdE9xM7KkWCdfQEMCJ50qVbEz/5xnXImmBE7/jX29o1KIJWXKkfh4HqO4WVuRa3kcJZoGMv23fSSriaR0k4r3RPp4cqy4WZwUk4l1mEScgj3xfGaGWQoXCkklYipS3PicJeDBK95lFaYd44aU/eMc56hP/QLBnDnpz+M3ApDMOfjeqBUGOX/nvLevqOpaGqPmtTUpdpRULcd8eKlXkzy3/QkW92ctUoYCr+7z4NU7Mhc0oJnx9/xPRJZ7+z6E4rVoUu87ERkproiY9krnfMK7QnUwqFhQ87cMekVo5yk8YsRUm1Dvu295HHAIn5sCY4FjCYMGIlfsFU76P+YNWSlS05jaWa5zzOcleq1NRPRrlE8NlDZqTu3cD6PXIWueStRqnp8nh3y4qWCb43uMWhmQNzyQs8ev8yxfRZo10Bc+OI/x33dGsxZlK1Hs0TXtzw1pV1Obbym18Q05ydLlJ4XOV+cqbIztQGORVzT2paTL6vTLELwUrU+48EGuYEP2LfdFyUuh8Wh4jtYiD5/Db/ZcEZIrOkmMyH3aqdMjnL3Gkt794NPn/ALZOWWXcDLRvarQaaKwgPzH1icywBUT52Ls2qVkJAkSWsi67O0fIErj/oWr2XSytcnGwsUV2K2Tf1CxZmzo1IlHzl6MTekNKNLI+JwNUOUnWfNQpnJdDNX8W48JiH73S2DQwEik7hEf98CzHL/+jHz6rTFRw+eVTB3H8HlZhIpZQriuCHHRTqVazamSV8m1fJy72WpRv2QY566Anl4ktwO18qhkHp7f1/xctlIxHl0L1vzcsB0pKzrCCTgsql7UaUnOaztECjFL6pfR3Xg63ybRf54ylamrpl8TKMSRp0YKNuq3JJisdYrx19W/KF+3Bv/c2McZjRCkUrFHXNP+3LBdFb6Jh1kKC8RYLhcp3PYX1VziOVIjwh7yNpeSxzjpE1YLaghXjRPquyoKgjx8S66M5KahFiaZhP6JpB9oPoiTtihN4I9vEk/7mXSIY92ZSsT0I0cjH5MIpBQCSuLlojOodsWLgcI5V624NKeBpsa9EO7W+2vQ4PgcUbrnMANj5WdTtPslmVHNRxCIlE7cpuTf7Mn8r5ry95IJ3Bt4inWNfmHaoDF4fVWd/7vmQ95eAyh4eBWPS9Xi95O+dDv8isWmCYCSLueXjMVLp+MP9RTp1S5U4nsfFzZX8OD8pOLsnTiIMV5fUf3/rnE+ZwfMvz6An3a9is68wll7pfZN3EtJcl6LG1OeiYOQ+JsSKd7kPgtfKG4zIjex3Tu6Zp/MXvOL4u+xv5BKecGSM6rhI/zKU3oHJmOF5K3pEQGVmLrzdesaFAs/z/HQvvx8zYk8Mxtg6JyfBbd/ZmiJ16zpYkhAt9nk3PwTi/3C+b7Od7zx8uHPbms5vVhkA//QPv+mMQ3z+HIj/HvqfPcGL58/6bb2NMqjR0d3Z1FOC77z/ok3I08zqfheJurIsKIzvXD+zSnWPa7FjjLSYRRbntWht0EO/A/tI1evsZQL+1Xz88wADn9koszQo6PpLayBVk1/w/2np9ju2MJAA427xTnDBvzv3mXuva3FjFOH6f+/n5k6xoFFhdx4JTT3ceXx4ZEGPD/jjP38r2kqAvhcRHaaA2sacXVYK3oKq+WCefa0a52VA107cMn2Bj8+6U7FAXcY43OBadXDWNSmOb9PvsLop+NiyxEBXJJtIMJy52w/n6+bFmKPi3DDO7CTgRVusLTnWAKbWpH/gAv7hGza75yHM47TGLzqLnW6l+bpgZNE9NzFyZk1uDRuJOdb9+KrMaNh5WnMrw6kVc8zNFwwnU7f/saKaa4x35h956i+YiSXW7Qi/Kf91N1xmJEG7/D36EqHS7ZcGyjKrU4bzKq7dehe+ikHTkbQc9dJ7L+di5XRdBCBlE49DPl602SdPi+jDU/5qLdIEtOPgk0+lHYIKMmzLXm3NYRJIqp4qes85u0pxvy4ZhWRpy7roMJ4ayNyVVPjCTtRqacunj+48rbGc+bfHoL3mBxcEFrhv0ob0VwkTlcogkpiV7VJJODsE2auU6EjlzKe4SXY88KBGyIS2N30tHB7KcPrLL5qdZUnqx6zs927xE/26XF+KjSa2tzrLe5w3PQmPy36iZWLA+l04gEz6+lglx7Hr1tF5uww8jXT+Kq33S8CMd1NOX1tPGVe32Fji9o661VcrfQV77rhRu2K3gzXZgcRjo/kG1YE78DhvHMR1aQqlGX7ulLs29SQYMValE2f1iZKLkx1A4qUbqtoc09zqJKXRCAaAS0xNT19C9fa+4QbQQ9yiCw2K+qJsqRFbWCNUknuEsOqH6f7ijLMHTRWeBmM4UrgBAzUZ2fS+NBW3vXSVktKZJ+/XNYXp6kizdcYjZuYWrFtZmOO+36Pk95aLK9fxNRT/G57b1GW1BRPpexplAx7uBvzqnHvGcl1peCOUi1NuG/ccNGn2qbu6riE/wTVjg39OHmrlGMt6k6zX5UKVNqYjGXm+N6uIRQAGjl6qA/CrbA0vV7OV/vwV8aBcClxfhBdMSlaHj/pxeFyokrTDREL82otnRutxMjzFK0ORwVji4Dh49MY0NyVsqorh6IAMeXhAqW0q8DdxJeBB2vgEVWNSgffpNW50ShGFje+IdbxFWs7N2KlkSduLy1o8WSxxhUyXGg/9bryapFY62zDRczHX2x9tR2zQ8K1rkcO9r9pz5avFtP08SG6+41jWo6ZTM2vW/1Jo02O/sb8Mo2SFn+z7c0K/hbYdM2yn7BR3zBtQHNctTngVV/xv7byarsZh4QbTo8cIqvPir/j+FrH6bPxx7+3kph+PHbyybRAQNE81TtM3UHlqNhmJuPaa9034oxFFaRC8KkaUuVvwlf30Py1HP9fRbpYfseeHttosrAEExpvp/O5I1Rd0I97k3ZpiEAqpcFSybFHISZbVoZ73qw6lpVxh2fzZ9fEUtQkDnB6nJ86WpVUjeFVr1boNRjMLJu6CZrM0uX4FfJoFURPe2MKvLjMnp3+NFn2O/0u6+6l+JkwElyleHsoVFTqWsrme/kw7tqO5xMGEvHjEM62soXl/vz42yDcDfZptKtCo6p8OERUYoqbyNLilZV9piACiZbM1MRxtH+8iJCxV2m/tz1nhAtT7PdM40O7rUEP7u0OSd4+V32QlVKmiilYuIUdX4OD3Wi2ZZ0iZGxb9sdJW6iU7419z1hRLjkmKE53XCIFRGxZnRy4lANu27cx5crV78MRRl7/kUsVY94hVdnQK7ca6CteLpWY3mswP748nlyOCW4lOB3LvUZLeKO/J7HfTx+RVajeeUfujL/CsJtj2FfppwTliKhPkYRLUbyMosRpXZO7Jhgxpr69Jhi5f8E4KR+jZY7QtvavQNufazBr+0qGGwuFS6L7Rjskpey55zRs7efho+ZBT0qqNwXKKIzDORC3zyTMNrFbJDH9BPDko58fAVWg/dyRveNL47tYa9KYqynxqXvdcKtNxbWdY4ipzh+DXGszodhSTJcY4tZcJA4XSbB9HK25IsrNpSYxVcfu7xQn4ON9kcCJ45se56fyfyEcc/fJwsIdrfh700x+emrLji0D4/nrpsvxK4LdsaJGuxRrv3wEMY37wdRpL1z0Y/rLAKaEd6CjQiR2WQmVjjWTiq2TxPTzi5SM1eN7CIbiAlLUNIB2vSLJY6O4iMQlVBpZc7ZpV34+apC8fa72e5YxIVNF+dPGbGriyZxvh9Nkm3L4j0NMhe+hm0nce1KTmAYzP8q6oI7zEIPvDedsKZ3DnfJu98nD8WcLeKklpoH6wucyrjzWuS8qU5qyQWIT/DgHRz9nytU6RsW2eWi9YB92VxOWI0nbaErbfchzXOsCpD6kIaZT6x3nmebkqqZv7JNH/LvZmoSz5IgYnYMT2tB53mOslFK7pZdri2MohDfO+NWy53Y8myqCzE9UEkHqH0NMFeEfp89PKO8riWnSdou8K10goDkpzql7hQvCvPSNKkRycMSnGovdy7J5gTBzRI1T0X4pwbJCEOkKGERwk1m7R7hcrMAskdu1oshAMKGCF6PtHjF2haZsrqrZ3Nr140xL78EpfEsnitrcZ8ovZ0Rgi0gS4NqbXY0dyD6opk6RhNhCIyLsHs8zF6Z4XE/9dDg/ZeqK9qDJHTeeCnPdt+pH4mdsb0zhxrhrjNhlF+MzmR7Hr35gFlF/z1WhqSxMqGd/HF9OZ+SjljoanTgHiYgw7j3PTOG4gRD3l2JSaitd45rjI0Vau4aLqHNEuHA01cffSYlqf8jS/uuo5uGMkhxCbMCEn00X76AcRJoi8F7NlyaLwORnQ1UCpsi9WIRKMXuXXEbLTY2ZbZa8fa7IrpLLWhIw/Cx62hSD5aI1nXGIqY61IOaepBHT7xKTd4mBrprybbQuDHnVg3H++Q0I8CqCs47VQcGh6YN53BfE7pCWmD5rsza+PK7QiFPmThTacU28l3m0MlqY9E/V1ZEBcS0aUQUb3LkjKiWWTUSOrFAzb3zo0rhCjS+0g2tChuYRAZS9dzVmOD2pv0FUG7vtjKGav7wpD+aJQN6XtgkQUwv2WoOH8KG9OLY8zZ8tEb7AgYkSU909oqvV/nCqN12NqSC3cfv8hPKukph+aJ/Iv6cjBI4wOMcQ8h0L0qR3CnKnQdN96LXMRo0ftgiHbd0gEkVI9yO7p65JJFK4+tVmjxpw8poDgw2ZnnUMHb76k5oO42ihyg2l6k1+1ra5L3x8omP1UwYDoUlYamXO6IPPyFOkEk2nLGV+46sMqdmTI6YbuLi4PfluutHUyBmcz3J0TH62mlZjTMmNhAkhpUQOx1zpcH4E496gMkcHa/PlikwIg6tOILxVGfK2XyICJ3QFc3ocv8jvO7otnT2uk6XId1Tt7cYmIdiP9atJzyOmbLi4mNaZDuisl/B13mhCtTEl2RgmUtnFWqBwtnQqyYHeTwXJjdmXwUtF3XkWc1gE1gW5N6C9lznjqoSQufMM+mr3r/pxXduG+0KTmsI7MGX2sWwljRAQWRG29cag6xFMN1xkbrkNtFVlhR9nJ9VU/ZOVErO1giZpfBGjiOnEP2g7bgK1rqwn1GaPNoDp/fvcUu8R84V2deIfbRk3oRZX1odis2cxZhGrRAaWYVzWN8WsaChr94bRbGY/sk0Zp5VhluiFb4x3T/P5ztRY3ANnJXXjypb4jK6tfaemk3tWU9ofsuSQnzW3zI0SkXeJQ64EP7W1u0G7Cc25L7KuWK5woXWJ26zq2J5pr62Z2O0t+/eXxmmDxnITTbiWl4knj1dYV+DGUivMRx/kWYHKtBi/hg0DhRbBazR6bdZT0nwYY3v/w+Q2Cu4+nBincVUK9jBhcLa1IoBL8QVLQI5Mjm/VS2xGkSKtoZX5aA4+K0DlFuNZo4wb5dthyfL8I7AvdIL9xcXv7cRYJytBbzmYfW03JltbiJ+V7TCeO/XnUHL/Akpvmse/wzeI4KmzjNZrw/qSHRgsAqU8h4nAX/UbU59cF8ZRqYM7+Rp24vvMvuy6nI8ffhpP5mntcBb/89nfkkNt6+GcYzbXdpuwtYWh+nu/s7243MmAISENGTKiNaFDNvCdbp+fkFVEEtM0EjGy29RHQEnXY7GgAitXJD0iUn1mekkWbO2W7iOiM/r8Mvr4P7iDFRNZvxsM25mM1GNKChaL6ZRcsJVuMiT/gxDLG2IjEORqgkeNgyxqoTkMxfPlTjJgSfSlTnJ76edGhZgqAT7xCy+knzH+10ciiel/fQd84fMPPTOdeQFm/DhEP47GMYGJPz7MDI9XWP5oQflk5LhLSwgz+vwy+vg/tPaRtzYwfm1Bxk5ryYcz/T7m8AwPXln+iEVG2YAfAkD+/bMgoLj8PH37G0u77KSZlzDja+WXJKYx8AdtnoR3SVuKuJdjo7mSvUDaIz7L5vyITiQx/QjQ5CMSAYmAREAiIBFIHwjcZ227Stgcy0O/rX6siHKZeejDquXr8XmUB0MrG6xMypPU6qgPfVaxfL0Pj/IYYmVjhUn5pD6ZPhBJaBShZzyYtfkeJVv3YUA7bWq29Dvc//TIJDH9Ty+/nLxEQCIgEZAISAQkAhKB9IOAJKbpZy3kSCQCEgGJgERAIiARkAj8pxGQxPQ/vfxy8hIBiYBEQCIgEZAISATSDwLJJqZr1qxJP6OXI5EISAQkAhIBiYBEQCIgEchwCFSvXh3l/3GvZBPTPn1E4Vl5SQQkAhIBiYBEQCIgEZAISAQ+EoFq1aoxYsSITyemH9m/fEwiIBGQCEgEJAISAYmAREAi8F4Ekq0xlXhKBCQCEgGJgERAIiARkAhIBFIDAUlMUwNV2aZEQCIgEZAISAQkAhIBiUCyEZDENNmQyQckAhIBiYBEQCIgEZAISARSAwFJTFMDVdmmREAiIBGQCEgEJAISAYlAshFIJWL6kuAzJ/F//CZmQPn0qFejMsXzfqgIeSThgWc5fv0vShs1p3aJD92f7DnLByQCGQSBSG6dOsizsubULZHwkCPDH/JnluIU/DaDTOmLGWaUnHpGttJGNK9dgkQlVWQ4gWePc/1ZNinTvpj1lxORCEgEUguBVCKmynADcNGvhmPNPfy7rjm/bxtMHWsvLHZdZXGbvInOJ8itNj3+Wsq+GkeZF9KcyX0NyZlas5ftSgTSJQLhBBz25PjOpUxeHsYI39s4GyY8UK9h+ejg3ZaJo8womyPqnrxUbtmMyvLFSaXVjSTA1YSeL2ZxfnoNbriYYnnfEb/FbYgn2cK9GF3PhqezL7Kmjg/WhtMou+MIzkaJy8BUGrRsViIgEZAIZAgEUpGYBuFaXR8HA4WYmgkwPLH+ypxt/fbzZkUbFZyI38/j7fsQiteiSb3c3Dm8gZm2wzjTcAHzehvTrKVBfEGfIWCVg5QIpAACQa5U11+GeaLENJwNZiVxpTtGhTX9hfns4EanA1xyNkpcg5cCQ/tPNxG+hU5F59LoykVGVhBIhG/ALN8q2t73YkAczXaQa3X03dty/t50jMStPo6laHLNlZBdVlK2/ac3kZy8REAikBgCn4mYtuLBTltqWm5Df8mveA0sC0FuNHAqyK71+XEs2ZHgGcrv/1LJ7KbugVweW0WumkTgv43AB4npffYv8afSIKEtFUhFBrjS0qUUW7dYoeWp/238Umv2XsPI1+wBi/7chZWqlVYO3X3Isv8uK9rEVlMf6J+Vtt7j8L3tjKL01hDVppwQ8q+J1Gin1grJdiUCEoEMjEDqE9Pfi1M+y3MeF2nByB9nMLZLRRR3OMUEOb/OHTx7ZmenVVYsnyzhnldDNktimoG3kxx6iiLwQWKq01uoIEedfmGIl9DMSbfsFF2GeI15WvOV+Ss2xyKm5rza/Ce7NEw1+grf0omiY0tzSCWikXha58Z8fRudZ1N3qLJ1iYBEQCKQ0RBIfWJqsIPzJR2oNzcvs345w1gD5aupMfP/3HI7I2prIcv5vTDdZ2K5JKYpv4d+O8cOv0fx21Ux/zLdJX47t4OEp9yMlgYZxL8vycQ0XBAePeY3DMArri055XdTyrSYkffkgf5kbfuMNbGIaVfe7ghji0VcNWgoZ1ztmXa/KVYlzrBt7RkOPrHgxB+CqKYMkp+pld84t8OP+FIkJ983a0lGeaUSB0vx6z7OzZfx7yhmaEn9Mp8J5nTSzRchP5ODZUaWR0mZZ3gAh4/fJP72LoahZX3S2/b+DMRU+JguL4Nrwzo4hI/mfJCi0dESU9s7nLFTjJAQ6n+Op+Vzs6+RNOUnZZ8l656IMO49/Sv+I5lyUrh43i/SFzEi7B4JT7lwEjJDJAvd1Ls5qcRU9XGcgP75e0xXHBkzwpWR9+T9pZiU2opVlE+p+u8VtL+u9TnVxT/yFqf2hlFSFf4ajWmPLLt4KvzsM5ZiO4Kwe0+JL0UykbNwcT6YbCXd70mRZeFhKC//iT/QbPlL/eeyXnwR8jM5ey4jy6OkzFNkBnkY+pL42zsb+UsVVK3Y6en6PMRUCX4KFR/P0r0432UPV8W/HziXo9bMvEzYvx5LEYXvtL8F6xeXjq0xDdrMqPn3aD3VgRbSaS497Rs5ls+BQELENGgVHfvvpZn7OuwNtdo51efxAMPeE73/OYb73+kjnAP9qzKnzmmhoS4jRJsZFfZZ89sWCxHQFMSqjv3Z28yddfYio4iyNm2EP2rILjred8WkuT9Dr27BSsqz/852kTOVCEgEkoVAKhHTF9zy2sKaLX6EfV2OpgN70M2gOKFHZ+G0/R7FjHph26MEjzYtZ/n5EIo2H8YIEV38x1ntMwUNsbKxwiSzN5Nm3MZ41mhMMoj1NVnoy5slAokgELhzCrv8wnnwRwTfFihBXsNOTLTQFwe8o8xy8qem7mHtN08mLXyBxQxrVE8ZeaU+AkITemj+Wk69+T/+l78lg/obo0m5HMrRWU7415yKg3qajuD6vmVsvRjGN4WbY97bhIrpTT2R+mjJHiQCEgGJQJIRSCVimuT+5Y0SAYmAREAiIBGQCEgEJAISARUBSUzlRpAISAQkAhIBiYBEQCIgEUgXCEhimi6WQQ5CIiARkAhIBCQCEgGJgERAElO5ByQCEgGJgERAIiARkAhIBNIFAqlETOOk3siWn1IFNR7/umkoMuXMSZaXL6NTkKhpOTLHpDXIlFMntU90OgclvUEu3oa9JnvBLyXVkU4qFh2sonZIZPhDQtU8JimVmkVZnz/JUjz5aSJC/bezdukSLtZYxPZBSj3GtLy0uCWS9krB7Q8KZJz0UHGhVFJ8/JmF4tp35/1Ivx+LtFolzfueyL5V3unX2aNlQ1qN8aP6jU6/krR0K9Hv8JeYoi0jr+NHLf5/+SFFzohvbzpMMfRfXpVPmXt6/E6mEjFVGOhJRlVqglvlZdz3tNVGrIrfRwbgUrcajq+d8bs5iSoBLtSt5shrZz9uTqqpIa/bOpN/Yxtub+tDiedncB1kzZLXg1g+34ryf/kwpZs1K7NOIfDyWL6YwqVReL0azJGQRbSIjq4OZ0unonTbXYiR3teYZ5wCIb0ha2lXxhH9Ew+YWU8sic90fvrTEQfTpGxvTQ7atC4bG3lrA73br8Jw1RoaeHejZ/AoTnlYqPtMIUM3L6xiXN/J5F38RiQ9TyRU3ceRUj3vM3n9BJoVzx49+VgHoqRAkuL3iIPDnTMsH9INh9AxH9jnkTw4OIE23bZSasQ0GlwahVvu1WpKtjTNSCSi1jf0bs8qw1WsaeBNt57BjDrlgYVYIEUQ/nb9CHP6DMbH+hcCJxgkjKCSn1VvFfrr5jLQIH/MPQkc3lJ8Cd7TYOjR0bTouJ6iY1wxezCTsYfKMffATjHGhPZZKJ796+HEGCa2yk7w9pm4XOvOoYsTv4AKXZq9133G3wxfORuL8jIlxOfch5+7r8gHB5nQfQZ/D1/JbIvyGSwPbxLQUnIOr9xAgMFY7BtmJsCtHR3mZ8fxuCe2ekl4PsPdEoG/R1dGnGqNywI7GqbpByM2eKlHTLXVnRwMRIJ9JY+pzqWW6ev2hLni42tXVku8AmLqSfs4VmddkwssavGcDWal6XU3DglVcqK2e4TLxS+ImEbhdeUbOm4OEaUNtfmxgj0wqTyaE5EVmRV4mbEqE9dqpLPEaKI1jF5JpE/shLlCsxMmtFLZ34XyPLNucvkIwsMzkz1iH7Y1LfnL9S6uxv+QKVMmFGKWR9yvJKjXJWmq9uttCBvaGrGteyCX1cFoNXWflSzcZ1XL8kyodozHrg3FGLwYls+Sd1tDxJ75RqOVx4cfCynVeBInppE7rcja24vSBbSk9J0onfu6FRuvbcEizV5SX1YMWMYvRd/w65T1nK02673ENFLkySzZbCHFZinrgXpocLjSkU3Pd9Etd9pJyvurWlJ+QjWOPXZFXSFRgtjy3VZCFrVAqOsJff1A3UebulxJnJiKQ6t+HVeeF8lDZnUqr/njbjEmXLnAhLTKixV5lCFFTVncaD3PPHuKvKU+OJaqh0spd+6csUNTLkTnUuZQbQmmUYfKyJ1YZe1Bjv1vEDn2M/AVScDSDgw83IOlmzNCmjIhp8KgYPbXMTIyAXmpkXGxC49EKA/myszz0HfkEZpCoTLUFu/QWu/UxPxJ05xn1AWPDFhKh4GH6bF0M9Zp9e6lNnhR73ap6Xg7Xaez5T703b05aGfw5ZFwJa3dMHMm5pjCHpcWaavESGBd04SYEr6FTkW7ETDOl9vO+hwdUhTTxTmYoFauEYK++iaaXV6AiVpRZRAsuYfXwJK61JaAc/cpWf9LKqepaCJHc7a0Nz8HxZB0P+farHyix+LF17XENAj3Bp0J+GEjxlta8lPdE1wcWUUoot0wGfwn3at5YH/OjrM/i7KJN9cytbsjJ3OY0KNXcQ7O8sLyyAMmlz3JjK5t2WN2gbN9LmJTqA+svstPre4wv44JR+wFyRkeyWRDQ3ZbK4SnnDg9tmTYH064VVtLy67rNURo+D+4dphD8ZldONfZkl/s/NSxpP4l6sJ/ZY7/9ChSo9Hiruvoh5/Qumv0Npp73kdMbyzpx57aK3EwVO4Xmi1ra4LG/Jx2pCcWcJrxr38vMQ0XB7d89Pq5CtP9TtO7wEtePrxK4N/f075x2mo0PK2/wtx/OlcCJ6DoQ4NcqwvNZ0f8/CZRU10g7Zq9j5geGUW/l06stFAOaYIIuXZgjt461qXdqQFUoulIUK+oA7dmHg5XurLjjTjQxFUaamXYCVFbpWpPkce59hEGTivIhhsraJNhczNrSGmXrR3YdtAu3efOfXFhHQNte7P1mRG2g3vx9XY7Dn9rScM2TflW+dlc+Q6V5cBgUTRBby/TIvpgft+FG3Pz4/XDKCyX38Kwd1/q31vGquxuk4PqtQAAIABJREFUXFuZCXtRLCZy8WMO9SlMuCiw0PSRi/agnvrS73P3oJLSLlvpsO0gdl8qKdWCqhygmy0MV/+Vt6k73hlgfyd/Pyik1Jih7xZyUigK0kwH856Bpw0x1ZbmM/cWJUpv1WFRjWlce+zLHasjhFjupcoec24vMBHcwpqvzNfTa8+/xFG6Jn8t0v0TygduFnqzc2BrKirDHBHav8anGNLwLP1+DKaWeYCGmOZaS+dG+2h3eju1NouP/abuQqNmy1Vh7p9p5Mdl20uiPOUYSu3zY0rz5yyvG2V212jTFBP82T5PmdHUmH0q6bytEiBUjHXN9DH3X267n+qGgUx+sQ4zbTlZpZ0TpZyocM6eJ2KtfBxLUW+9qOx1T5ScTXWs77PUpBQLjaOIqKIxbcZC0x28EdV3kkpMY4aZTkhPsompdt7h3/Bt1Z64jsrJ6kHLibTbzdG5aStw7i81odRC42giqhH4pjrkLQnEVAePUCELrIPG8LMw+6epwVgrk4RQ0lqCoohpNR2Lhu5CRuI/uyFNxvpG16nWG3wAb7fWMe5Nqf6+pGwHkcIFpkqXUBZeXEHr9PhVS2C66kEJzZqphyRVbqomBvS39+b6RUM26A+BRYFMDVe+O4pIFPJOXe+4Py8nu6JMuT6De142+Fs35IbDRa01K2WxTvPWIoWiqEoXQhdeZEVGWexPAe3MWIo0mi3UFCYsu38c2xKf0lj6fFapVFdpSVO8j49It4fKNCKmQv9xdAhFBQEz7dWIO/ouwofUTJQorcXgntfJ2/+ypua3WmpxIabvMcemz6X/mFFpiGmFy8O5VK4WMw02c63LNvo9nYNXCWchHLXEVLWeX2ffbCfGLdpLUDHFzaEt+xWNoap9yiTaMeSmi2IqTIRoak2+Gj/RDxPTvbmHUmpxK61JOaZNl5uG2Pw2AHvjAvzzMpSQFzUYsKw/tT5m+sl8RjnFW/Q9gcVyZ0rtGE63xUd4Iw42fyqmYvX6sMY0qkv1Qzu0IAcujuD7ZI4j9W5Pisb0AP2ztmVlZEmttSGSnVZZsdz6jeBNL8RBIw0pnPAlX2rRlxMWy3EutYPh3RZz5I0VR/4U/tMqaMkgporrTiVvBoUIIpSGU9JsK81hOanENNJnEtWaLKbOOk/aXXBglMdpHkaC3iRFS6eq6jPApXEdepdHCU5ViEobrkz0FQfbeI4L6XYu7yWmWpJaJfIBFzdNZ6TTZs4+7PAeYioIq+KfXu8kDnemcKO/LwO9vhy3MjVQ710eEZSYWSgcqtDmykR8RcndjLPaH7kNhcxybVgHB1/xgoqrgfsdzth9CbNW3O2ek7lwcfI+V0rDO1PFOwgXo7QWpomv0+cnpsKvJ4yCQsBpfbXCG+Cu+JqGO1Ou1mTulJwQo3XTmvy9+wpNqiAc6RfGj3wRYj0WRUzXUdWjIXr2j9GrYMC087uwOqV8DLXEtIAgLFVtYbE/Y+60o5pWqBbw7I+h3Vvmba/FqjFvcBWC0kBHuxnlf6ghozra0CQQ0430EL42bbXrEkNMJwfqM7Tkee6ppwhxRa1tCsRnfRBRNRIYsv0lHGHz32ZqyWbcXfAMz55R9tGkEtNIwTVyM7BIlL/qB3v+TDckhZhqNMeDTsRo69QPsOBNteZdF24VaZk1QRO9KxZIZN3Iz+2pJWl2d4HWLzN5xFTVcHkN5/GhPmlvdrrhRu2Ko/CNqzG93o/9b4R5Ps7uONA/K219Jka7NEQ+2EZvg65sbRff9/4zbazkd3N+HCXqz+Lt4CN4V5tBzemGHLs1m4YZSCB/kJheaMX+hvXZ3vEU3lV+Isd7NaaCmOKHs1AgbMhbi7xtRZaSDHPI+NDyn2dcifrMeiuCcL2rMaPmdAyP3WJ2RlrsD00xwb8rrlxVhewMQ69jF/Ie2IZvoTGczmD7PKGphaxtRxmbY9R392f8jSZY3JzFZSFL0zPl/szENFT4xFkT4X6YgSUjNb6lAVO1QQPBeDTUY5axDtFR9CruDag75i3Dj+1jujZsLOL6avqNj2DybnvS8tP7Ufs/0YdiiKlZuCAleubsU1wbFEKuamm0xPS28vNbYRJdS5mZhhjutlY1mQoxHX7XDlfzEjrBT0nXmL7d8YrFjX8VWtY6LGx6mluT/mG8yKqwKPsAdk7LQZ/OIjLxfJDQZN/ARb8a24QbwK5vB6I3OpLp57wZXSaQub22YbRzLiaf4YN1ZHAOWgYv4NHhvvxPBDFVmlqT07GyNCRETEM547GIK/q29DcuoT3oaIJXPAe9JwgnZRc6ia0lQkxDz+Cx6Ar6tv0xFhHuocrcLffQaP1dQcoj1HfI3rcW8/wu8lncfRObzZHB5GgZzIJHh+n7PxHwU2kqNU9HBe8lRkwjubXThQ3/dGNsl4rCK1O5tH602XTdNJIIYarcFiwOA5UZdHuY+GiJwK7nq2lVpC/+Q49zX7i0iBWJtcceCpeGysNzsvj2NvooKSMizzC2fHN8HX8VfvPp+dOgC16kMF6Jg8VCETxUMIxCI9Lbu/Lhhf4gMd0IPfTX0eVKIMOvdyZH12zv15iKLoNVBcI9rbXiw2PIKHdEBVSKxSas0IjoQ1VGGf/HjDNcfGP1xIk+XG8854NcyLmoNoZT9dI4EPZjZpLQM1qZdS6XCP57g8nyuyJTTfp2cE8lYvqS4MPzGDJ0NddzG2HVvjLZRUTtXe99HM//A6eFT48aynTKSTUFr+mtCWwKXtWL1eXWM7VxbKH44OIm3MYt5PibXOTJkQ8jq/HYd6+dYX204m+dxwTtcWfoiAOUGruMmUNq8XBWJ44134VDcV+W/ziY6cdeULHPQhb1/ZoNNsPY8G99RlvkZM3sC9Ra5E7HQ5Z02PIOTYB5DvT6LmBNp+uM6uTKnfrOLLN/zazurlypNpZlQ1/j0d9d/GzPpoX9+POnNvQ9XoYxbm50ZgdjfljDn/Uak+vqZbK3sMPOtiXv9gzCbm44tSwq8/jIad4264fTAGPuzh/EpJ13oIYNc1zH0+ozpYyJvLWTSVOPgYg8f1SwOU4OFkR1HXJyKcsPnmDvFh/EZqF909bYDjSmqDAfu7doi6fZfo7aRwVp+YqUWTY8dDrNwnQRjRLMxv59WX47gj9+D+NVljwUL5aHr02n4D1BvBhB7rRo64nZ/qNopiDI3KH5zJm9Hf8/RfBwzc6MHGlHu4qfQ239HsEpUq/snDSVY5oFormTQ0w6ocCdTNl1jHMbDhJctjU96zen00QL9AUJPTC0EWNx5fTCNiLiXbnus8OmNUtrbdVZs5QS2B/ZjnCl2TbRjpnH35Dp3f9RcfBMZvQ31sqjuHssFP/Vi5iz4QC3/snCN1n16WA/Ert2UcT7I8fwuR+LFP7MwiqxMKwk40WQqkvqO5Kn2AxfBu9hUtcR7Co2iHUT6/PLzP64X6mG/YqhFFg1AueABiJlnCVZZo5j/PVC9LJpwO+Lt/Bm0FSsgp0ZvSsnPdctpNEeGwbugk5L9zKvZRFxZhJm0WrXGP9Z/OpTDI4kNBR1EAmj5HihKMpIi52E2cW/JcrypMfQ4xdZYJK+SdtHTTFYBJJXHsSJLG1ZG7QPa91Y8o9qMHUfSiVimrqDlq3HQSBc+BqaemNzRmhwVG1lBNushpNjS3zTosROIiARkAh8DAKRt06x934hWptkMFL9MZNNyjPCz7Th3vaciXJlSsozGeUeJafn3vsUam1CWp9xUx8yEfy6bjzuIa2Z6pC2QaOpOddQ//34/lON5rWjrIWp2duntS2J6afhlz6ePjWaQqan6LFjGSMNsvHwuAdLI2xZap/GEczpAx05ComAREAikGIIqAT9ykse7ZjLGyevLzMaP8XQkg1JBJKPgCSmyccsXT4R8ft5vH0f8le24tSoXxO9vJ/B0TNdIiEHJRGQCEgEUg+BcK9xtOm7jyLjN7FloDz8px7SsuX/KgKSmP5XV17OWyIgEZAISAQkAhIBiUA6Q0AS03S2IOl/OEodd3+uRlSkscEX6CSe/hdAjlAiIBGQCEgEJAJfLAKpRExFVP6ppTiIyO+LJZrTt0kpwm5d5mVBIywHaCKGXwYfZt6Qoax+0Iz5xxdjplQQeRnMqfVTGOEaRBOXNYztXoDbHmOYeDAPdfLe4vLt2xQad/sLrAKlROUvZfRYkcWgykS8dveNlWPMb1Y9LBY/1UTlj2pJ2ZyfuB9FsNTQRm5U2KqN7A4PIOC5AQZlPtzugwuLGNvZjl+VsqVjP0f50cTGpKTlcWBZYFm+Db1KmVHujNWmE4t8cJKNiw9y85sIHgYXoYfjmESyBSjpiSYx9VgE/169RI5hK5gTnabow1ik5h2hZzxwWnOdbx778KDxHBYOj4r6jturgoMTa66XIFvYdUoOdmV4dCqs1Bzhh9tW5uCwLJCy34Zytcwo3Mc21OQhVSL2Jzhx8OvveHXtBZ3n/BQTsZ9QsxH+Ig3aCDLNOcXoah/u97PcoaTtclrD9RLZCLteksGuw9X0XQldieLwWQaayp0oGQrGDGFXwxVs6ZFR0l+lMiZfbPMRXN82hiG7GrJiS490nQfzo5dAJxd3lC9x2UZtqZlBKpwld97Kt3L+yBn8NXQ7kxp/KrFIbu+J359KxFTpUFuqzyAqkXQkD3baUtPyEK32XBXkUqy0torKN7Vm8YsoBaYpwyvyN1a/gYOSk1KtrnEHN7UGtYicc6mLdeaNaUyIUg782C1FlTbUY5LvbaLzNUdGFSJIrOThx4xHpLDZf4OczRuLFEuaxMI7LZ4kkfDr5kZNK2IaqVYkaeLnyG2RKLhEqMglWXoRLdXcnUri6ymUu+iJmmtf+Vu1X/nxsUgIHhcqP2dabWjCZrcm5A1Vcm32IGD0WX51TOOKPKKwhFW3P5lxaABlRDUSl7rVcKm4g/ui3GpcHXWwyJNpGjCBix7NyavmyLQh+26d/fMx2yMFnlGraTXxw/H2IZG/M5TVrUqzqKWfSPpfQOQyLo3z98e4JEp1ZhHvfflWz1jyVGSQiMfrQji5dAneNy+zcl4QfXXfixQY48c3oeQFNCVgwkU8mucVqUnFHGyys/u2M3F3TuI4pNW78/Gzjvtk5IOd2DWeR4lN+3A2ktaTlEM2HbYkqmLttGvMvBKb2OdsFE8OpcMRJ39IIatoWawfZ7sKWTs/M8OrmrOt9Dz8Lo4k47+t8eGI8HfF1NJHpMgSRXySoJRKPqAf/8RnJKbKIMPZImq6d/Puy5EQUZrwkDWlpl3jja+vWuLvqqhjXFiXmKolSbfQboc/yy1EioNwLzafK0+3tuk8CddHrYdC+Joy51EY71rt4Y7AQhH14Vs6YeH+hBNnX2lrccdo+d4+ek6bqSuwVhi9ooUaM5XlQbf4posb2wYZ8TxgF5s8PDiVqyVl/NZxJLc1S5aMpWFhpY0RTA8bgVPxGbTtsJYsXSfTr9XXnHFZSsSow6yqdZxxA1x5MuAwBwZVEM3vZIzDHsgXxtFdh8k6TtGYllPTbKy4GIb/JRiwSDuWj5p/ch7S1Ig/MCyqrKOGLG/vrVQ7eij+1oGb03zZOUSktQn+f/auPKDG7P1/fqOxjTX7EkP2oiFLskQiikJJtqaSJWQnyhJGyhaSLBXKUBQZREnSoGih1CgtlpCE7FzDd37Ped97056lurfrvn9det/znvM55z3nc57nOc/HBX1HZ2Hr30Qa8m0IOUUh+34499yZlJHZPolUk6L+wPV/bCFWwxzbsI29B9d/SIaTjFBcPVd0gG8WbdDytCEJTj06IHTOZ8Ur1oal7a8TuRZrCyghuzwGBcxGlJCscW1gmuRHq8OyxXTUOfQSR41ZY5iQwFhUPsUkdIsYAwnr8Zvybuob8RNuroac+lMo5jwTbn64NiwlOeF/kB/2InGgxa4ii4MwUjpFzQFdA8Us5PAF0wazfLkf2ASvtK4wrRUF17NPMXTdSrQK2c7/3hkAB8pdKfJSVHqWjIaW+7Gq/0tc3n8IjnuT0dXoE0653kb3dZ5YWsMVBpTQtOl0X+xa0h5vPWbA8JoxApx1QdlNpe9ipHSKGhy6BtL8Ko0UTdRlQjGPwGZoVf8Jbj/RgHsyCYRIId14E2OPAXppWHWDDAISuKcsZ2JK/ImUaqoaBhFLf4Ztr0zwW9JCeGIyelrfgDanXhPx2WLKEqL36QWry0Dn6R44vNFIinOq8cpPv0xJw6xZ4GVaW5MaluZC1DOvgXGThMpPtShRbgtXDI2/Dt1TtNifscS9kGl4bNcGo/49gOQRJ6DUez/azF+OpQv74sowZWzveRqRu+tgGykchdvew56mmzHx9y14x5HLFFpUOf09spgWoRQ15S4s2tujawTVqRmzyvVDEHPlDzqCNqvbIPL4GISRrOfI+1u5upT9d8yrNfmYi4gpWRVJjWq1si+yyKr4lsmzjnXH86Zq6PYbJWx3XIPhhSX+F2TjwcvKaNaAJaPnlceWt/68KRDfCkNyng8+oFazuqQkJFRIu7yEU/jKuyzw6lCvc0iekFy/PoSXR40hTsdMhG0L9PYxzyGmcfbKUFmtDN/k4fBsMQmVRHUWkKW6qiHi/iiGTEsaMeU8Pa9x6CVZGjiQC/aDaOwUiUOBTYb4RttXv5nlTW5vCuxLos2EBK5qhTSI23Q+3o3041NwfzWNTS9jTrlLjv2Otyep3KZYSZvd53tpHgT1r1kdnHu2DZpcX6dh661zmHTFCPKzW9L/z8VNNld04ZX5rtn+Bs8BV7BjsDRmQiHRC4v2MMU+JNHOsWL09leP6JwHmCGoybhjNOs2wGTyKlaU8f1VLU6gjXWvgxh/RXI3leVOTHn3/WHqdLKQ/MuIqTWRo/q8Tu3hlnC8SguwSSrvyufQZnEtczDSxB1JtUbh0BXJMzt/1aAo8mahJOl5HexvMg5xS4h0Ecns4d4HF7W9UFUkSarEa5DL/XQHXjO1SYaUERZdnCKL4cHxjGi+4khbunMxRHMxOAsjf3/JxPRKe0fUtu2Aq/E26CIM0WDP7nwxDEa3F2EzWcEzjs7H7EMDeBm/0gGk2FISnHqg14kpuBEyFU3j7NFLxRaxoxghG4VHB2bA7LwC9D4cxeoDt1Bnsg+i3Zg1vugrk8al6swP2Pg3udElyK0hiCPRhP7HMfLMSdgWcJdKLjEFN/mdwJQbIZjalA9HsI2l7/elO2rNaw/zmodxl0IonnOSqj6QXynaZBTSRxWYmBaNg4jUlsPHUqqv4InKRCIqd4moiHPz8zXNKlGS9PocNH3wBKj+CpeWkVrcji7FSpL2ZwRmRmOcyJiJa8Nc0PU0eQClkJdmB1ig/UTag9wly1pF6eyvGRh57qVwwfV9yUgWxRFTq3PppAIlbZ2aQF42VVr7Y8n6Lbk+m3Inpry+cGXsvBeCaTEiYkoUlGLp1vftCeu7pOfadCHOEzH9NSuLiTNzmtmC5L0w6mWOwAGHiAQZS+HOTUhMr+9B9RlNMIQmvoWjY/GLZSTs7jMyL7SYKmXi7ILBmBY/EUuVPDE1xISI6RTcpcVidNZm3D3eBtva2KBFEOHbuggL6FcS0z8xAcoHxwstdp/LXBWvjJXK4joERTHLJFV74NgdyP2qgFvbpuDiOLK6DT2GNpMBH6HrnnNZqK+GytGiXcXsHt352Vi2dwO0JImUshi+kUfQ08MVUwvNgMBbjm+uF7nFeYupVb3zxIcGiJ00CO5H4uCBY7gj9ysUbm3DlIvjhGEStNk8uRs+ke9QT/kjThrZo45vFuk3F7HySRox5WLfb2J9HoupFeqdp0l/QME2FI3DN6+g5ftgggdGjV2NGsuuwO3XbeSRCcciNn+XvWuk1Nr5JcT00y4DjHRpDAeTFxi7qFqxxFSf4sBHNyGr8eoVeB6vhNMUeiUdFCYBHqPGYnWNZbji9iu2KZGXbdE9hFSkzv7GUcOME51HeiGrShVUEQiAgTvxD3kAK/qRPj7v7gUM9w6FRYoRWpLVP4B5A74Rp/J4rHyJqYAWUhroewac4t0CNBB4i6nQQZlJFiAKOPZq6siRoE/2fbGzx7kcFwk3udzfWU7u4vKAP/c7RMSULI50KKdN91VI7bMdqRdnojVnZRYS07sWqKr7Gn/SgbAOW8mVLyKM9/0xdfKfqN1FFZ3GmcGMO0b4/cR0u2YwLnTZhtZmgBcXU/e5zM33+2FQ2ELEXiFLKjuc5rQUV/U3w6IcvuSE7YOhe206rrnTgSAWR9rJDyY3yTp3m+KS/1BGHFlSmwst7ofHKCDI7C65ZWpCkJ2Ft9UbQKQ/wCySBvZ1YO86FV2qk1t52FNszHm2vMdArvfRt2AxORTGzk5ElsniOHQv1I84YUBNSteV9RbVG3x281s2PIsU7rQcC2kYgMS1qRSWIWanW8J2DNa9hunX3GFQl4VJdIKfyU2ETK2DAKt+WNN8P8KtVSE4OwNNLKvgaCS1jVU516nYHDQkjZhyBxIt0fCsMOaVLPbKAxKxNpW+XWpDnjFWJA4StAMqaZgLD+DZpozC2EEB8K/2JxcyU5EMaCUSU5+fYdrBHaNi42Fzm823LLqJ+pObewv5LQqxcX1LxyNe0PcmHbSURi93yFjFNoU2IxTH718Nf1bksJOSxrbo7yIteQE7ZByIpjYtMSlQGRvo/MtC5S8tRELv4w72GsK/8VjoVPZB4hjxn0EoCamyI6bcCeF+2NDJBTd3D8e7lJNwmWuH631ccWiLAZ0GF+DWlkFQi7dFutswzirKLs51YNOOs5g2PaAP+fnv4XhoK4yrHYWBjjcGHb3ABapL3fXmNCwU1kI54hzmtntLh8QUcNgonQ6IVMf9PfpQmPoP5oXexOYaG4i07oDifHO0vHwAe5LaYZbHcnQnDNcIZmDqBHW0rlENzboPQO8m17g+CJgcjeglb7Gcfnsb/43kNfj8e301rGvTHTu6zIJZ75Ho9+h3GHr1xMyxGfDaE4GXVbWw5e81yBgzAK6dXBG4MAuzhljj5pDtdOjmP1jqWiG2tR70mqbjufY+HJtXPkooaR7aUD89HqE29bBr3kbILduLDZy5k7IMWA7C9hoOWG/VDA88VsMp0xRurvpohSBY1tCG1yh/ZHjpozJzk/dcjbuN66M6G1Afn0NujD+uidvayG3QxuKvyo1RR45V7C2etP4DiYwwB1miBoV2jPKn/tEnasDu7e0KNb/d6E3fzJTAkTjibUxtFfOVRidc1U9jfKgN6u2ah41yy7B3gxbVS4CQBYpYWP0gDurEw84qDJo5FuE0iilXhNUrB9yIswZbD95k3cPTmC3oO9QTQ4/FYFmfemjBxQSL92LWld6uavDb3Zs21lMQSJZtby4GJO8Yq1kkDuKt/9e+XSAKl6EHR+WKaf7acsRzP8sK0RjmdXzx3ns4Ihe3RT/6Rv6mibC6gypUj4xH7N+tYUcW0H8mWkPn/iHsC6yOwS6bYFttA1TMa8Ln9RFoHB6KxuaAxyPKNMH2/cyA0CcOf2RQWIY0LUmijUgs19lij1cv+zGTTZ4mRYz0yoaiKKQoMwanrstBXbuLVHhnM4UhU9TCvFl/yh7cb3pDGRFTsuo8yMSrT7nrVA31WvBueXYJsh8gU3RDtdyLTS6LELOefJDDh1ev8AmVULNRsxxL1ze1VmIfYnGjT/GOqx+Pk5zIsvcxC/ee8n+BEIPqbwm7j3VogQYXb1q9xf9wefZsRBqvwsDseDx49xh/OSRiwllrdOQwroRq1YB37/jflSp9widh31Sr14Kiaegdz+XQiDtsw8jAA3yoVR94KbLMsXcL61itJmp++IjKzYR9yQ4QZb4CdQ6albMMKj+GKucZVzldTGOH4ca1LxePYUTnbXX+//KMQRHCYmhHgWEprHue/8/5RvgY4+q5viVqCNcHnyrVzOlDiRjqwnpVztcH3GhihPNDwfqyPnmC+jljibtPNPy5z0MyiGnuOaxSvjGTe4wJJzuufwrDQSL66YsqwTwiw6F3WA2eQWsgQSkPS6x97u+8UqVKNPcJJz/6XYl+c/9i46r6W+E8WB1vWbxp/Tr4mCmcl2kCrfbuHT9Hi8Zg+i5oz6kNbykMLRPEOWG43mGoeQZhTUXq7BJHQ2E3ZGD/8FYwvToTFx5vQv9vKkPSH+INNrZPFsGPsqNIbnQpj2MZEVNJ7yQpqx9Lq2VaFX/RKdO+HLOMgf3SSBhvq/jxMVLWU7LmyBCQISAlCKS5aGJhPT/yakmTuVRKOkfWjAqNgIyYVujuE1aeU9KZjpWBL1H/1w7oOWgszKcOl+LUWtLQabI2yBCQIVAREUjb3geKVtH4RX0drlySzuTrFbFfZHWWHgRkxFR6+lLWEhkCMgRkCMgQKHMEWDgNxaNLbWhZmQMoe4EMgWIRkBFT2QD5egQodjDrbXU0KOeY0q+vqOwJGQIyBGQIyBCQISBDoCIhUEbE9AWSAzyww/8m3vzcFGqTpsBcrVkBXN7cCUfA4VO49r4yfv6vJlopVcHt5z2xyqJ7RcKwFOr6AHG+h7E3iPBqbwzHBZp5TgKmHV8Oh1OZ+KXjSMww10Hb2t/5Sjp16bn0NJpYW2MwO11KRDP7Y13U/YLDzqmnbTD193V4ulBc+UtFbRflMU3Hy5/qQXu6BTSaC1O2kIRe5MEDOJb+Ej/V08Z0Cw2I/pQfOVGOyfSXP6Ge9nRYaJD07XfCWxqPMxnF/cfP4dGzl3jebCTmF9kGYU7Qyw/x+OcesFosOepoRWMrymP6HK8rKWHygmLq/CYRJ3f7IPL5a1RSmowFRiQzWxoAl0oZdCCIJHlDf12J2f1L+Ci5by4Uv66cjZJuLZWqlVshTABlPbzkTLB2tGK5vVX2IvEg8CbxMNZ7ycFk7Wg63/0DXDT/HF7vBTmTtZC64V3M4VRx92wZEVPWLD7fpXUXf/xHyYfzXuyEpybU11TBH8EnMLcbOyLN9Hi7wRB7Crlf3DCVx/s2B492AAAgAElEQVSFeMX2EcqRit4ZDTtK57QqleVXuw5RytfvqlEeYsqrXWxrHwkSR/qCK3duVPHpJrN0UV229MelSFt0SCLlJ61YLIv2gaFCGjwoxceW/pcQSWpVSZSTTyt2GaJ9DAtKpTJpxd470D/gJExaZ8LPuDNcBkZQMulySMRaHNIsebfibgyNoLys7fhUNwsovVLs0XEF2pC2i4QYKjvgkFlLJDHVko0K2BtxFOPE3ASwNEldtqD/pUjYdkgi5SctxC6Lho9hQy5dlPGDrYijXJj/R2lMOtt2QkDiChTcjjKVEgNkOcfCXo2ytLK+fLQZ6ds0xb55iPdbjV3BQTi78xI6HXyOo+OKIqbx8Fu9C8FBZ7HzUiccfE59870byy/4SsvlFppHdulNRKCxN7zMOknQhqFcWv+DvYTWiV16mBhoDG8vM3SSnN1hmfWDIG4X9CYGwtjbC2ZS0eBwku0ehu0kkhFxUhs3OLVNkiyPO42Z7STBHPO5K8VDTNNp0Wo7GW82peLizFwraPYB6M+pieMFiGyZjT0JKpgRPlWsSBSg+YJwJKxV4xZfloC8r2UQolJr5BDTN4knsdvnMh7+X1uMm2YGLpc+J93qjF3h79B2jClmqFPGyOxUxAT74fJPvaAQ9yciGk7Isbyxne+B1N4YLLCGlsEh1Bi7CuZD5JEVEYcq+ssxud5Z7PGKwE86y7FClyRe2M5xkzuu//c/JLiTwtQs3mKaGXMAXr6xuP1zJ0yeIapLWcPKKx75mEUiZRWjMyyxvAqCrUihRGUnqfL4wCwyBfyfKPm5SjCsClGqSd+liRY+Y3MEGwREkqqu64GbUQvQoaybUFz53MbhCGrPWgP91gIizFVhmLKxkHolcfJyew1CScKWGivUnU/ZeBNRC8TaAvAa8WaITFnFEc44e2WoBFvhnt8vmCU/CZVEZI6r8xQ0PPeM5P/ygcKyTRgCviKVEi6RfSocb7tDVyLInVAStlhiKmwTl6j9tfQQU06pTwd3Vt+A0zA+zZzEXpR+7dqVI/C/1QrDq0RgTzigPd8MLcL38r8X2cCgbRWyjfBKZcmv66D/73MwtO1HZF27giP+t9BK8xPO/vkYavMXo899F9gfTkEdVXPMmNYRb/1csCW1J2wWa6GgX1BiUfmKivHGC507q3HDaZiUpmzMCwcnBa1zB6tvOGGY1ISsCXCWqUq6ymOUUV3yVt/ASN+npLgnebsMsRDTbJY4f1Iq1jKVjS5f8X1I9a288tPbkZexyqELDnFJm7Mp0b4Bng5qjlmzhMpPTZkUngPUoq9j6HFl9Ixaxkm0ZhPJUotdiphB7ugy4R8MsZ4Js3GdEWHYB1sbOiHYpz12tNdB1rZncKq+CHom7pBbwchlCkx4aRNSLylCKWrOJ1qEjPHC+RrWtjrJqUgkLqFnDS9C0+Ij3ELG47K+PCwqlZdcbAhmy5MqiZWImPL1dlA9idsTAtGK1GmsRMSUUw1ygOrJ23DPx2YCLKpC99lePCdLJMdzGHkYK8CRTLK8SgTxYZm/SFJV0xsjzkRihVr+5Z+FMwQjrY4W+tPCCraxk7fAe/dkBJqLVy8yZLY8BgVY5RDThPWkUkbJzE9e7IlNStNRJ4fM8eTun0LIdJJTD3Rw0ckpA1xfemB0TCJWdJWEyeAHJaYcKVXHGdMYnJ7ZTrJJKdvcU27cQ1Obwyx5EUJPrsQHewWM8B0OzxhX1GW/X+/FC8/mnNBI2qb/sOcjbVCtOyAqYQ5a+JLC18QoWAYEY1bSRCht1kD4vdE4Q/ceoP9nimsJ63tgeYsgKU0bxZNS9TOmiDk9ExJmWCuTSYAjpepnYBojeZbE720wp7Q3xBXZVFADMnjd3jFYIj0dYiGm3CJljdJzTX9vb0nE80JJ0qO9sEFxFsifj4vDTkNzYT34/R4AeZEkaZtkhJ3IQJNhnXFvuQq0QmaRfKs+gnp0wP4xjGhmEmnTwdsDTBv++yVJD46nMrvvojypNRFwby3Ucsmc/okJGPV0M4JntsGd3TrQ2KiGU+/doFPmeJJ60GwFGGbvwS1ScKqfuRdDSZIlcNRBPD/UCMsVDJG95xYpI9VH5l6m1hKIUYVYtTiZwtf0TG5iKjFWrUzEnPobaXfPwMFDgNkebjDpUpxdipcS7EnehtDYVSjAYcu8T/JZHMjaqWCYjT23vKBfX6i8EziKLIYb8XJUJ7hoRyHOWhmCi4vRtt8GVF4h2mR8LoebJ3br5yOmu6Ev2nSUc5sKvu5HJKZCohJmhZSTJmgs9j74sgqUKEl6/XcITkUBpJgn72eAVjMbFitJ2tmlLxQdGUmdjljtOajtLWXqT0JYeZIWBitSbjSpKJ39ZUOi8LuEm64wqxSclMIGf1Zwq0tSuhIgXV1EX4mFmHIuU8MgWBXmvvueQVWhnxUS0+tb8W50E4yLWwKPiacQ2ecidrydQm5AocVUSYBkv7kwWfkISorRcL/LiOk4XNFui4WKJ5CxoxE2KY/Gh/1Mx7t0iCkjoMoHx9N7FkMpFzFdFa9MLvULCJj6qxD5vOpeZdodFJN8wW01vBLlUfvTBySFOSFOLxz3KBhRcP8C3FZ7IVG+Nj59SEKYUxz0wu9xcYq5L86qR265PMTU7GeclBhXMV/bNLYIrlLCmWRSminCksskMgc7qGB36AKxk1K+1mTNveCG1V6JkK/9CR+SwuAUp0cLuT3UWFjIGnucR1P8LPcAMWsPoM7+LFoISG0s18WFWmzol4+YHsakm1EQc6SCsJY/CDHNvAgXR09UMnLG9Ib7oEnSxFpXr5C3S6Id+HnGUsnEdDHqX1yP6dOPoXG3Stjp1bpYYqpPqk+aLZaig+8mPPD8GfuOT5QK6Uom6XzRxRGelYzgPL0h9ml2gqvWVVwh12bF6e2vW3kyL7rA0bMSjJyno+E+TXRy1cLVKzaoQMP7yxrMSV2PhFeW8HYVR+Ga/mWPl+dd5U5MM8/uRFjtJjgxdCROGgcRkRqca8CTlSjyJZR6tJXaj6DozhURU9IEF5nbFVciKsUOqlx8mpCYPl2AhhoJcCS95p77yaIkIoz3/TFpwDL8q6GGWhqz4WzCJpLvJ6aeRrE4XW8uWsxpDv8XntCv8rlM+1uqGJ3lhrs0KbMw18yzbrjU2qJcTi9mnnXE8lQNmjwpFpdzYdvhN86SlomzjsuRqkGLKJkNubARu98+k5tcHZDtPRpNNvbBdWFMKXMdq5yxRHKgecGDUuX4Vab7mmKYnTw2XdrME1Gu/69iVREu7MzjFhjz1wjsc9dH66D50L87E8eniPnMbOZZOC5PhQZN9mpVsnGAQj3sfmNW0c7cSfYjtWdhjT7Fl0fYooXOTTjG0qGg/NEHTIt8cDq2ijYKARaoalobQRIjG/ijEFPhglZrKRyG7MSStE3IOGNWYayl7NMtkZieqI/5be0oDjoZ658yQwCLbqL5jvv2CvlNzlBvMiCYBlCMqlsGjk+UFvUnkq5kh2K8amGpwxDsXJKGTRlnYCbF1lK2qe880gu1ljpgyM4lFM6RgTNS12B2kFQV88kpMHD7BUz/exjG+tQg42ACxfbXLMfV7cteVYbElD+QYqvsi/d0+pZCy5EdfxCTDSNhGbsDXSLtMHroRsDSG9utuqDe0zh42G/H+6n74cDlMPrRLnagZx06xh7HxLppcOmriEPj+MNhvIU5no/JfUIHQgaFweLEH6jvbA7rmyOxx38Gmu4YAvt6e7HBrDOaVa9E0vXNKEid74PDJszF/4n7fXB8LOJtkOv3Ey5eM2yOD+a3rI2Pf+ljRvoK+C5Kw0KKQ00SUDaAC0sQoWOKdJvLCJ18G5MpxvSy6RmEa51CV93dkJ+8GUvaXYDHrfE4Qkf7y6P3ou3aYOAdJ2S4dMYpSz04qexG6AJ2YIxlMRiIO04ZcOl8CpZ6TlDZHYoFnG87DEua6+DAKD8kOGujNue2MUKWUzQ2dE3CqgHj8T86Ab5KzH5wQcgCKNrWhn+ANbpXzsCfk7th3gcXRFDIQeuwJWiucwCj/BLgTKyVkVJVq5sYOFQJ1aiF2TEhqLWKLOniPh3ESOXAO3DKcEHnU5bQcxJZc/kFfX3vGIRbvMKm4VOQutgf7oykIp00qzti5sv1iAqbQQfQ2CKpgT0D/4Lf+Oo4/rsWvPUD6AS8uFMOCOcm4WGz13msvfnGWM6t7Bt+jf1Z5BLNaxiuEBOdaPFmxhbdQqzbkt0I4QHCynyGGO4gHm3oY2kirMTCRdjm/kRtWJEFtOZuX0y4MgMm7r/C5sJ6TM2yRxPDyhxJHcrNw3QY7703DGg64eP1ErGukIOVko1HCbXLbVnT3Y8sCtmogEP2K7pARMa50V1hv9HiGpxJBpqWk/6CoI8Tks7NRbvnuQ0HXwFVOd1aRsT0FdIuXkDMo/cFm9FQBSP6Cy2ilEcr/tI5JD6j2+Q7YFAf5R/ixF9BUB4hITgKN5+/h1yNdlAbStbOuMtIV1BHFyJPZyJu4fVHeqpqY3TT6Iqf4kMR9a4lBnWVw7VzD9F0WB98dNbHikrGUMu4jJTXmYiI6AoX34F4GpeFj3IN0I7W8rRb/O+mjd7h8YPX9LsG2qkNheLzEJxOrQk1rR5oTpaA+EuX8aqlEqo8yEDtzt2gSKcSBdnxuHQuEc/kW6Llv68gp9wVnZrVxUfKRRsa9QBoqQatHuWZA/QN7oQTDg+qQVGjF7o2yHWy8M0dhIdG4UE1RWj06orPf6IwiDAKd2gygj8sxC7Rve+qURO00KOohKfl9EGKXsMObPxzLRypz6qhWVd1dFMUnnwm+VkuxnhEf7QlS2Rc4DncepW7cjXRbhCl0pIAAw7LU8zGRjVFDfTq2uBzkL3ou3/XDF3V+fElujJjTiGKzvHr8qkmuBy7ojlCnlKdaHaQjBOk2XGBOJcb+JrtMIjSlNWlDXjeMVawj2q2G0SptCSgg75qTAsX76N9cTCFrNsVyIL2Ku0iLsQ8wnua75or1MHz9Ps0n8qhRvPGqPboPrI+VkWdjl2g+l8Kzt2thu7qCsi6HAuodEal61eRRstY1dYd0fThTeHvvhjejQBgnhqDN9geMk2sHpav6sYvvJnfiBxF34MptBGsQJ39he0rcJuQjB/texApZACQthZzYWvOLci4VTFCcMqImH7r6JA9900IMOvU75VxlCwAfJIDOmwy0xVdXCgM4JsKlD0kQ0CGgAwBGQLFIcBCgYxfbEXgNPFmwJD1kgyBEhGglGn3nsuhERmTKkKssIyYltijFeAGiudboDsBXuiNkb2aoZKgHrSsl3G5+WSXDAEZAjIEZAiUHgLp+8eg38qb+KmWJtwit0FTNs2WHriykmQIEAIyYiobBjIEZAjIEJAhIEPgSxGgrBIhp1NRU4JCf7606rL7ZAhUBARkxLQi9JKsjjIEZAjIEJAhIENAhoAMgR8AgTImpnQS/0EmXn0Cqv30HMnPFKDS5BWevuORrVSzJiq/egXhP1GtXgs0kMvGg8xXoEfo743QjDt48wCZfCF4nvwMCurskIE0XW+Qde9pDg5CcMo8HoTh+rJys1yHgyoapkLcKtX8TqxKq5zSx+9N1j28rU7fRbFnfiS7/k/fibJE5MKHDjVx33m1emhRfONKH9RSLJF9Q0/ozDKbp4q7WD8WikMp1kVsRbH4tbfVK3Q/loQdvwZVRr0WuQ7xlfSQVP6dzTVvUf0HwuHL5mCp7GyxNaoMiWkCtvfpg/0D/OBl+BQbx5kgiDS9762oDvtelEbqrR2ib62EEulf91KxxVu7aNxa2Y0D4s3hMaj3pw5SDpvhxZ4+6LN/APy8DPF04ziYBBkglFMgkrLrzQXM7zgATr324u4mNSR7z8Hv9gIsCAvEvDLJ9JtBqXlaUTqv87jv0LvCgSlIPoDfR3hA1WMf+oSOw8S0+QhzMQA7VB/lthJXW4/E8Db18JQUS/zTemKVBVNsL3hx5Wi7QnGPO7TPT8IW5ZMkLVgeCa+Kg5xt6G4jMWgjzCwjYHK1aOne4nAQa6dS9oADv4+Ah6oH9vUJxbiJaZgf5gID6qDMi5QqzuI+FvgvxEd7HWyllHJBi7sVIo2XjlObDuGtuh4odBoPrvyFy9XHUTy1+A+bsMXq1hUPLDFfhbqu70lvuihiSqfZLQZjf6/92NL9OhZP8cNADz9MK5Nvurx7nEQUTttg/Lp/Mcd9g5TGtJPSlZMm7KpsxIjwKfDv745xj6+hq+10tC9vuMX8PsH907AZvw7/znHHBoMfINc4ibicthmPdf/OgfsGA8qCIuYO+O7XU574I/tx9qeRmGvQDs+PW2LQnCvQcT+P9YMkRINb2MayI6ZJTujRwR2jWO5NdlQ8zQV97ZrjIuWR4xKbj3uMTakXMbM1n9eQKR1xyeTp1gjb3+A54Ap2DKY8iCS16T6K5d7kCqH8nnZofpESH393J0laAXzieusufK49gM9BulrtFN67CUU+mWXi6QdhjtJcVlZmdar1Ia8Firv3HW+FFlnbhP9H/5lj3XiTnQ25usKTennK5/ERZGeRxa46PmY+hxyXG1UScEuHByld2agE4xHpOAMhlIvVEB99MmjMVOGSaU840xL1qzdBvxkrsWLO0MInFQE9pzASj13vErF4zxH1ea0D8GybppgbyXsa3t4/AF21gzASfUMFalU8DuJsRLqHNtraqCD4EUkash6idCWGH31IUKMKbBpqIMHxESWxpg0Ap6DjBQNuLshfY/ZNqML+SWPUqaMIgwUbsNisW7nkyS0JO84CiggsazgWH3yLJqZcrstFv+JvTjWNNVcTbc/PxFPK7SwZia9KamlRfyfCtksP0wInYNchkwqokiPy5uW25ov+T6Rgx+ZYf1i1m4hPO+9ik25VPNmjC/WD2ggKmAPVH8hqKIjbBb1pgZiw61AJ0sjfOp4k7DlK07hLbxoCJ+zCIU6sRhouPj/6rKix8LnQDRs0rJFtHoRLJHIkblNMfnTLjpgKzmJGkyHwaGiFY8EbMKw5pX3L/oi6dWk6zvbG6CbjELckCil2yjg7owmGuNaADclGrlWjRPO/HcSg63TakXICcn/zaAirY8HYwBeCj0SkKvakXtggz0dMhfgFzWYYqSI7wBKdNyrixB9vYDYyHfZJblA9xZLmCuBKKlBmjZi6zkA8tL+OOZ/WQ29jMzgYXcYYw6uYGR2JGZkLoHlGDycnXsLA5S1w/vAAxK0bC11/fVyhRbNpgfKX4hfXhRhjewE1NCdgUrPTcAwxRNB9B/QX+zfKK+7ErBVtWHjsPEdFI5qs7mdMlJGwsGgro6j63AZpamOcyFiF9jmEX+yN+1yBhPX4TdmzGGJaPA7inEw5pZ2YtVwSc7al5HTvPUch2qsazLtZk5SjiMzxbXjn8xpHjPJ/1axf10DxCp/QXPIuvu7FEdMI2xboneokFBmhFjAlIavG+DuZCLtEtulLUOZJqZGPHg6fnlkBSWkabWwX4pP7NsgvHI6YudextmscnDQtkbGaLKL3bDBiuTxcordCXXAEM1qaAXuJmA6uhPuu2ujjPxIXfiBiypFSIx/oHT6NmVJh6S9hjHOk1Ag+eodxeqa0kFK+zZzM8/Tz/D8ULRF0aQckUc+o7IgptTuTtIcnG6/AqSf1obvaG+6L+wqZuYDm59oYSbre4ck9saPrH7j5KAqpTKLU8ASU6MNPEVmtSKd5/WRjrDhFkVy6q+Htvhh9JY3ef8lcXuI9QmL6v7FYOugdgvYGApOD4L+pPyW9J82i5cqYgR2IX5PNLYYkRQLPoTz5T1x3DyGmMTDpmwTryCm4Mbo9Ls96TFJjTE2qN7wmheNsfSv0vrIIcft7I/ZoMtT1OuPGuoHQIFWPeCKmTwsrvw0jRgcxPp5ckMj1m5l+xHqlY5dmCzhr8ES0CmcxHQTnIbzK2BkTecx7bIolxrVwelcq9PbuhFkhidkDLKpC92gtDLE8hK2G92A3dj+6eZ/C4m4Ssu0pkZgWj4M4eQ83ATprIDp6JbpRRfgEz0NINWcqLjQZhIydQiLKWUyn43HOJiP3wGLfxEAc67kA0367g13HGsFh71JoSIgIArHMEokpR9A/iNTvhMR05Icc9SCxfkbf+HIBycgqGWXCOdINwyrkXBwAi6o2ULh8CSv/9xcOVRuHvhdpvAaY4xmneU95oIc2xoJ258h78urzfEuOLG6DJZKB/kb8KtRjAlpDlIyQ6RwJt4rZ2V8Jt4A8tkowynRGpNswibMkfmVjCt6euRdDG5sjkFo2L/QuNmuIc5UoujVlSky517I4jUVaGOV8B61XhuKaHZONFMm5eWPIpH5IVbbHzrf66O7QHZYTE1HXgnaweYJIWSzTImiNcsad1isRes2O9Le/u4skrIC8FtM3iXswXt0K0WYBSN2kyUm63o88iLXzluPQpQfQY8SUJkrOInPBGqmrk2ARNQ0hi+/SpGuK21NnQaP+J7zKzMCLrlOxe8QDmHQeiaONp2O/3xYuHizvJFtI+RJLTGn80C7ewPw8DPbYoYXvHIxzDcJ72ti8JLdEZkwkXir14Nz3HEHa0BvhCRSXnG/McKQhaBH+FrqbOanCwyRVeIWsfJIwvkokpsXjINYBzqwOBuY4b7AHdi18MWecK4LeGyPoJckRn10A3bVV4bjTEPcobnyBexI6befld/NepKIUmYBaPXj3PSO3One34S6RB8ngQz8KMeVd3B/rsMOpjKjoIHZFFE6aSIg07FcPdLL4UghQzxUZ0BIaTCLYXABRGBUFUnFzAdu0t4ejyBDwgxBT7qDXxzoU7iXHkTSd2BWIIgNGRe3tEocHdxDzI+pQaIYc23TpxGJFFEkHS12Dc0uvAnUtyRBI66UkLHX5+6jMiGlGoDNCm1thHGddE7nkR+PUezdwEZNCV7Vrdh9sZ/Fl2aRe1H0VUhVsEC463JQRCOfQ5rDiCxFqE3tg9Kn3EIVdljjoKswN+WNMmdePJsvDkwkzFzSniVT9yCiEhSphSw2hxZSFojLVp+4HULd7XejujISdKlssraDAhUXwjX+TlQWBnByqfEiAi8loWF8zxrn0bWi0VbT7n4NPhZUvwcSUGkUngSlRwzvK6VAvBWsUBuHutmc4PuYJSXamo+EwTXBGUuY6HRkHR2b1zWfpTXLqgQ7uo/K6m627cLrYEhHD/AXEtEgcJoo7bwV/epc6iLJN1EPKGgUMIlLJLFLV2Un2j5WBdx9Q/eNJGCiuRe9c4zXnk82MwamoT1BhUrk0e3IbqRXUPy+ofyRiNi2ZmHJj7PIivD5ixIUfZZNmtfzGPpyXQuyOhy+dG8OXoLm6Iz7QQhaqsg7d1qoiOHlDBQ5FeMMiwvAkZA5GTDiAplv/wbKE7hgUvhyJkfO4Q03cWLu0kMZrTcz5oYhpOJY0V4fjB3LzhqpgXbe1UA1OxoaKG3dS4igPX9Ic6o4fYBkUCpV13bBWNRjJG/pKJGErsTFF3iDcjFlHofpAI/SIP4ygLG14ZFAYoATqr5YZMWWEQP6QPm6Sa7UREdOLi9ui32Wy7F2cKdx5Cclq3Brh//GBuY4a4biXYy6liV/+EPRvUowZmUgEFxejbb/LsC70oMS3d5lkPJmfmEbDrk13rGq8nfAZAF8WQ2lEMZVzEjGmxlhUE1pM+QNhFNBMcVE8oef/vUCwFpcpVKJV/CZMOqyGNY22wrf/cYql8oNxVRcMvBeCvodExFQXpworX4KJaZBlDWinbcPDQHP85GeMjmu68QdMwhag4ZB4OCQHwpwOb3NEYHYzBGVQLE2VTFx02YFY5Smw0GiOKmnkRu50DONSjmMKxUuweOaxr/cilUzR4qZ13JgsjJhSaIvLjlgoT7HgXNpF4iDuQR1kiRraadj2kPrhJxpzHdeg299sc5BG2ToU6VDfBTze1IssU70wIJE2pBzmZCH1s8eBT+Ow2KgDnrEDVEuUEfR4ExfXnOMdyJlDxN3IwohpIWNMLRKLbpPb+xd+zlulFFWIdVjcbSnu/QKyVtPGwhlo0CALDeeKYrsluc7F1Y36Tf8VttImKZ0sowMebUPGSH8oDIrBSm5tYa78jjhvmUpeqbCCrnxPI/KqTEETNKjAqfaKxkcQMpuw4DobWQ3n5mzcK2pvl1hv7hAshYKx/sxqiLlFHjYtsSTJvYFbS6wRW1cX+8kaPCLRAu11o6itV+hwukTs8vNgV3bENGknxsw4gqfVOmGAchaiH/TD/HX8YppzhS2H6e2p2Pc7n/4lzWMS9rbxwpqc0zVJ2DlmBo48rYZOA5SRFf0A/eav40mF5A6Bb6jZIyQEHYDdrO2IrK0G4xGd8ObqCfzTzBQrlvOYJRyaBIuliWg4yRR97rjC+/107Ng9C2rEoBj5Urm5NIfQC5L9YDN9JfxSga6mG7F+6VD8b68ORvj3wkpjILXmeFj3eQFnq/HYHquCWQedMSx5Ub7yTbGw1xXYkYtV3W43Zr11xPj1sVBZfBQeM5RR8xtaWZqPsDauXBMMUJaLhw20sNxalM6DkRsnin97Ttkl3+Dehw6YNF807iiF2WBdHNc/hbOzeHtV5kUX/LE7Hr/U/hfPOkzCCgsNzjon7ivebzWOBl/GgdNpaD1sItS1RmOFgTKR1e0YrHsc+qfOgjWhaBzE3AJKF+W3cg2C+Q6C1nLrnHRCDPPl+xIhT9bUDx1MYT1TFHuejQCrflw889/OOlys38Vdm3Dsdg3UfpOBlAYDYbPAiLeEi/nKuLALe06fxwnvCEDNGCMGDsOUaRpEVgoZY2dXYqr7M6gSqUtUmAWnnFh7MTfia14vWryzFLCUrNv2FTpfXxDm/2qLl7Zz0eXuc3SzmknnFti8YQOrPY/xmxLNburzsMqgJlIOroepzVFgtD32LR4PpaceGDXWAS+GbMCudfpSkEKosEEg2ohkQWEpGYoqdmd/0SgXkfEshd3O2AAAACAASURBVKVk4LGXunSUfIw/MHDn3wiZJvm+mrIjpl80HGQ3lQYCEbZ9cWLExXxxuaVRsqwMGQIyBGQI8AgIksNwIr0hhml2kMKsKLJezoMAbSzzhERJPTy0MQk7gfSGw6ApCTvfUsY786wjlp9uglnrKkZqNxkxLeUBUH7F8R9S7KuH8N30HstDKlDMWvmBJHuTDAEZAjIEZAjIEJAhUIEQkBHTCtRZeauajZAlOjA/2RhLD3pLiZJMhe0MWcVlCMgQkCEgQ0CGgAyBUkBARkxLAURZETIEZAjIEJAhIENAhoAMARkC349A+RFTyhWW9bY6GkiGpuX3IycrQYaADAEZAjIEZAjIEJAhIEOgVBEoQ2KaibMLdDEzaThsdDKxy/4Q3s0IwxXLd9g0RAO2UQ0x70w01mg3oEB6ynkYuByq+n9j+gV//P7JDbp97PBs3DZsHl0TaUGe8LzRDJYO0ngin/Untf/aQVgMmoq/Oi3GkbkdEf/nRvi+NIDTwVVlJBmWwWnD2yqfx32H3qU6qMqlsDcxcDGdjZiec9Eh2gEXBnrAbxovH5d50Qmb/voZnXr+hESf86gydTtWFaq7dhuXQ56jba+ulPaF9cEVJNfRhHqrcmlBCS+hpObxBzFZcxO6Bxcjr1oMDuJtxRvEuJhidkxPzO0QDYcLA+HhN40TLhDcPw0bY2dUsTDCu33b8ZPtKZJ7LCJlPhPosBmD1W8nYVrVAJzuuQ0+48Sb+ZplQpg7zhKB1bXQ+XkwbiguhOfOohTpmHynMUy95NC9089IDQ3Di0EuOOKqD4kYZt85SBgWC82cUHmlX9F9+J3vEPfjmSQIYX2+OeSOrsLdhRFY0yAVzfR1weeS+YEulmljoRmcKlPGl02Sp69e+j3BMjUshJlTZaz021RG63Dp17roEmlNSY3BjTcd0L8LJeeL88TS7VfQxswBM3qLO89O3lqXHTHlpAZdMVSY2JyTsdvREymUr5D73XsTuhzKwFFjPmOk4OwMKB0bhQROiYDPDxjnGI/rwqzomZQXtfPIMxjqf4Nyy0mG7kvpDqn8eUx5OVHXkUwWT7N0XyUsjSl8vKzcrALm4sumNLmKMKv8J9JJNu4XAY2X2iQqEMpEBZg86W5oZAj11QWUQ7PBOUwmxaHBBVDkx5kX+/9fWkFzwVaSzR2BX8WejigbcYHnkP6UcvZOCML4IvPqFYdDmQyZLy40m75XRbPK+DOdz9/JJIitFEIppVlNkhlVxl+mSTg3tx2qcPn1LmHhs+MoqAlA6aMs2sOU+vk2zQtxLBH2uQU5SdC/uDKlemPu/MKUk1koFOIx4BAyjhoXzH+b5IQeHdwxStSH2QegLz8bLc89I8ngUq1YuReWedEWY82fwSqElOQkIcdamSDAyx0/38sr7XHr0EplnK9IAgmlgQvlT7YdS5KtViHYYiBt6RoLA4hS1dmOhfkzK4RsMZCIFILf343CuYvadO7mIOxjSpBtN5NxZp5kKB3mamDZEdNsb4xuMg4Xdbxw6dBEyveWiZiYt+jWjdkJhEnhwZLHs4T72fAe3QeJtv+QchGrXUFimvPMo5WISrEDd5tUXcUTUybBaTzvOgYPzcaWU73gGzgVHx36QNWuHral/AWr5m+xz0gVcfNvYnOHYFjNuoKO7SJgf6g9XMJdof/EA6Y7K2NavyDoH9VHuvdwZJ22gc4fjUjidDHaFChfH9lb7TDT/jIaDu4OJJ3BrRabEXjSXAIUa5jWtS4iVogSffPYHRzPNjLvOWGCA+o+OOlqhFY3bNF1XRsEHTYrZHKhcaacgIXxJEEqiWOpROWn4nAQb666AIuq0I1YkVdVi2mM+/wM0w7zoej7Ht4GzL7Nf+skt8Ut/HmuNBf0VdxDkojCJNCc2ld1kkoU485BlKh6kki+Uvjdxk4qXDFMdP8vnTHd2R0LWx+BtnYUFv0TgmniNfx+14hnpHS0SSYWh7uh4tkJ2MHReQgfNgn/t3AB4H6dkowzD9/v2C1vjIG3t2PL0ynw9R6C1yd2YvGY9cDiI5g7uBYEHhaYeLEvtm2eheGG6lJh9S5xIDBSOtoEmYvD4VbxOrvE5hW8gZHS0TDJXIxwN30JkT/+hmYU8ginaGYdiypVSORcThXOVy5x+bAl7So7YkoqLnG7DKAz5xSe1NfF6j93Yk6uxPjZ3qPRZFwclkSlwK41kdg+ibD9R0Q4CyOmQpk465+xOTES85hunFRdwgWuBnPlt0T4Nnucqr8GB73M0I3WYabwo/fvYbx3+5cW8rGozGRZezPybwrsY5bna5j92zmMv74Cr2YowEs7nRb6S9xuP2xJPP7EBAx7sh3J6+tiz5Io6M/qgBOLx2DmP7M4ecQHhZXfklmzPDEqOhor5TZBWeUYJksE9jxWnBKWDaOUvHXZXt0X70lpjAYe9LSmky77L2jUbwVOHl4MUmwt5KJx1ngD/jPqi2bZt/BIcxlczLpJTo7GEolp8TiIUyeAmwCZQo6Q9HOqTfbq8H0xDscbjsSHP4XElLMgTkLq2oJqQum7NNFi+mOo/z4Evw+ohdNeqRjl5AYTcSqVcBK3ZGMvQExVCpW9JRsbjluoYqz7A5oR+Ut13Q1cIkUrcfbPd02dTDGtmydGhIVgnjj74psbwdYXVwx8dAbjo5fgjxoOmP+Q1qPtg/APZyjhv6vdI6OQYne/oPIT22D9MBbTNOzS7AbPEWEImceHSkn7lUbzTjfPEQiTQEvid2PPbfZn4RL5dsb63iTjgGR6n8uQmPIQCu5fwLqxulh1uTpGHYzAUVF8mIDIhBK5qtX9EdprA2bAM5dMX3HEVB47SU5zmtQF+Hy2mL7e1BW3zq/GOPMzaLMtECfN+S2NIDsex/+YglmbIyikgVmYeInDEY92IGPxDYw4MQIX174lMmqMhImzoFH/Ba77+yFmwG7cmZyAHqpL8WqiJ/y38uo5HHnINckWKF+CJUkzj1tAdWVj+F1ajmZnZkJtgjueGPnjhacawmaPwdb2K2Fb3RfTrHbiVkdHXCU524JraAIOudxDP4thZE3l8f9rSqrkyEWWSEyZa7EoHPTFu4hkHoeF6ko09ruE5c3OYKbaBLg/MSKd+z1otUMTWpdnIObASDzeOgT9rS+jTa6wHdHky+/ua8Ap6RzmtqsilJdtiXPPtkFsXvCvJaa3vWHczwKpY1ag+9/22Bv9gghqFVJg+YcUWCqiyZQRlS7Y2j8Y1+zUxDvGvnmV5kNEdP/qCscj7pzB5Byz8H/wwX9Csz23kQqaR2EjrbE2l0U//5z5zVWoIA8yktZla38EX7OD2o/BSqHZZSv6B1+DndQ1mIyF6/uip3UUt0lWXMk2XpLpey4zYpodF4bbjfqjGyPkdIBhr1EbmP89Nc+ikubSF4qzbpEkb29sTsodY1YYMWXu/iYYF7fkB3HlC+BnXBWGQRQPQguxEiMgM59hTbAxznccm+P6ZLG5TYbEYfgkAeqYRlLcGsPOFh0KiUt8E+OCsXoLENxkHaIj54GYWA4xrV9Y+RJMTEVE/dK5RPrCauKk/lBctSZS2XEL5Nd3RtzxKbzrPpPptBuisjBGLM96kM81fNzk/zAyTRReIgErxxcQ0yJxmCkBpIcyccRfOodEKKLmSX0MvWotDN2h4353whEa9QzyinexqtsytA7KwI7BeVc+gZ8xqhoCvu+F8cIcKYzBWnFqWcfZk+fAFgkFLKZjP9cz19DhpAD9LUnmcC3JHApw/8JqjNK2RxRtokQkSAJGWvFVCF+O1gP/QK3V8Tjf3hGKEz5gTzr1SaFeCIlvjchiQofqdDBm8yMYn0rC6KNNoJu2FfdCpnGHmjgCesaS/t0Ytj8UMQ3H8tYD8Uet1Yg/3x6OihPwYU86WdYqcmeXNLxbY+AftbA6/jzaOypiwoc9FOpmUDBevIIM7aKqyZ/T8cLLZq1Q/8ltPADNWVn0HUvWuSeu+mVGTOm0A9pcnYGEtfyuOs5eGSoehnlJpTAONUAn/8GBgsT0Tcwq9FF1QZcf5vCTMA6Xi6kdg3M5MZQp+WLycgU0c5Yk/t87yBJ9g3b/jZjlyvYVTNoFIULXE4vr78XQxjugTS75IcdFxFQXpworX4KJadiChtCId8DDQHPIs8N0etlwvU0HnBLt0GZ6HQREzkU7bohnYu/QPrQzTOAkW+9HXkJGkz7oQayVhUdoh68QuuX4jcCEd164e3yiZMQVFUZMaZMXeSkDTfr04Ih3kTiIMQyTgz1sARpqxMPhYSDM5Zl3RA/ZrreJfD6Dh3ZbLFEOwuNN/ZF5QB+KHkMQc3omyCiKN4khuIJevCwgNz/8ge5X+awE2XSv/HyymKbTOBeb9Ub4vdVw5McNd/BuJA7nzGFEPnONsWi7Nui+bQiCMmhscnWOg72yCjwMJddaUXBhy8QB/ZaY9FcHqKjE4mF/OphHJ7fE1gXfTRBoTjQBXDyHInJxW2g924kMLTfwUVFHYVyXHdarh6194siqfeOHc+Wzb7LlpL/QQUUFsQ/7i/l7++7OLrmATAonajkJf3VQgUrsQ/Q/l04Gnoo7ugttsKiN6IiVoddgEjsMnabHwywwFa5DJI+Zlh0xJcvCb/13oNo4GyzolYzt9neg40GB5H1zxzQwV7QSjo1KyGUtobQ9lzdiMKWLuqdnj92TmiDtwjEcuVYLpmulOF1Uoj+s1CfCp8UM7F02EG/POcD+nAJmc5jVoWD9jtDbLo++o9tBLuoorssvgdsROwxtQsfCyPLcPWElMriMBkTFKL2J7hgXJFZujF87/86lnGq6/zcMjJiD41OTsfnsQGxf3RbBk7thYtAQHIjZgSY7u+crfxEcJiVj9vTLMDwRBpu3S9BtbBCG+MRhv5H4T2VmhyyB/uZKMNf5CccC38Ji62qM4I7Tk7vC0wLL/X6FNo2djIPBeG5sDwcjpu8dhgUNNeBlLFxYM89iySJ/NNcciBrZQTh2uQ3mO82BhgScML592RfRF7ww1eY8eq7ygIWWKgxZHiuO8HnBWDh5Fo1DyfNxmd6RHYIl+ptRyVwHPx0LxFuLrVg94lcufjfBYxQsLw+EuVI8Ya4Cm90W6MXlN07nSOuMf7fiH7JcMZsvG8sjV7zFpGnNcd77PsZs2QgjMWtZF58uKt8YE8TB02IaVvwNqAxpBcG1ZKD/EjjbG9CB0DLtgdItXLSwCX7B5FNP4aZTkSqfHwraTFT9AwqntqHlwc34b84BUs57/jm9oRZZCNMN4WbfH1Wi+bUIdpdwdqE6al1ZAEU60Kswcj5Wb10iBSmEChsmoo2IAL9MPoWnbjoVeBPyZZ+BiIwLfpmMU0/dUKGHdyFNDmcZTRyfoNn8AKRuYptK4ln33qJ6C5auU/KusiOmktdWqa1RwnpNuHQ9XcAVKrUNljVMhoAMgXJHIPOsI5ZfbINFNhWMVJc7UlLwQtq0Oy6/iDaLbGBQoXZQ34o9ZWVwXI6LbRbBxqCt1BHxhO2DobuzA3b87QydChCVISOm3zqOJeC5N1n38PTDbewy8sOgEHG6NyUADFkVZAjIEJAhIENAhoAMgQqPgIyYVtguTCflpo4wDa6DyT7RP0h+uQrbWbKKyxCQISBDQIaADAEZAl+AgIyYfgFIsltkCMgQkCEgQ0CGgAwBGQIyBMoeARkxLXuMZW+QISBDQIaADAEZAjIEZAjIEPgCBMqYmAqQHX8Jh04G48kH4EPVrtAfr8el6nmRHAK/P/0Q8RCo3aQRav6bjU/NR2DMuD5QphO6D+IO4c9d55GC2mjSiNIZvAIa9eqL/oP4v0vX9QLJAR7Y4X8Tb35uCrVJU2De8S0CPHbA/+Yb/NxUDZOmmEOt2be1WhDniaWnm8DaerBkpEH6tmbke4ql5TmIA8fS8fKnetCebvH5NP2bRJzc7YPLDx/j5x5WWMydyC/8EtyPxMEDx5D+8ifU054Oi1zqZKVSzW8sRFSv5Mz3aEYngIuuVzE4fOO7S+uxIrFlKa8OHsCx5Ey8bzYS8y00itaiFvZl5PPXqKQ0GQuK6cvSqvcXlfOlYyw7DoE3a0KbZVSQyusNEg+vh5ecCdaOVpTKFsoa9RmBN4mHsd5LDiZrR1N2Yim/WJ7rpx9Qs1EzSB3lYF1HeaYfZL5C5XotIE6V58JGURkSU15lQP3IKISF2nCymm9i7DGgvyd6H7uAbYMpbRSXMDtOKOX3BhcXq6DfPp2cvGlcwvM4Yb5ASm+QuHcS+ltehZ5UxlR+Vn7KSbwt1NnuUpiO+FfMCdJITNM8tNFlS39ciiQxgSR79NKKxbJoHxgqkDLN6IWo7HAIZi2TsL5vT2xU2IuIo+O49EN5rmzSmu+9A/0DTsKkdSblMe0Ml4ER4lfkEYRg9oDTMAregL6vKbVN57G4ahmK2FUFlXayAyzQe0d/BJw0QWsmJtDZhdKCSYAOe5oHtLtsQf9LkbDtkAT7XlqIXRYNH8OGCJk9AKeNgrGh72uaAjpj7FVLhMauKkRZJgFOPQyQ5RwLe8pBG2ffC1qPNktADs2vGGPUP1V1vdFUUw9aijWEw+9n/GZqjxnqtb/iK5bAWykV1i69iQg09oaXWSeJTDsjgahV0CoxiXE9TAw0hjfJZHeSxBxD34tsxkGMV5mKqxbBSFhZHVtp7bC+a44glh9bKtobjtXKw7D9122IOKmNGzT3jjysjO1xpzGTJZGWoKvsiGk0JTrvvg1D8ii68BKaQ3wn8uTzTG5iSqjkIarsn7mJKUfx+ec9BuAQlwhZgpD87qqUTEwFyWew50gYUp/UgbblHAylNB5vEs/A9/pDZP59H0pLVkBXgQj8GV9cf5iJv+8rYckKXVIyYVaNA0jtPY3/+8nd8Ln8EP/XdhymkTZ8jaxruHLEH7daaeLT2T/xWG1+sVbG727qdxdACdtb9IaPWSRSVnWn0vik5cFW9xAywJekV/fCIDQOS+hPvHpQCjbejMKCDnlfzGmx+4zNUXvh7l3XAzejFiDfrd9d468qgMhMjakC7Av3IqItFKfY2Asnb7tDNw+XSSd5yBbwGUvt5jR6eZGAdT1uIip/Y7+qAt9/Myfp6GOGyJRV4HqICWwEWxHWClhVYyoE+8LhxTeOlJQ2otfJ23DP2zgQg4U8U34SSZCyewekwrEADt9f368qIcnpq8bYwEuGcNBryL3i3xu7sPwGLXaFbZS+qhJivplI6fq+Oriz+gachtWV7PQ6ZPm6duUI/G+1wvAqEdgTDmjPN0OL8L38b2FKpBwvxes66P87m18/IuvaFRzxv4VWmp9w9s/HUJu/GH3uu8D+cArqqJpjxrSOeOvngi2pPWGzWAvf6NQSc2eW9HreyKRzZzVuOA2TTushB4FQ1OafgTDqEY/DQU1JZe4KiXtIFmkrqbeK/ruQP7nKY5RRXQQcvoGRvk9J1UvyWHeZEVNuYbLvCq9nuaVGheotk67BJvwe1mZ+JqZzmsbD07Q/bN9vxHlS82Hq8AWJKf0nqfy06G2Prl7PcHyiNDHTEojpULKiqfhiROwO1FzNFn1zUoTqj/3y+zDomSc6u2jCvlUI3KrSYr5vEJ55kvVP0x6tQmzw3kIPJu5yWBF/HVNujEYTBzVEXx+K48o9EbXsDtwHnYNlw4mIsgxA8KwkTFTaDA3WP2SlksyLsJAfhAArETHlsXNQPYnbO1RwKzgNdbT6cwnMObUgi/dwTyYFIsbdcl0BTB/72V48J5LA8T22MRorwJFMsryK05hFbuKQ0LdQ0u3GhV5w39KeMbjweBP6520BLKrq4tne5zg6jq8w+2bGCo4g08eQb5OYLk6KM8Aqh5hyEo8OqkSut0ExOhRvlXR5uWLue96DMRceg4Sg8lxJTj3QwUUnpwzSicRvyh4YHZOIFV3F1DD2WhaK8IVjLDvuMtIV1NGFTVVMhW1MDCzOFmYdFmN7vvbVHClVxxnTGJye2U6ySSnrruwHODS1OcySFyH05Ep8sFfACN/h8IxxRV32+/VevPBsjnWkmJe26T/s+UgbVOsOiEqYgxa+lmg4MQqWAcGYlTQRSps1SF52NM7QvQfo/5nWeML6HljeIghHpctSIhwVQs/nGdMcdbavHS4V6X5eJv0SVbkKBm6PqxDj+2vw5SXMXZFNDzWwDKL1crBEejrKjJhypNJrEvz/84R+buQ4q6gXJjH3NNjvUIyzn4XGN07icPBbjN5+AOuEcWSFElOhe5v8/7i+mNFXabmExPS1FqZoCuPRsmPg6xuN4YTVHsKqtkd//OM8BHIhC9DS7A42J+7EC90+8NY5hmBy8/5SvS7qxpOluo83dI4FY5XaL6hel6wZHGbkpiBiOqdyGE5kNMGwzvewXEULIbMYjrllTnk5WOo4kKKphF4CMqYpwDB7D2556aN+JpNZNUfgqIOfSSZHIMiS2qsntaNwNzg3vl7neoYbm69x8PlRCHme+NvP3PMdLfHBJYLIZ/5gBL6vXh/MS0zztElMLRCQtVPBMBt7bnlBvz6ThW0M88BR+bBl4RMdYfnBpdBQC47M7tbPR0x3Qz8yBZyhXBKuEsZYThUZmdNchNpegZhWIKZEEhrypXUQEpUwK6RQ+EjjL31MzPdx3zr8wcKkuHF1cDwnKUs7WuHv3yE4FQV0HwB5PwO0mtmQX7u4OYFNh3l/d2YExpGR1OmI1Z6D2t7S5sHjO0wQtx591cNglULhThWls79jrGWS16yjoQ8RNxVhiOF3FCaBjwrI69RLxRaxqEscLJXWRsk07pUZMeVcd7YNsfMexbvlslRx7tPpj8lETvrXt/O68nk27w1jofu/aIvpJgw59Z5k8SSw57+5SsVbTK2TaAIl/fe7JCfGX5W4oOzqSbugpzUdFypPhk+0G/Qb8bFAWtMvoPJkH0S76aNRLmK6uE0y/OaaYOUjJbJcueNuhSSmbMa8jwtuq+GVKI/anz4gKcwJcXrhuMeCEbkrk6yHg+GgshuhCwrGZrI7OKseueXyWEzNfi7EZf7Nnfp9D3JkZiKSFvvDXb8wNsNbju+75CWmZj+T5dhdV6wWUxZWcP+CG1Z7JUK+9id8SAqDU5weLeT24HuIERxNTExaDH93/YLxv3QHN1ds6JePmB7GpELCMr4P6G99uuQxJio5jdrS6YQp7hOZq/+trxPXc5kX4eLoiUpGzpjecB80O7lC62rFcnGWTEwXo/7F9Zg+/Rgad6uEnV6tiyWm+um7oNliKTr4bsIDz5+x7/hEWuql4crERRdHeFYygvP0htin2QmuWldxxaaLxFvGvxd9joT3tEaUgC+p7iR/pNJGRjr6lS2J7LzCSHhlCZFSEZ3f+V7kSv/5MiOmvNttBVofysjl4sjGAX15WDzcjOjIeVDKF1PKx5vZotrmRETOa190jKkoRlVaQj+4fi2emNqmMbfmEIQnrOUOiQgoa8Gh101Q5W4DjNMTwH6AOjb2DsAzk0wcqjYOegI6aKa+Eb0DnmFbo88WUzWPhtBIcMSjMz2xn9zfB8dXRIsp01AnecRUDZo8iXRmH4C+vB1+y7GkEWGwGIO/RuzjCF3QfH3cnXkcU/IdI832prCGjX1wXRhTylzHKmcskUyhJPm8/qX/5ZVUIiOlBrNQadlZLFC7g53j3dHWdT0G5fHPZ8N7dBNs7HNdGFOaRIeFVHDGMhmB+eMWSnpfaf+dkzRMhYbzdBqv/Hdv95so9IKRUgPMqrSM9MnVcGfneLi3dcX6vI0DWJz64HRsFcWUsoNEprURVCCkobQr/yXlfdkY40viY4E39BO1/0vKl6B7RAtaraVwGLITS9I2IeOMWYWxljIkSySmJ+pjfls7ioNOxvqnUwq1kuaxnpJNjX17pgEUo+qWIUVhZWyzRYdivGphqcMQ7FyShk0ZZ2Am7dZSdhC2vS7csxpQ2MYJNF+qBtu0gdgZSYa19hL0LX5zVdhBUlXMJ6fAwO0XMP3vYRjrUwNW5xKwTZOyHknYVXbElCwiyQd+x8AlH7Am2AtmdJqEnarXWl4ZDuf3YyIFAPIHU+J562n7+zgzfwCG7VeEexzFA7bmD3IYxq9FbLwN2men4uJWExi41YVjgB+mSU1AsmhE8Ad4bJV98d7bgN+dCom6su97eHdllorpiNdYifX6r+AR0Ajb/dpjo9JVzCCyitVtYENxTiGNaTG/OgP8f9mgRRB9WK8Z4SdXPuGs5kZWwjALnPijPpzNrXFz5B74L6iL9R0MUZm574eS67gqO3FC7zSQXOYfbdcGA+84IcOlM05Z6sEpxzLKCIMqrG4OxFClagRiNmJCamEVWYd1a4dhSXMdHBjlhwRnbdTmYuWMkOUUjQ1dk7BqwHj8j06Ar2LMX5wX1ctJUwt76uqgb9PKVJPbCIkZipOMQIctQXOdAxjllwBn7dq8q80oC07RG9A1aRUGjP8fnAs94V7ODWKkcuAdOGW4oPMpS+g5qWB36AIiqURKnTShtacudPo2Bde6kBgMPckOp/FqZjNfrkdU2Aw6gMYWSQ3sGfgX/MZXx/HfteCtH1BISEM5t43V60vHGFc1WvQoFjjUuoISU2pBJhkROlMIFjO26O7PwkmTimT3Fa4llXlXPufNI1c+W1cqiVz5J2rDiiygNXf7YsKVGRST/ytsLqzH1Cx7NDGszFlPh3LrFZsavcGmRt7Dl4h1+byC5T0aS/19uS1ruvuRVRGt/F8FioBC3ZXoTEwq6k4OQLrbMMixFItHamPWmsK9OV9VvATcnElnLVpO+guCPk5IOjcX7Z7nNhxIQAXzVaEMiSn/JgERypjL1/DgHSCvqIFeXRtwwbav0qJx5Z/beP4+V43kFaHRqyuXU+tRQjCibj7H5z9XQzM6rNOlA/+8dF2vkBZxCXH3X+MjqqJOx+7QavEWEZficP/1R6BqHXTsroU2VeJx6VwinskrY5gmy815G5cpBvVxjRpoo3sJ4wAAIABJREFU2LwXVJUpnvT2ZfhGP0aNGg3RvJcq5XzNRtyZCNyicuRqtINav1q4HRqFdy0HoavcNZx72BTd6qQgJo2QrtoaHZs+xE3h777Du0mwVeQN7oSHIupBNShq9EJXUSI2ljfy3C2W9vbzVbMdBml3IZcMbZbCTiCjyQj0Zyej2PXmDsIJjwfvqqGlmhaXY1fsF9eHlOA399VUFYYsF6YgGWEnMtBkBH+4i29COEKjHuBdtZZQ0+pRdE7Qcm6YqF7Vcn33jGSzMZu3dU2haqgOFlmdGXMKUXSOX5c7GcVNIIi/dA6Jz2j+oFQnmh0k4Ov/2jHGsmKE5DrwVc79UDqvE1rSjvbFwRSKwa5AFrRXaRdxIeYR3svVQHOFOniefh+vP8qhRvPGqPboPrI+sjm3C1T/S8G5u9XQXV0BWZdjAZXOqHT9KvjpsCOaPrwp/N0Xw7sRAMxTY/AG20Omid/DUjqdnFMKvxE5ir4HU2gjWIE6+5tw4D0a0y+Phe9T2nRIwBTzTc0o5iEubM25RYXJMlDmxLS0AZaVJ0NAhoAMARkCMgTEjQALBTJ+sRWBuQ9RiLtSsvd/EwIsc0PmxzpoIWmZ5r+pNYU8xMQCnsuhUTMJT+0mrLqMmJZWx8vKkSEgQ0CGgAwBqUcgff8Y9Ft5Ez/V0oRbJOXjlgAni9SDLmvgD4WAjJj+UN0ta6wMARkCMgRkCHwXAizP8On/b+9M4GpK3zj+87c3Gvs0RjIjZAlDllLaR6ZQWZItW1kSwkyhQbZQSCRKUmqUyBZFkVBkWhARZS2TOyEh3Jkx83/Oube97Ld7a94zn/l8rts957zv933POb/zvM9yC/Ky4vrzSZ1hOzMCskeACVPZGxPWIkaAEWAEGAFGgBFgBP6TBCQkTCmYJ+40Uh5yoUvkZN5RHYO6v4cDNV867jRuUaBDw9Y90b+XMl/+7PntBMSncg7rxWNUMpCK/7ZEkETD1vVxJ60V7KxlJQv3u+ZWBby+e4m40ykQIWyEjuqD8D4IKzyTIAVHb8jDULtDjcpFJ8wTB4OVC/oRIu9qPE5SxEzDtuow7KNY/fpdNJ/fHZRVOYd3zTsJ//0tfSgK2CoK5KusLYVBbq9kJ/iJb+qHtkuAlKNX0UDbAF1kLzvLJ02EgvQYROd3hFk/xU86Dtu5GhDgrMXR+eho1g9stKvBeL2ziZRvOvEEbnyhDQMZujFJSJhyNCpIf/QWSIJD1lCb+eQdqaXSRdUYvk3H9jH9Mev3xaJ8qJQn0M+oAzb1P4f4BV8habk5jM5bI6NaRUu+I13UJ6RuyqPSkAPcVbAn2o4v9VoTtjyqfqUx8THcEv3RN8EKaivbYV+UM9QpC0HEDHPEWx7AEp16yAmlVEX7TRFBKbjK30ijME9jC+THj0e3r/7AlT2H8b9Zx7C0TGnMqudFOed0HVF/2x5MeOkBXW0vKPueRYiluCJYiQZx6aL0x+Vj7flVlC7KBQNHZMEpeSuMpZ0VOi8G8zUm4rFbIvz7JsBKbSXa7YuCs3pTpPkZwWirISLiZgMeVIM7YT7O7rfko/JLb1wkuAYCBp5B8EjgiI02NvQNR7ydtGexaI5FmwZhpeoFzOg1AbfmnMARJ/UKknFzWQgiEem7EW7HVeH/jCoE1RhhSsnYnUfBPnsmgjxGQhYSJlT9tfrfOaMgzhmj7LMxM8gDI2viYNM9a/1EJ8Sb7cb+SZSejsvnGtoLfpmUx7UmqnDK8BI0wQQhar9i22zZyebCXVESFKYVJIyv7Bq+TVU0usxBE//Syfi5BMajby/nS8eVS8ZfKjm/qDTjH34PcWwSl2YmGc7DTmLkftqv2tw33p5gny8PWpjaCK2pcp4GvuXSWtB3iUnpEOTWgpKBEV+Tu+BuIpLSBcitpSROk0TfpSfilkIf8d9F6YUadjKAJpdiiqw/uRcvIIPSSdW9mYDnyjKSlqfSsROx8jShSk+ruDpCCXBS0sV1V27+nKG54AZ1ShFjyykdIeVlbbwXI3MpDUg5QUDzpoEjHllpQ7GVBiZNsoAGD1XKG5XzVFryNULDF5HQ5srJK0EjcDhOpblDt1QfREm+1w+4zBek4HK2cons/UyyEEO1waW58WUfPU2o0hMVhOBGiPqge90VOcENMaexGfJ9n4iSkouLI/RMygSVHS+9cblQNbOx6bUv+CJvCU5QsniJXeU4VHFPuao/mqcw8zTNKZpjeZQjsNn45/DOikGl2MXlboNrjDDlcrlqYKvyPgQs7AVxcq8qHoj3P11B7kVcyGiEnl9m0UoKoPqjJhTucKsq3Gd9kagutPC/Knl/5VbxMmjVry5uJjyHMv22yY0jiKMcUnz6vUHf4SW3Ovj0G8h2er33Z1XRLznDkcZWZewLWIjCTG6fdkRZ3Jt0Q/veWPanDTzGX4SDiwBWkYnwGSTrs/sjWPK5ssfh8vwweA+TvZVUmRCm/EPMsdkHlC8tQJxDDxjuJkvYrfUUFSl6QI+OaIFRW09gB2XzlwF58YGz5V3ClKxomovRcn8gmju1gfnt1bgW0xu72ruhW1oAWi+n/IIGidjUmB7mbt2QFtAay7V2wyDRCfVcrTDMUYCfyNo8R0A1zGc3x7ELBgjpPAyv/a9hegMvzNNcigSdlQia+TvsLeIxlbNMy6yqFycsX5CETF7NiIWq3imkUSL3s9YqMAn5GtM3b4TJvdXwaLER0RVa2UiYtr8I20QbfPO8HporyUiO3DuHsHRzPoavtgJXR4JPCL5cHUcLBVrRzBKXJPV6RoJcpFi5CjeT6h3FParXK03DXIR1A5jELkBSpjP4EeKFqh5OHVTCz2rz0Ca4sM2il8ps7/JiWlSSVLvoGKJqcnsxgV6yeB0urS0vAd4rTqOdoyN+oGeWqFDILWx4W7tqlDAVFRhYWN8fp7YYyrwofX7tJFZONYTrXRNsCFiBRps04JhsiNn0uTX3uS1VzNv0LeWy7IIT0x/Ds2A42gaa49qhAXjoPg+aSxOgszIIM3+3h0X8VFy90BNbWg1E6goq+jKzHV86dwICEFND00bxq5kL68P/1BYY1kCNVvI2whVu6b3sFv+Vsm004qvB/P7g2yAvSrURPjYRkbayJ0q5/siEMOXLxQWOF9UmLkmZv5kHYjxXkQjc52PQnzIEdRLCcfpRX3hE7sG0nmIJSr4voT9ZYPK2K0C3eTgQvZ5/aFSfTSxMGzlgr30fUbNz9mPe7GDocv2Xn41mHn1xi2oyy/EPwj9IyP+CtB6WyN4Uj2DN50iT64VeafQ7S7IyxQdD83ka5HqRNYN/oFPlJxKbNoL1cLzYE2vnt8BWqjQValUdS5KKXkQc2h4jIaoLeSGJG7LCBRoH4xktCctnR2HGUAsEX8vH6xYmWB6yAw5aFU0G2q/RXPy7OYwsrvswZa4ADod8YVp+TVl600hI1uCuujgwKR7XnMqaFEWi7kWRyBOXXnwh5iC9VoMv9+rQFsd466aQBHNjusaNEfzMCek9e+OMg1iI8nPTES+WFr5kFDeaF7M+ZmWEqQ/MKrKuSq2vArJSt8X0hr8ii9xFKvWgqEHCVED3n86reiD2/EL+xak6bO8sSXrJBKnzdgBTNmBYOnd/FVV7KlWGlB9D8N8rcgLmIInUSza4aDocBZ5UYU/qdYwlMBICWnHqvAo9Ys9jYXUZ7E/AIDw9D2113am2mz58sk7CRroLT5/Qk8p2pcp7Lv2gf3UJ0nYPk9mXSukI05KVbagqT+MzgzHQpScCnxwCt7pXuImWyC5i0fn7WCXgbgqpIh/TruSwu9MC7SenYUGZhxTnBzNs0DKca79W5AIggaGVzCHFwrTDTtxbry86xV0fGOusQi8Spo436CF92KhYtJI9rCMt3StQeVG1UUGAoQciwqbRg0JkzRB9FYGwad1Rv4QwdehKVWhCl2Cm+2k8uJGMBguqozAlNoI4uNqtRJaeJRTjQhEQF4k/hp/CoyUvYd1tHXqdioTtN3cQOscMVkHyWJ1MVrZyk4GCpPL+RtOm3MuNaBl8dkvpWxuL55fIx3Jxu10476xVwSqAyHL8xL+0xXTUn/uQSyJJmhZTGiDEudphZZYeLBXjEBoQh8g/yB3hkTs0MsJgPysEipY/4HGUDw4HJ0OpAovpDfc+6LTFpIww9cfIS9fg1EMyV+GHHZVu8q5UXjVlBlICxr294lZ1FqbCbCSeSMBfXUagfxN6GVKeBfnQy9hiKG1H5vcfrXcLUwe0zz4N34ULEHQ5FwlX+r9VmJry91R6STq/HreXPsSq4zWl+pMoGCbhry5Uaa4J3X+UMUs+FJfJclh9Rvv950WpX5YsxUp/UF50nkp7q1e/wNmy3efTm91DC87V73du3h7G1EJXt49EJendqlyYCjPO4dIjIOuBuCghCVOtur7obhCEEVE58Pqh8BVcbGU5NhUnsyiJ8bGSwpSwiC0tpFRxaUAYJl4fB//J7XheIkF7TyxiJY3wcx3/7Uv5ImFqg1txM8H3kiLtzz2uhwavW0JFLgLjtScj1ZasThNqIUVOBXIR46E9ORW2nHBvUGwxNYnqA7UAc/x2wRTH+qli95jqKUyFGWcQnttGXKaTs5iORb39j+H7lw1qBRiLLKf80NzGFi1lnLQrFm+FIyaIXovF57thyRJjPjCKf3idW1oshD7X0H7UcUiUzjDAPs1j8B33L06sDkczO1tolFKbolJ6eywLl8FF//Ydki72Of2oE3+enfjSqblow5caFV3LY+vtx2NyMXhKZUcv1ekPI84hmruO1Wh5vqIXB/K1bTaxNvYX+pRy/zZ+iaByLg2fp8kfdhQSpe6DMS1/KU7QS8N131+Qrb8SZqJbUPmtOgtT4t+H3C+u9PfGXm1XDD08DWkpP6PLhwGT6q/fKUxPqcJdZRxebL2OkDo/F1lGK7OYmorvK4tvtsT3tNQfQ0v6NWMjl7E+aphHwtx7rzZchx7GtLQU/FydBvtjBoKWt121+sIxCdBz2QBF95kI/Gc0wtJ2Y1i1Wnkt3/m8CGuomOzAl/aH4XBvJBZ9uRcZ/kNk+kWjaoVpQQqW6a6EShRFppZ6/RIgerYOzM9b4UzsIvQiA1ZBigtFI++C9uHzWK9PPy4V7CTEzY0GUJn7EEs54dWIbpwDLmJBynYMJ4XBmap7+JVYAvyYiVrl+7zDx1SRfEd7r0HTRUcROOIVvBcfxQ+BgxAyJBvOJFZfkB/isD8DkNnTA1rZzuT79AIuqsPwZ0BpYarqTr5/2ZtxZ1sruGgPwbkp8Tj7Uy7mNOLXqLDLVLQ8LPpc5RDe+4Rc7V/jbC/ydjBHFm+1moUrIZZQyCMrooY3NMNDMYmKyQuzw2CjvRemyRSo0jQNfubWCDfwxC47Ndwni9yACwtwi1+C5QRsF2z5saIl8/du1mf6IXc9DMYSWGO+dnM65iV4LW8I91Qn9Ejzg7l1OAw8d8FOTR7cTafbur44GzMV3wmodrfKEVjd4fr6mZrysYfhRWQ2vMgdxTyLMgcYpmDWlRBYKojEs5s2t3SvKLIIq+xGIkW01yerdcwCYzgVLMbezdzLAveQHIn7bvGUpUCOYp96YrJcYAUuDR/byI/dj0Sp91BMPG6An8e0Q138gSNLzmDIBS7ArvQcK3qPqM7ClDCl0bWiNo/cpOoL0XvDbcTxkYXVZ3unMN1TFxM7uWNAbDKmJpqj88+KCPpjK0acm4MG4uX7UiKVus67q4y+jeUy7Y//EWNU+CJCV6Sw9wZK/WhbQcaMjziuDO9ym/yEu0w/RarUG9fpXip3aAYM1ijCN9YJ6tXEXaVyvJRFhIu72PEM9es3wpQjD2i1Q7Y7JSFhmo+MCD94HbyOgrqN0UpBHrXxBs8FOchvZ0n+jfoVqHVuCeEwdh+6iNf1gHotDDF4tCZUKZFpfkYCIg4E4lTmX/iihSKa1n1OC4XfYfjoCdDnwymT4Ls0Bk9e56Lgi7p406A/xs0cXI3SlxCvmBD4hyQjt2576E0bi9FtXyImxB8hybmo214P08YOQ7Pfd2P79vPIaUWO+/amxOYKfKfuRLZ6X3SQ6wIdc0r5cMUXU3dmQ71vB8h1IbHfpxYuenvBj47TUm0yrPWfYu/W/SjoZoPBXx7B9tSuGNvnLkIPZ6Je5zGY1O03eIdmAu0tsMjBkOL/ZXSj5YkjPnuQmFsfCoZmmKBfHPDG5/UMPoITj57hS5pHZhPEUbc0a6LXLkZKrxVw5B2Qya0h5lccOf0Qz/8nD1XjkRgqCzlPL/pj5tZz+Ksk+r5T4cPl5RVEY+3iFPRaIQq8odAbZBzzQMCZ1/jnf81hNN0aOoqycNMhtkd8sCcxF/UVSo4BtTg7EbuDDuCusGUZ5iT4di2EPyZitRW5oHDdo5WBnd7BuPsGqN11CuZbyEBgY85xrF4ahjslx0fRFIuXmKBNuTmWg9Pe2xGTKUBOPtC4lQLa69tgmk4rGb2wKmuW2JKW1AWu1cyClp9xCN4bjyKziRosh3RARngIknNbQs3SgNzIwhCT25buuQOhknwA2658gaGj++FB8CH8bToG7S7sxIHMeug8ZhK6/eYN0a1xERwM6c5YEIqRmnfhXK1cxt5v2oleRJLQxTUNKTXeXHoHXlrtMDNeEx43T2I2GTRq3MYZbFRMsOOfCTic4Y8h0jZcvAOwhIRpjRtW1iFGgBFgBP7bBKgAyv2XclBqWf1ynkhi4ITRtvjx4kzEyG76kk/oNqUQvP8ScrKSqeQTevI+uwrIvejsi44YUsOK0JTsuzDvAR6hBVpzVYtkfGPCVMYHiDWPEWAEGAFGQHYI5MVQZpOQB8hPu4sh+/djXDX3QZQdsqwljICIABOmbCYwAowAI8AIMALvSUBIWSVcyO/5KytHzKwwDd17Hoj9jBFgBCokwIQpmxiMACPACDACjAAjwAgwAjJBgAlTmRgG1ghGgBFgBBgBRoARYAQYASZM2RxgBBgBRoARYAQYAUaAEZAJAh8sTPX09GSi4awRjAAjwAgwAowAI8AIMALVk4CpqSns7e3LNf6DhWlsbGz1JMBazQgwAowAI8AIMAKMACMgEwSaNGmC77///tOFqUz0hjWCEWAEGAFGgBFgBBgBRqDGEfhgi2mNI8A6xAgwAowAI8AIMAKMACMgEwSYMJWJYWCNYAQYAUaAEWAEGAFGgBFgwpTNAUaAEWAEGAFGgBFgBBgBmSDAhKlMDANrBCPACDACjAAjwAgwAowAE6ayNAcK0nFkizu2p9SDWpcvkJP5EG/yb6DRzPPYMLCqG3oHqalN0L17U+RFzMIAdxXsibZD16puRqXnEyBuiyN8rrbDF4Ir+G6eJxzE5QELcnOBli3xBb9vAUT/FP2r7CaI24LF/ulQbJiL9DYz4DpHB4r1ZaGTQmSH2WNQiDoi905Am7c1ieZNqKsjNh16BGHdBjB22Y1lP0i/gDfH1tHnKtp9IcCV7+bB00ELfKuovWHrtyMRdZF77U9oOThiUq+K28uVf1y64gTwzQvcLBgClzUW6FTxUFbdoHG8l8zEmpOvUfvvf9Bpxhqstq583nAclriF4Ua+EE+fNYDBgi1YbtFJPD+rrtnsTIwAI8AIVAcCTJjKyijlRcBaxQSxI6MRv8VQ9AAXpsJVqy+u/vIau0yrsqFCpLpqYQr8kehAUlSQgqM35GGo3QEyodkgRIJTV+gmOyHz2CQoCnZiUFsvGCUnYi4195BVLZjtb4m2LeTw99/fYrT/TrgZflce4G1v6A9MxaLELTBsKkScQwdMlDuATGe1qoRd5lxJ8J26AcFJZ5B88QHye6zF1UsOlb8QCA7BWm0UgtS2IjPUEGdH98CYiME4mL8LplIcLGGCE7rqJsMp8xgmKQqwc1BbeBklI3HuNwgZ1gdXHDKxSp2b43Fw6LoSnWO535VBIYzB7DZL0OlCHGxp+AQ7B6Ft+ETk7LdEU6mN0G1463fB9PvzcT5tFdSfBsG07Xicn3oSWZv0y18fWX4w6rABOr9dxaLu1OjbW6Cl7A7DpExIdZpJjR87MSPACDACbyfAhKmMzJA01++h6tgWgU8OYVyJp66QrJUL62zGBp0MhC1dgRNojKzfnuLH5etgrXALAcFrsTOjJyzeHMXWO72xetdGaL06it1btuDMl0b4LnkXohpbYds2B2gpkODctRC+iblIuQhM9fKFVff6KEjZibleKaidTV/a7MQyxYMY8aMD0nvOgp3tVCwZXB9h9quQa++P6SqcpXIx/NObQZhxCV/ZbIbLYCA5IBhrd2agp8UbHN16B71X78LG4ZISsiRYmhkgYnaSWESmwfV7VeydkE7CR4WEqRJOj42DfeeGaK5UaDktP9A33PugU+wcPDk0TiR0Dlmh1kIVXLrmhB5SnxeHYFXLDIHvEKZn5n8FnQ1/Y9bJJ9ikn4eIWQNgmz4dR6Vs3Y6Z3QwGEbORlOkMTubz85ssv+mJIxCr3wEePQ4ias0gKCIatl23Qjt2PyzLCtMIazSYroDY+yQAufFIc8X3ailYnBuC4fJSGqAb7ujTaR6Sxh/Ev/zbomjuOaZPwdHXvjAu26xkZ7TvvQwPu02H324XmMrthgETplIaPHZaRoARqA4EmDCViVHKIiuMEqY/qcw6JkTM7DaY2iySF2LCmNloY3wVK67F4Gtnsg7e9sDNk+NxwaIZZrc9iSebFPiHpWffSCT6NMEmJQ2cd7qPmN470H55eyQeGokzVo1hlu2B+2GNMUflDGZkeUH7mBUam73AzqcrkKWjit1jruKSQwOEzx2HCRtfYcHVSxgRp4/ux6cii7NacRbHLouhGpGFTc9tUMvsNjxunsT4CxZoNrstTj7ZBH2J8E2AE/Vpz+RCYZoKF9UeWK66D7khwxFDwnRPZweovr6Hv78djWmTeoks0GU23rL6IhjPqC+8zuGEKfU/+BmJJGkJn6I2vo8wFfXbKa0N9Cx6Atn38GcLU8xe6wALKa93JzgpQWPP5CJhmuqiih7LVbGPROXgO+7Q7z8PyXXU0LNPF4xf6wbbCpbyeTHrY1Z0DF6YqvrATJrWRk4sm+yAsKwwvdwbG9LJYq9Sdpalwb2PGuYlCekP9VG/vhCqzlcQv0BVRlYfJHKBsoMyAowAI/DRBJgw/Wh0n3NHsdUFlQlTkYXw6c5/xUv6on9fXX0fc+KVYAaR9YYXWvzn9rwwFQlLFH3elv8jLO78jA3DWtFy6DzMDtZFUGA+xkVNFlt/Cvskao9of1ob5wXBboy5Go7Gs5SwdZD4e4gE9UJVEsMG/iTqgIP/0hIyL/DEnz8nphLHSiNrZ79wG1yJmYpvUl3Qr4cTLpuLRObFxeaIMdoGZ60m/PL8oPvuyCLBWnb5t/oLU7F4JYkzNPAeDo0rwBYtZdglkUgSuzVICP+7D5tGlsV+4bC5EoOp35CA7kcC+rI5L/r1Ljtjksuf0O0ch01bzuKp2gaci5kLMt6X2mRSmPJzOxAoJ0x7YC29uHGXS6mtIAVbRg3F6scqaEYsrhRw+rQ1pu+/gq3G0nNIePcAsl8wAowAIyAdAkyYSod7ubNGWDeASZBFJb6BIgGSH/iExAf3MCteuv7lYqf3FqbLrqpiqWqhqBQ1gX/4x/9UvJwt+rYSYforMJYssSbncZ93EBT5c46qdxSvh4RUqTAl50RkJ+5G0IG7qPNtG9zcZIO40ZdwzanMIjwvJLLhnUUCqcxSMW/Vu+5a2mI6qzlOkajSrVYW02JRxItt0k29N4jcGqS5CbMTsTvoAO7W+RZtbm6CTdxoXIpXxjKVUFikiJbuhdlhsOk1AtcXlm9vXpApmjn3LGMxPQbbCsayyvpJvrNKGi7IKidMh5Zzw+HalOzcHr03DURUjhd+QDZOe0zBSMco5BbtX2UtZydiBBgBRqBaEJCwMBUi74EAz98ADf/3FBlP2kCtzUsIuC9qy0OhdVPRcpYwDw8Ez0Hf0vYv/VeL/hNvb97gTe3aqF0CZ8PmSqgkyJo7GJ7mvkLDlk0+41KZJI5Zen7wwSIa69GVt3wVLzwLU3fh16d98JdzFyzsFIUcrx+oX5zFdCqaRWeip0ehlfTdFtMN2QNgcOYnXL6wiKxT5G/qvhDnvngE+9n58L1Hvq2cDyp995vpFDwZVpHF9BJ6e5PvYMoK3IqbiXa8xbQDjk/Nwf6Gc6pUmKZ5/gCTi9NxcQdZQrmAki5hsLpO4jNrPr7SicScS9fAa1RemF4vWmYV5uXipVxLNKWJJ4y2RasZXyFa7AfJLTfrpq/CLbI+S9+WVdlSPl1TuS8h11J07Yh8TBtg0fn7FEwkRJhlA4zYU58MevlkXZdi9FOaJ34wuYjpF3dgeNPbZMntgjCr64j5MQr6PdOx5BGJf/ElkLKsI6Z9GS4S0gW5yEVL0fXNj+tJ2OWQiKUBEYZZosGKXm8PBpP0bVdIPrGtBmLr99twP2YaZUsQrV5s7uIpvia421nxHON9bQ/OwPlCP1nxS98abc7lRjKOLpJG8J85PvdcelYPrSt/2PxnULCOMgJVSUCCwjQNnpqaCNANQ+CIx1g32gpRw2PJ0tYNKcs0oeb8Oz08r9DDUyTChDc3wkA9AXOvU2BDo9OY11kX7l18kHXIBk0T5qGzrjv67byHFSpHsMjUAZeG/4rzW03L+A4KcC4kErldRsK0++fNKVOQegChVxVgPKZ/hf6Knz5oZAGMXASz0XtQd8oizNf4Cn8kBeJ4gRXWrRsOJQq60NfeDd2wQJhcmI5F/67BAafvcHDQ15gsvwcv9uoglPsMPzw81AHrOwxAxJRkJC94icX0OcTyLDImXIJ+v1m43G4ohn6ThadG/jhgC3jp98fCtE4w0qmLl7reODK3DQ7Qcv/ErHGwNdLD1EGXMXBACCzPZsC1wzGKAp+JJyvC4fLFFozbb4i9IZaQo4jpryfLY8+LvdAJ5T4Dfg+BLgxKAAAWn0lEQVQp0lpCWYtu+xmhf+QYxC5qDu+561DnF3HkPWUycB/qjDfOLrBomoeDi6YhaoAPAueqk9iMwoxGRgg0P4icQFPyKxWQbtXAVvUw+GjQMqzNcZjtpX5WEMD/6eP7vkfIQ+rxk7j5PBEbR7oivs1obNowDK2+UcOI/tSwqBloZBQI84M5CDQls25eAlaZD8LqhyPgOhvY5LAPjabtxdH1P0honr5nP25TNHr/SIyJXYTm3nOxrs4v2OlmiO/oxTHVfTDGpJhjuxMJs/Me+OVwR6zymwt1ErCemsqY9XwNrqQ6QpX7ras+xuUsROi0hgicvgJyaw7ASV26rw2C6Pn4wTwQrX5yhWn2Gjgca4/1EWGYxvsilJljlDVhhsYEhCtOwaLZ3fAi2g++yX2w5eh6yEBGr/cczOKfCVL2IiD6fzCzH46OT6lvBnNwwXgHTrkaUFhmTdno5e9WHLbbjoaj4CfpvghJEakw4wx2BKWiu4MdtOrQfXXwUHjIOeEkPZOVpdguiZ1amIEzO4KQ2t0Bdlp1+PvUUA85OJ08BJsa0WEBUvYGIPp/ZrAf3hFPD82AwZwLMN5xCq4GsnX1Sk6Y8tGrO2B+uUSaFGdFxHGRrIV+WvV7Y+1vlC6Gv6GThej7G3DkU+OIfS67iyNfeR9HR3Q/KPKx5Jf4xl8UW4kKp6kQaQe240x9E8wwLlQWlMPy/mO8qv0lWWfJgip8SpbZZ2SBpX83+QuCx6/Iclv8t9xXdVG34CnQojWa1Bfvi+LI7jvhXjj8jx7mmHaW2LXB593k2kxnKGcZFluWIa+A1pzJj6xL97k+cL9t2BCvXok+1yYL8xuyNNMn+h70veizvEJrEmci63TRMUSvBbxl+6Wc+Lj8V9zv/kYTJTm8FLeHziKOche3sWFzKPHWhOI2cydsSO3gW1L0d8ngEuY9IOt7vQoj7wty7+PxK3GfSxgOue9fypW0uBda9cv/VjKtftdRi1cZSv2yFGuymJbJNiBiwQ0rjbEUDaWl2iyer/UqWuEoO5fFO3L9eIQWovkt3kRjWcH18C6Ukvx70SpP+cwP5ecYdzlx4/OGFopKXGOSbJ+Ejn17ixaU7ZIwas9p9HLTgWPeZETFk5uChF5AJdSNtxyWS9fmg99avca15YGIf1e6tqpvYJWdkV9RGrgVSqtisTh9JEYcITeu2EjMLOsMXmUtkvCJCldDlFYhdnE6Ro44AlXPWETO7P4ZV18l3Ie3Hp5bueJiEEZhz+lecNNxRN7kKMTTKqysXb6SE6biQfb7ahYOnHDDj+RPlpf3N5o2JSFDwvT7eFV093dEIMbj4BUKmFF4f2HKL+mNOFdamOadwHbP22hrNxUDOYOK4DQCdt9ES0MdNL0WiVO538LUZhBeHvBAxMMOsLA3xl/7vHAg+1vKzwlcOZaKJ7W55f9nqNOhB1r+/hLK47rhgX88Gk0QHzMvCj6e99DOzobyXkpzgrFzMwKMACMgBQJZlIlDaTpO8adWxoyoeHjVHFVaAuj7ZMWQAv8qPaXYTSWPO2lT6NUokVYxSN71ZjPfYTTV80Rs5MxyQZlVOgSf+WRZ3vpQmi66eqE8Q2ZfKiUnTDltGOeKKZZLcPRRC5gsD8GOwsovnDC94YgLg45Cq68j7lkcBGlT/PweFtPt2hewfqAOXOqtw4X44kpEwhg/rLncBCPmDuOTkZ//1QVn6wyCw6heZK5IRIhHBJ6oToaeMAyh99qSMDUHDmwUf+6E9I2huKs0AnOH0d43D8Fj32OoThiLjrfOIrubITR4IZqG/e77kd/LAZN0ZMUs9ZlnLjscI8AIMAKVEuCKJZDL0HFAYW4s7m3QqSHWpLIdZsKUIxLn8DUGuAkAfXKrO2lDeYdr+BbngK8HuJGTlz58sk7CpqZ1mCtGQ352x8lGOjf2HuVHl00dI1Fhyk9hYTYifzaE+ea7aLc0Fhed1VFfLEy5VEQC+tzNLBRt1y6B8u46WPyWpfxGDnth3wdopqyBnl1KL1leLxKZ5uiM66Q5Q3GvrQXszblld8oD6rcGZ2vpwqLJxUqFafHvBTi90w+xDxqgXf+hsNBXFt98yx63hl+krHuMACPACJQgILpfB1KAGm1NyeLCZRuQzWfbJ44bE6bCVFfecMSn4IUmPMnvdma7T8Qqy7uLKy06ijoMTc9biKtRHeZiKrpR1hb+6qXLtzCYWvYGRWLCNOf4ZsQqzsJoPq+fENG2rTDQb5ioOkoJYcr9jSt/2dcxCcIif563+5hWhDErwgt+N1vxltDOFC0e4eWH5C/0sXjCAP7np3cuwwW5IRhS78y7hSn5oj79W4iMqP04kfoUSgPnYawGd/cVCdP7340mP9OOsjearEWMACPACEiIQJFQkdODRZ+rCI3KhZFfDo5N+lpCZ5TmYf/jwpSC9qy6UeW5XGWYWzRFRGgSvvqJAmjdtGqohbxYtCmbW6BpRCiSvvoJZzPcoFUjXryKdZacngX6XA1FVK4R/HIoQFkGL1+JCVPOj7RZsCmuU2JzBRKfXKLzAeccRSlVSglT7uYjoDQ3nTEifYE4AvLDhSku78W6wy/Rb/EEcFL0DgnVoEvyMJg/Hv3BLeXHo/4Qe3S96YHgGxRdP2cI/gnbgmO3auM7nb6QT4kptrBePwCf1LaYOqorb2lNJ9O3rXEbOupZBKy4ALmhP2Gk9GtWvuOuTRF4R29AnhxoO5S5sAQpR3FD3hDaZf9QdEQS5WdO4LmKCSooyCPNp0WpcwvzriL+ZDqeNGwLdcM+UCzqJwUQXY3HyfQnaNhWHYZ9FCu/mVIQy9X4k0h/0hBt1Q3Rp/gg0u3nR7SLi6KNfNIOZv1kZP3pLX0ouHsesUkP8KqZKn7U74TKc2gU4O75WCQ9eIVmqj9CX8oVrcpOCu5autpAGwZd3pX4lrser6KBtgHe+VPpzrxKzi6+J19uCpOAJBwZkg5ruj8k2V/GhUU1JTikZNf/y8I0jx7fymRZy4PywvNIc5GHF1UvW6H8q/h5LpMT9JMalUeaRJlWAvKUF+J8mgvkvfpAbYUyfuWyBMlaZNDH9FQcQH65qQkCko5gSLo1VEySYH/5AhbJYDCb5ITpjW0YabsXjxt2ga5qLpIfDMC81dbo9ecFBC63h+t9Y2zcbAezrmK5zqVVscuB/V4z/B0VBGc7TyQ2NoTTivFoc9UTsz0T0XiYC7bZDYFau4oeAnfIShqG5+o/gXMr5cRuYngEEn+vh2aNauGLjgYY0odmmCAR4REJuPNXc7Som4+ntb9Gm+YUoZ9+D/mNSTwbGKDvX2ewLTwLLbpTdH9+XfQcog9lTvSk7MG6BHkMtzWmtDcyvuVFYNYAd6jsiYYdWa0FFDC2qk4INpmK6qm7q+xBNPeHCjdK9fXDKNyYexabqTqNkCor2Rwzxa5yZW2kxyAvZj40Jj6GW6I/+iZYQW1lO+yLcqaUQ9S/GeaItzyAJTr1kBM6A0P3myKCXpDKyTVu6UZ/HPLXnseqnjfgMnAEspySZaAiD5Wx1HVE/W17MOGlB3S1vaDse5ZSfr1l1oktHOdsC8u0Sm9s+DPnxVDKs4l47JYI/74JsFJbiXb7ouBMqZ7SKNWX0VZDRMRRfisPLRgnzMdZqthVvneidF4BA88geCRwxEYbG/qGI77SeVt1fb5zbh8iI32x0e04VP2fYX+lNWzv4Ny+SET6boTbcVX4y0S524/gRGWQmxlsBvS24Szlb63szvERR5axXW7jV+vJ2J5ZgEd3c/GiXhO0/qYJ6g5cTqnpKEr2v7AVBrgpz8LJRCorXeMDfcUlwU9RqrqTidhUAzssCuriLt+ziJkm+1ev5ISpNC5gLhL/4BP0nmiOrp/b/C5MwwH/BMgbTYHht5LoHGflS8aF7D/w4sseopyVRRanZuhkoAlVcYqoixcy0KhjXdxMeA7lH/XBG5EK7iIxKR2C3FpQMjBCd+5mUkDVdG4pQOnZOgw2dEH9OXuxeKwBjLrXQ3riLXzR/BkupzzE6wZfo5eOFuQyjiDuvjy6G+igY71sJKb9he7y8RitOR5JhpuwYXJXtHzxBLl/N8DXvXSgJXcHxxJuo2EXA+h0fJfF6HMyE1lviitQJcBJSRfXXSnRv+UZqpLlBvXbcbDllA4Fu1k23ouRVKN9eJkm5oVQftD1A3A5cS64Gkl8GjI/E2RRmVOp2hxJBCgt+Rqh4YtIaAN8harA4W+pSEUCzvoHTKO8wI0olU+ms9rnhP1Rx+IrinmaFCWW5/qgS1W2coIbYk5jqmLmK65ilhcE02bO6JmUiXLNTnZGe81sbOLcf7hWcFWXLF5il0xU5uIaJLKqvQh+mzAV4+NT5L3gS7JWqmE/inQV7SSIxtrFkWhltxpWMmhhqSIK/43T0Av7roWeyPlxBRxrZMaFssNIy9y7FsIz50escJS91EmfY9IJotdicWQr2K22qhZZBmqWMOV0yAN6I0hrhv4Du37GhM/5SDuViBcdB6Bf68+teEXTjhNJeredcWlKKkytCuB53AJXrAcj3joKExKMoOLSCyevTUcDr3nQXJoAnZVBmPm7PSzip5L7gwH2tndDt7QAtF6uhd0GiXCq5wqrYY4Q/MSVIM3kH6BUyB671OPgajVMnDiaas1TIv3Rb3xFJUlJEPU5MwFxY+9i5pCx2NF3D/7d1b5UeVI+j+Hi7uKgB0on0v4gzDLprfpzXD3vfYwIWDcwQeyCQhEmFqp6p5Dm3gNnrVVgEvI1pm/eCJN7q+HRYmOF1mH+LTLbq3RJ0kn1cPQeCaGq1Nll+33nEJZuzsdw8U2Eq0jVY7m6yD+7AkaCMCv8/GoqVNcNgI+ZbAhTvsRu7IKicqIioaqHUweV8LPaPLQpEnMicZftnYWYMjVj+dQmbtplSpLuxYT0REi52mqh2vzvCNP3vjbZDxkBRoAR+DQCNU6YfhoO6e3NPYQ7+GrgxJGf8OWDR1BpGYMfNe/DhStlSEvpqj3WQf/kE2x6zlleOI1JuV95Kwz3eSJONrNE9qZ4BGs+R5pcL/INLVnvvoQwpQIFvEjYPYb3523PJVEe8hBeVPbx23X6ODYshrdc8TXXwRU4KC1MSUFjWKuJaLSHSl4qLMf3uw1wqcpLK+YhhAS1Q9tjJER1IS8kcUNWuEDjYJHIzKbqO0MtEHwtH69bmGB5yA44aJV3FOL7+EK8D28Ak0GrlpCswV11cWBSPK45VWAJve2NwYsaY0dINwSQFVlWhClvjXZoi2O8dVNIaBuTz5oxWQydkN6zN844iIWo2PfpxdLygpqfpz5mZYSpD8wqsq5K5dL9D1lMpcKXnZQRYAT+iwSYMJWVUedKaVJp0HmX22HegWisf/kzas36W1SOUtzGb9RGoH9qRcJ0F9QPWUNtVBBgSAUEwqaRuf79hCmFd/G1vu9tOoi2fjcwLYarvPUWYUqBbJzIGPXCH7HqPtjdO4Z8cqQAUUCWX7uVyNKzhGJcKALiIvHH8FN4tOQlrLutQ69TkbD95g5C55jBKkgeq5PJylbGtYa36j3xL20xHfUn9lWw7C+FHtIpRT6Wi9vtwnlnrfIBQpyPrJEblA8EUj160XjLijDl2h7naoeVWXqwVIxDaEAcIv8gd4RH7tDICIP9rBAoWv6Ax1E+OBycDKUKLKY33Pug0xYKsMl0Bi/JeRHrj5GXrsFJJoIPmTCVznXBzsoIMAI1mQATpjIyunmpKXik/BV+dzGH0fo28N/RCKNnNSrOE0h1fM9daoj+DxdVYDFdhjYpclCRi8B47clI5QNgGpRYgq/cYspptWTn9ui96Qn0FpAbhDjAqVKLKf1eVKpuH+qojMCvl6WTx5CLQA/PbSP2xeUspmNRb/9j+P5lg1oBxsViE6IybCftyvsB8kvFeyyLfEr5f/sOIf9bkc+pdDcSpTMMsE/zGHzH/YsTq8PRzM4WGiVdDC76Y+7uO2gqX5ua+ginPTfjgvIUOEwcD5tpOkUvNFLpB1d3OjwXbUb0p6Am0cvM2Hr78djXGE8pkv1Snf7k60wOtJzYVKPl+QpeHMAF3Eysjf2FPqXcv41fIqgSl4aq7ycTplXPnJ2REWAEajoBJkxlZITTXPWxpWckvLSPULDOrzC7boHQzqMRZ+yH4y6dyGK2CsLFRzA3syKL6XCEaWXDmVJxvSB/xGF/BpQRpvd4n8zsrdfhovIP/o4bg37ipXzeiMgFmfQ+gbklEigXC9NOcO9D/+vFIsqsARr170eBQclwbt8ba/ofRP4uU6nkteP8Q43JPzRnvzmyiJ1hyixcCbGEAmUjsNbwhmZ4KCZROixhdhhstPfCNJmCn8iq6GdujXADT+yyU4M891uyrvY9G4Op3wkQZKqCI1Z3EDJc2mGoAkTPHowlsMZ87eY0QJfgtbwh3FOd0CPND+bW4TDw3AU7tZIqVcYspryIzOZdRMyzXKFvmIJZV0JgqSCKgHXT5l6eFEUWYZXdSHSiwhvIQ8wCYzgVLMbezcY0zyg7QZ+RuO8WT1kK5Cj2qScmywVW7NIgleu4ImFaZo4VtksW3USkwoydlBFgBBiBtxNgwlRGZkjW0eVYcUIemv2aQeH7ERhEofYF6UewxecwMtEDo2ZPhMG3T3HC1QWhmfXQecwkdPvNmz4D7S0Go1noEWSr90UHuS7QMe+DWhe94eWXjNyWaphsOxHNE1zgFv8Vxo7pjnRa+k3ObQm1ybaYpt6aCNzGoZ23oD5JFJGYn3EI3huP0nnbw8R+GtQFQVi76w+oz3OAhTiPZMoyVWz8Phm7TCUTDPbOYaGMA0d89iAxtz4UDM0woUQuTD6/afARnHj0DF+2MITZBHHmAlpejl67GCm9iqNNhRnH4BFwBq//+R+aG02Htc5bcp6+s1Gf6QdkCZ259Rz+Knm4vlPhY92bVsi56OgU9FrhiKKA2ZzT8N5+HOnZj1DwRQsoao3BkuGqn6kxH3uYAqQf8cGexFzUVyg5BlwxuETsDjqAu8KWUDUeiaFFeWZF0bH+mIjVVuLcmIIU7PQOxt03QO2uUzDf4m05Tz+2rR++X85pb2yPyYQgJx9o3AoK7fXFVuqycywHp723IyZTANFPFdBe3wbTdAoddD783GwPRoARYARqMgEmTGvy6Eqsb7Q8ru8MxUgKwJKSLpVY19iBGQFGgBFgBBgBRkBqBJgwlRr66njiNATP80BiwT1caLEMMau45Ve2MQKMACPACDACjAAj8HkIMGH6eTj+R45CkdZb1mLXH5r4edHwcqVO/yMQWDcZAUaAEWAEGAFGQEIEmDCVEFh2WEaAEWAEGAFGgBFgBBiBDyPAhOmH8WK/ZgQYAUaAEWAEGAFGgBGQEAEmTCUElh2WEWAEGAFGgBFgBBgBRuDDCHywMNXT0/uwM7BfMwKMACPACDACjAAjwAgwAiUImJqawt7evhyTDxamkyZNYmAZAUaAEWAEGAFGgBFgBBiBjybQo0ePzyNMP7oFbEdGgBFgBBgBRoARYAQYAUbgLQQ+2GLKaDICjAAjwAgwAowAI8AIMAKSIMCEqSSosmMyAowAI8AIMAKMACPACHwwASZMPxgZ24ERYAQYAUaAEWAEGAFGQBIEmDCVBFV2TEaAEWAEGAFGgBFgBBiBDybAhOkHI2M7MAKMACPACDACjAAjwAhIggATppKgyo7JCDACjAAjwAgwAowAI/DBBJgw/WBkbAdGgBFgBBgBRoARYAQYAUkQ+D+36FCaNwuFygAAAABJRU5ErkJggg==)"
   ]
  },
  {
   "cell_type": "markdown",
   "metadata": {
    "slideshow": {
     "slide_type": "skip"
    }
   },
   "source": [
    "<div class=\"alert alert-warning\"><a href=\"#answer3\" data-toggle=\"collapse\"><b>Hyper-parameters (click to expand)</b></a><br>\n",
    "<div id=\"answer3\" class=\"collapse\">\n",
    "\n",
    "Datasets : MNIST, CIFAR-10 and Tiny-ImageNet\n",
    "\n",
    "They use the $\\bar{k} = \\frac{(m-k)}{m}.100(\\%)$ $m$ the total number of parameters and $k$ the desired number of non-zero weights\n",
    "\n",
    "The sensitivity scores are computed using a batch of 100 and 128 examples for MNIST and CIFAR\n",
    "\n",
    "They train the models using SGD with momentum of .9, batch size of 100 and 128 and the weight decay rate of .0005 unless stated otherwise\n",
    "\n",
    "Initial learning rate is .1, decayed by .1 at every 25k or 30k iterations \n",
    "\n",
    "90-10 training-validation\n",
    "    \n",
    "LeNet-300-100 consists of three fc layers with 267k parameters\n",
    "LeNet-5-Caffe 2 fc with 431k param\n",
    "    \n",
    "</div>\n",
    "</div>"
   ]
  },
  {
   "cell_type": "markdown",
   "metadata": {
    "slideshow": {
     "slide_type": "skip"
    }
   },
   "source": [
    "https://arxiv.org/pdf/2002.07376.pdf\n",
    "\n",
    "https://github.com/mil-ad/snip\n",
    "\n",
    "Build on the same saliency criterion as in Mozer & Smolensky, but for training."
   ]
  },
  {
   "cell_type": "markdown",
   "metadata": {
    "slideshow": {
     "slide_type": "slide"
    }
   },
   "source": [
    "## GRASP (Gradient Signal Preservation)"
   ]
  },
  {
   "cell_type": "markdown",
   "metadata": {},
   "source": [
    "Another method Gradient Signal Preservation (GraSP)"
   ]
  },
  {
   "cell_type": "markdown",
   "metadata": {
    "slideshow": {
     "slide_type": "-"
    }
   },
   "source": [
    "When H is approximated as the identity matrix, the above criterion recovers SNIP up to the absolute value\n",
    "(recall the SNIP criterion is |δ>g|)\n",
    "\n",
    "if S(δ) is negative, then removing the corresponding weights\n",
    "will reduce the gradient flow, while if it is positive, it will increase the gradient flow.\n",
    "\n",
    "For a given pruning ratio p, we obtain the resulting pruning mask by computing the score of every\n",
    "weight, and removing the top p fraction of the weights (see Algorithm 1). Hence, GraSP takes the\n",
    "gradient flow into account for pruning\n",
    "\n",
    "\n",
    "https://github.com/alecwangcq/GraSP"
   ]
  },
  {
   "cell_type": "markdown",
   "metadata": {
    "slideshow": {
     "slide_type": "subslide"
    }
   },
   "source": [
    "\n",
    "$$\\max_c G (\\mathbf{\\theta}, c) = \\sum \\limits_{i: c_i = 0} - \\theta_i [\\mathbf{H} \\mathbf{g}]_i ~~ ,  c \\in \\{0,1\\}^m, ~||c_0|| = k$$  \n",
    "\n",
    "with $\\mathbf{H} = \\nabla^2 (\\mathcal{L}(\\theta_0))$ the Hessian Matrix of the loss and $\\mathbf{g} = \\nabla (\\mathcal{L} (\\theta_0))$ the gradient"
   ]
  },
  {
   "cell_type": "markdown",
   "metadata": {
    "slideshow": {
     "slide_type": "slide"
    }
   },
   "source": [
    "## Force"
   ]
  },
  {
   "cell_type": "markdown",
   "metadata": {
    "slideshow": {
     "slide_type": "-"
    }
   },
   "source": [
    "In 2020, following the recent discoveries in the field of pruning, de Jorge et al published a paper describing a novel pruning algorithm: FORCE (foresight connection sensitivity).\n",
    "\n",
    "In this work, we discovered that existing methods mostly perform below random pruning at\n",
    "extreme sparsity regime\n",
    "\n",
    "This algorithm applies the pruning before the training. Hence, not only the inference times drop, as the training times are also reduced.\n",
    "\n",
    "It is based on the saliency criteria introduced by Mozer et Smolensky in (1989), skeletonization. The difference lies in the fact that the saliency that is optimized is the one lying after pruning, rather than before."
   ]
  },
  {
   "cell_type": "markdown",
   "metadata": {
    "slideshow": {
     "slide_type": "subslide"
    }
   },
   "source": [
    "\n",
    "Let's recall the definition of the optimization process:\n",
    "\n",
    "A sequence of iterates of parameters $\\{\\theta_i\\}_{i=0}^{T}$ is produced during the training, with $\\theta_0$ the initial set of parameters and $\\theta_T$ the final one (leading to the minimal loss). In the classical pruning methods, one constraints the problem to reach a target sparsity level of $k<m$, to have $||\\theta_T|| \\leq k$.\n",
    "\n",
    "When the pruning is done at initialisation, the goal is to find an initialization $\\theta_0$ such that $||\\theta_0|| \\leq k$, the sequence following a specific topology during training."
   ]
  },
  {
   "cell_type": "markdown",
   "metadata": {
    "slideshow": {
     "slide_type": "subslide"
    }
   },
   "source": [
    "We set $\\mathbf{\\bar{\\theta}} = \\mathbf{\\theta} ⊙ \\mathbf{c}$ where $\\mathbf{c}$ is a binary mask (whether to remove the weight or not). We define the <b>connection sensitivity</b> $\\mathbf{g}$ at $\\mathbf{\\bar{\\theta}}$ for a given mask $\\mathbf{\\hat{c}}$ as:\n",
    "\n",
    "$$\\mathbf{g} (\\mathbf{\\bar{\\theta}}) = \\frac{\\partial \\mathcal{L} (\\bar{\\theta})}{\\partial \\mathbf{c}} \\Bigr|_{\\substack{\\mathbf{c} = \\mathbf{\\hat{c}}}} = \\frac{\\partial \\mathcal{L} (\\bar{\\theta})}{\\partial \\mathbf{\\bar{\\theta}}} \\Bigr|_{\\substack{\\mathbf{c} = \\mathbf{\\hat{c}}}} ⊙ \\frac{\\partial \\bar{\\theta}}{\\partial \\mathbf{c}} \\Bigr|_{\\substack{\\mathbf{c} = \\mathbf{\\hat{c}}}}\n",
    "= \\frac{\\partial \\mathcal{L} (\\bar{\\theta})}{\\partial \\mathbf{\\bar{\\theta}}} \\Bigr|_{\\substack{\\mathbf{c} = \\mathbf{\\hat{c}}}} ⊙ \\mathbf{\\theta}$$"
   ]
  },
  {
   "cell_type": "markdown",
   "metadata": {
    "slideshow": {
     "slide_type": "fragment"
    }
   },
   "source": [
    "<div class=\"alert alert-warning\"><b>Question</b><br>\n",
    "What happens when $\\hat{c} = 1$ ?\n",
    "</div>"
   ]
  },
  {
   "cell_type": "markdown",
   "metadata": {
    "slideshow": {
     "slide_type": "-"
    }
   },
   "source": [
    "<div class=\"alert alert-danger\"><a href=\"#answer4\" data-toggle=\"collapse\"><b>Ready to see the answer? (click to expand)</b></a><br>\n",
    "<div id=\"answer4\" class=\"collapse\">\n",
    "    \n",
    "   \n",
    "We retrieve the SNIP formulation !\n",
    "    \n",
    "\"It assumes that all the parameters are active in the network and they are removed one by one with replacement, therefore, it fails to capture the impact of removing a group of parameters\"\n",
    "    \n",
    "</div>\n",
    "</div>"
   ]
  },
  {
   "cell_type": "markdown",
   "metadata": {
    "slideshow": {
     "slide_type": "subslide"
    }
   },
   "source": [
    "#### Differences with SNIP and GRaSP\n",
    "\n",
    "- The formulation of the connection sensitivity depends directly on the pruned weights $\\mathbf{\\bar{\\theta}}$, when GRaSP and SNIP depend on the weights only.\n",
    "\n",
    "- In the case of extreme pruning ($||\\mathbf{\\hat{c}}||_0 << ||\\mathbf{1}||_0$), we have $||\\mathbf{\\theta} ⊙ \\mathbf{\\hat{c}}||_2 << ||\\mathbf{\\theta}||_2$ giving highly different gradient values\n"
   ]
  },
  {
   "cell_type": "markdown",
   "metadata": {
    "slideshow": {
     "slide_type": "subslide"
    }
   },
   "source": [
    "#### Objective function\n",
    "\n",
    "Find the best sub-network\n",
    "\n",
    "$$ \\max_c S(\\mathbf{\\theta}, \\mathbf{c}) =  \\sum \\limits_{i \\in supp(\\mathbf{c})} | \\theta_i \\nabla \\mathcal{L} (\\mathbf{\\theta} ⊙ \\mathbf{c})_i | ~~ ,  c \\in \\{0,1\\}^m, ~||c_0|| = k$$  \n",
    "\n",
    "Finding the optimal solution requires to compute all the gradients of all the sub-networks. We have to approximate the solution --> Difference with SNIP"
   ]
  },
  {
   "cell_type": "markdown",
   "metadata": {
    "slideshow": {
     "slide_type": "subslide"
    }
   },
   "source": [
    "#### Progressive Pruning\n",
    "\n",
    "The first solution is to use <b>progressive pruning</b> (also called iterative SNIP) with a homemade schedule $\\{k_t\\}_{t=1}^T,~k_T=k, ~k_t > k_{t+1}$ giving the pruning level:\n",
    "\n",
    "\n",
    "$$c_{t+1} = \\argmax_c S(\\mathbf{\\bar{\\theta}}, \\textbf{c}) ~~,c \\in \\{0,1\\}^m, ~||c_0|| = k_{t+1}, \\mathbf{c} ⊙ \\mathbf{c_t} = \\mathbf{c} $$ with $\\mathbf{\\bar{\\theta}} = \\theta ⊙ \\mathbf{c}_t$\n",
    "\n",
    "\"The second constraint ensures that no parameter that had been pruned ealier is activated again\". Indeed, let's consider this simple case:\n",
    "\n",
    "$\\mathbf{c} = \\begin{pmatrix} 1 & 1 \\\\ 0 & 1 \\end{pmatrix}$ and $\\mathbf{c_t} = \\begin{pmatrix} 0 & 0 \\\\ 0 & 1 \\end{pmatrix}$. This case is not possible, as it would mean that three parameters would be reactivated.\n",
    "\n",
    "The gradient approximation is then made: $\\frac{\\partial \\mathcal{L} (\\bar{\\theta})}{\\partial \\bar{\\theta}} \\Bigr|_{\\substack{\\mathbf{c}_t}} \\simeq \\frac{\\partial \\mathcal{L} (\\bar{\\theta})}{\\partial \\bar{\\theta}} \\Bigr|_{\\substack{\\mathbf{c}_{t+1}}}$, which lies if the pruning schedule is smooth, ie $||\\mathbf{c}_t||_0 \\simeq ||\\mathbf{c}_{t+1}||_0$\n"
   ]
  },
  {
   "cell_type": "markdown",
   "metadata": {
    "slideshow": {
     "slide_type": "subslide"
    }
   },
   "source": [
    "$\\DeclareMathOperator*{\\argmax}{arg\\,max}$\n",
    "#### Progressive sparsification (FORCE):\n",
    "\n",
    "In this method, the constraint $\\mathbf{c} ⊙ \\mathbf{c}_t = \\mathbf{c}$ is removed. It allows for parameters to resurrect, if they were removed at the beginning of the pruning. Thus, the weights are not removed but simply set to zero. They can have a non-zero gradient.\n",
    "\n",
    "The network is pruned afterward.\n",
    "\n"
   ]
  },
  {
   "cell_type": "markdown",
   "metadata": {
    "slideshow": {
     "slide_type": "subslide"
    }
   },
   "source": [
    "#### Sparsity Schedule\n",
    "\n",
    "We need to choose a schedule to iteratively prune the parameters, ie to choose a sequence $(k_t)_{t=1,\\dots,T}$ with $k_T = k$ and $\\forall t, ~k_t > k_{t+1}$. Futhermore, to respect the gradient approximation for the iterative SNIP case, the schedule needs to be smooth. The authors uses a simple exponential decay schedule:\n",
    "\n",
    "$$\\forall t,~k_t = \\exp(\\alpha \\log k + (1- \\alpha) \\log m), \\alpha = \\frac{t}{T}$$\n",
    "\n",
    "\n"
   ]
  },
  {
   "cell_type": "code",
   "execution_count": 1,
   "metadata": {
    "slideshow": {
     "slide_type": "subslide"
    }
   },
   "outputs": [
    {
     "data": {
      "text/plain": [
       "Text(0.5, 1.0, 'Numbers of parameters of the network given the iteration')"
      ]
     },
     "execution_count": 1,
     "metadata": {},
     "output_type": "execute_result"
    },
    {
     "data": {
      "image/png": "[encoded data removed]",
      "text/plain": [
       "<Figure size 432x288 with 1 Axes>"
      ]
     },
     "metadata": {
      "needs_background": "light"
     },
     "output_type": "display_data"
    }
   ],
   "source": [
    "import numpy as np\n",
    "import matplotlib.pyplot as plt\n",
    "\n",
    "T = 100\n",
    "k=10\n",
    "m=10000\n",
    "\n",
    "tv = list(range(T))\n",
    "kt = [np.exp(t/T * np.log(k) + (1-t/T) * np.log(m))  for t in range(T)]\n",
    "\n",
    "plt.scatter(tv, kt)\n",
    "plt.xlabel('Iteration')\n",
    "plt.ylabel('k')\n",
    "plt.title('Numbers of parameters of the network given the iteration')"
   ]
  },
  {
   "cell_type": "markdown",
   "metadata": {
    "slideshow": {
     "slide_type": "subslide"
    }
   },
   "source": [
    "\n",
    "The resulting algorithm is the following:\n",
    "\n",
    "<b>Inputs</b>: \n",
    "A training set $\\mathcal{D}$, \n",
    "The desired sparsity level $k$, \n",
    "The number of steps (ie size of the sparsity schedule), \n",
    "The initial weights $\\theta_0 \\in \\mathcal{R}^m$, \n",
    "\n",
    "<b> Compute the sparsity schedule (for instance the exponential decay) </b>\n",
    "\n",
    "<b>Initialize</b> the initial mask , $\\mathbf{c}_0 = \\mathbf{1}$\n",
    "\n",
    "<b>Repeat for</b> $t=0, \\dots, T-1$:\n",
    "- Sample mini-batch $\\{z_i\\}_{i=1}^n$ from the training set $\\mathcal{D}$\n",
    "- Define $\\mathbf{\\bar{\\theta}} = \\mathbf{\\theta} ⊙ \\mathbf{c}_t$\n",
    "- Compute $\\mathbf{g}(\\mathbf{\\bar{\\theta}}) = \\frac{\\partial \\mathcal{L} (\\bar{\\theta})}{\\partial \\bar{\\theta}} \\Bigr|_{\\substack{\\mathbf{c} = \\mathbf{c}_t}} ⊙ \\mathbf{\\theta}$\n",
    "- Get the top-$k_{t+1}$ values of $|\\mathbf{g}_i| $ ie $I=\\{i_1, \\dots, i_{k_{t+1}}\\}$\n",
    "- Build $c_{t+1}$ setting to $0$ all indices not included in $I$\n",
    "\n",
    "\n",
    "<b>Return</b> $c_T$\n",
    "\n",
    "\n",
    "\n"
   ]
  },
  {
   "cell_type": "markdown",
   "metadata": {
    "slideshow": {
     "slide_type": "subslide"
    }
   },
   "source": [
    "Mathematically, it can be shown that <b>each intermediate mask obtained with iterative SNIP is an approximate local minima </b> where the degree of sub-optimality increases with the pruning step size."
   ]
  },
  {
   "cell_type": "markdown",
   "metadata": {},
   "source": [
    "<div class=\"alert alert-warning\"><a href=\"#answer3\" data-toggle=\"collapse\"><b>Demonstration of convergence</b></a><br>\n",
    "<div id=\"answer3\" class=\"collapse\">\n",
    "\n",
    "Datasets : MNIST, CIFAR-10 and Tiny-ImageNet\n",
    "\n",
    "They use the $\\bar{k} = \\frac{(m-k)}{m}.100(\\%)$ $m$ the total number of parameters and $k$ the desired number of non-zero weights\n",
    "\n",
    "The sensitivity scores are computed using a batch of 100 and 128 examples for MNIST and CIFAR\n",
    "\n",
    "They train the models using SGD with momentum of .9, batch size of 100 and 128 and the weight decay rate of .0005 unless stated otherwise\n",
    "\n",
    "Initial learning rate is .1, decayed by .1 at every 25k or 30k iterations \n",
    "\n",
    "90-10 training-validation\n",
    "    \n",
    "LeNet-300-100 consists of three fc layers with 267k parameters\n",
    "LeNet-5-Caffe 2 fc with 431k param\n",
    "    \n",
    "</div>\n",
    "</div>"
   ]
  },
  {
   "cell_type": "markdown",
   "metadata": {
    "slideshow": {
     "slide_type": "subslide"
    }
   },
   "source": [
    "## Implementation"
   ]
  },
  {
   "cell_type": "markdown",
   "metadata": {},
   "source": [
    "https://github.com/naver/force"
   ]
  },
  {
   "cell_type": "markdown",
   "metadata": {
    "slideshow": {
     "slide_type": "slide"
    }
   },
   "source": [
    "# Results of the different pruning methods"
   ]
  },
  {
   "cell_type": "markdown",
   "metadata": {},
   "source": [
    "Comparison on CIFAR10 and CIFAR100 datasets of two architectures (Resnet50 and VGG19)"
   ]
  },
  {
   "cell_type": "markdown",
   "metadata": {
    "slideshow": {
     "slide_type": "subslide"
    }
   },
   "source": [
    "#### Results on the training sets\n",
    "\n",
    "<center><img src=\"images/results_force.png\" /></center>\n",
    "\n",
    "\n",
    "Very high pruning levels, removing layer collapse"
   ]
  },
  {
   "cell_type": "markdown",
   "metadata": {
    "slideshow": {
     "slide_type": "subslide"
    }
   },
   "source": [
    "#### Results on the test sets\n",
    "\n",
    "<br />\n",
    "\n",
    "<center><img src=\"images/results_force_2.png\" /></center>\n",
    "\n"
   ]
  },
  {
   "cell_type": "markdown",
   "metadata": {
    "slideshow": {
     "slide_type": "subslide"
    }
   },
   "source": [
    "#### Results at different pruning levels\n",
    "\n",
    "<img src=\"images/results_force_3.png\" />\n",
    "\n",
    "\n",
    "\n",
    "\"no approach before has pruned a network at initialization to such extremes while keeping the network trainable\"\n",
    "\n",
    "Random pruning sometimes better"
   ]
  },
  {
   "cell_type": "markdown",
   "metadata": {
    "slideshow": {
     "slide_type": "subslide"
    }
   },
   "source": [
    "#### Computation times\n",
    "\n",
    "<center><img src=\"images/force_time.png\" width=600px/></center>\n"
   ]
  },
  {
   "cell_type": "markdown",
   "metadata": {
    "slideshow": {
     "slide_type": "subslide"
    }
   },
   "source": [
    "#### Evolution of the pruning with the two methods of FORCE (iterative SNIP and FORCE)\n",
    "\n",
    "<center><img src=\"images/force_evolution_weights.png\" /></center>\n",
    "\n",
    "Force shows an exploration phase then a convergence phase during pruning (peak)"
   ]
  },
  {
   "cell_type": "markdown",
   "metadata": {
    "slideshow": {
     "slide_type": "subslide"
    }
   },
   "source": [
    "#### Weights Repartition\n",
    "\n",
    "<center><img src=\"Images/weights_force.png\" width=900px/></center>"
   ]
  },
  {
   "cell_type": "markdown",
   "metadata": {
    "slideshow": {
     "slide_type": "slide"
    }
   },
   "source": [
    "## SynFlow"
   ]
  },
  {
   "cell_type": "markdown",
   "metadata": {},
   "source": [
    "Layer-collapse (premature pruning of an entire layer making a network untrainable) for SNIP and GRASP ?\n",
    "\n",
    "<center><img src=\"images/SynFlow_layer_collapse.png\" width=600px/></center>\n"
   ]
  },
  {
   "cell_type": "markdown",
   "metadata": {
    "slideshow": {
     "slide_type": "subslide"
    }
   },
   "source": [
    "#### Interesting definitions and lemmas: \n",
    "\n",
    "<b>Compression ratio (ρ)</b>: the number of parameters in the original network divided by the number of parameters remaining after pruning. $\\rho_{max} = \\frac{N}{L}$\n",
    "\n",
    "<b>Critical compression (ρcr)</b>:  is the maximal compression ratio a given algorithm can achieve without inducing layer-collapse.\n",
    "\n",
    "<b>Lemma (Maximal Critical Compression)</b>: The critical compression of a pruning algorithm applied to a network should always equal the max compression of that network\n",
    "\n",
    "In other words, this axiom implies a pruning algorithm should never prune a set of parameters that results in layer collapse if there exists another set of the same cardinality that will keep the network trainable.\n"
   ]
  },
  {
   "cell_type": "markdown",
   "metadata": {
    "slideshow": {
     "slide_type": "slide"
    }
   },
   "source": [
    "# Application "
   ]
  },
  {
   "cell_type": "markdown",
   "metadata": {},
   "source": [
    "- Relation with: \"How to learn sparse and binary CNNs\"\n",
    "    --> Apply these methods with MCMC\n",
    "    \n",
    "- For now, only magnitude pruning\n",
    "\n"
   ]
  },
  {
   "cell_type": "markdown",
   "metadata": {
    "slideshow": {
     "slide_type": "slide"
    }
   },
   "source": [
    "## References "
   ]
  },
  {
   "cell_type": "markdown",
   "metadata": {},
   "source": [
    "[1] M. C. Mozer et P. Smolensky, « Skeletonization: A Technique for Trimming the Fat from a Network via Relevance Assessment », 1988.\n",
    "\n",
    "[2]Y. LeCun, J. S. Denker, et S. A. Solla, « Optimal Brain Damage », 1989.\n",
    "\n",
    "\n",
    "[3]N. Lee, T. Ajanthan, et P. H. S. Torr, « SNIP: Single-shot Network Pruning based on Connection Sensitivity », arXiv:1810.02340 [cs], févr. 2019, Consulté le: 21 janvier 2022. [En ligne]. Disponible sur: http://arxiv.org/abs/1810.02340\n",
    "\n",
    "\n",
    "[4]C. Wang, G. Zhang, et R. Grosse, « Picking Winning Tickets Before Training by Preserving Gradient Flow », arXiv:2002.07376 [cs, stat], août 2020, Consulté le: janv. 03, 2022. [En ligne]. Disponible sur: http://arxiv.org/abs/2002.07376\n",
    "\n",
    "\n",
    "[5]P. de Jorge, A. Sanyal, H. S. Behl, P. H. S. Torr, G. Rogez, et P. K. Dokania, « Progressive Skeletonization: Trimming more fat from a network at initialization », arXiv:2006.09081 [cs], mars 2021, Consulté le: janv. 03, 2022. [En ligne]. Disponible sur: http://arxiv.org/abs/2006.09081\n",
    "\n",
    "[6]H. Tanaka, D. Kunin, D. L. K. Yamins, et S. Ganguli, « Pruning neural networks without any data by iteratively conserving synaptic flow », arXiv:2006.05467 [cond-mat, q-bio, stat], nov. 2020, Consulté le: janv. 10, 2022. [En ligne]. Disponible sur: http://arxiv.org/abs/2006.05467\n"
   ]
  },
  {
   "cell_type": "markdown",
   "metadata": {
    "slideshow": {
     "slide_type": "slide"
    }
   },
   "source": [
    "## Implementations"
   ]
  },
  {
   "cell_type": "markdown",
   "metadata": {},
   "source": [
    "GRASP:\n",
    "https://github.com/alecwangcq/GraSP (official)\n",
    "\n",
    "SNIP: \n",
    "https://github.com/namhoonlee/snip-public (official Tensorflow)\n",
    "https://github.com/mil-ad/snip (official Pytorch)\n",
    "\n",
    "FORCE: https://github.com/naver/force (official)\n",
    "\n",
    "\n",
    "\n",
    "Pruning after training: https://github.com/jjgo/shrinkbench"
   ]
  }
 ],
 "metadata": {
  "celltoolbar": "Diaporama",
  "kernelspec": {
   "display_name": "Python 3",
   "language": "python",
   "name": "python3"
  },
  "language_info": {
   "codemirror_mode": {
    "name": "ipython",
    "version": 3
   },
   "file_extension": ".py",
   "mimetype": "text/x-python",
   "name": "python",
   "nbconvert_exporter": "python",
   "pygments_lexer": "ipython3",
   "version": "3.8.8"
  }
 },
 "nbformat": 4,
 "nbformat_minor": 4
}
